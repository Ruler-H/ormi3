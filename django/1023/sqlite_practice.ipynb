{
 "cells": [
  {
   "cell_type": "code",
   "execution_count": 1,
   "metadata": {},
   "outputs": [],
   "source": [
    "import sqlite3\n",
    "\n",
    "conn = sqlite3.connect('ex1.db')\n",
    "c = conn.cursor()\n",
    "\n",
    "c.execute('''\n",
    "    CREATE TABLE books (id integer, title text, price integer)\n",
    "''')\n",
    "\n",
    "c.execute('''\n",
    "    INSERT INTO books VALUES (1, 'python 가이드', 5000)\n",
    "''')\n",
    "\n",
    "c.execute('''\n",
    "    INSERT INTO books VALUES (2, 'js 가이드', 5000)\n",
    "''')\n",
    "\n",
    "conn.commit()\n",
    "conn.close()"
   ]
  },
  {
   "cell_type": "code",
   "execution_count": 2,
   "metadata": {},
   "outputs": [
    {
     "name": "stdout",
     "output_type": "stream",
     "text": [
      "(1, 'python 가이드', 5000)\n",
      "(2, 'js 가이드', 5000)\n"
     ]
    }
   ],
   "source": [
    "conn = sqlite3.connect('ex1.db')\n",
    "c = conn.cursor()\n",
    "\n",
    "for row in c.execute('SELECT * FROM books ORDER BY id'):\n",
    "    print(row)\n",
    "\n",
    "# 연결 종료\n",
    "conn.close()"
   ]
  },
  {
   "cell_type": "code",
   "execution_count": 5,
   "metadata": {},
   "outputs": [],
   "source": [
    "conn = sqlite3.connect('ex2.db')\n",
    "c = conn.cursor()\n",
    "\n",
    "\n",
    "# c.execute('''\n",
    "#     CREATE TABLE books (id integer, title text, price integer)\n",
    "# ''')\n",
    "for i in range(10):\n",
    "    c.execute(f\"INSERT INTO books VALUES ({i}, 'python 가이드', {i*1000})\")\n",
    "\n",
    "conn.commit()\n",
    "conn.close()"
   ]
  },
  {
   "cell_type": "code",
   "execution_count": 6,
   "metadata": {},
   "outputs": [
    {
     "name": "stdout",
     "output_type": "stream",
     "text": [
      "(0, 'python 가이드', 0)\n",
      "(1, 'python 가이드', 1000)\n",
      "(2, 'python 가이드', 2000)\n",
      "(3, 'python 가이드', 3000)\n",
      "(4, 'python 가이드', 4000)\n",
      "(5, 'python 가이드', 5000)\n",
      "(6, 'python 가이드', 6000)\n",
      "(7, 'python 가이드', 7000)\n",
      "(8, 'python 가이드', 8000)\n",
      "(9, 'python 가이드', 9000)\n"
     ]
    }
   ],
   "source": [
    "conn = sqlite3.connect('ex2.db')\n",
    "c = conn.cursor()\n",
    "\n",
    "for row in c.execute('SELECT * FROM books ORDER BY id'):\n",
    "    print(row)\n",
    "\n",
    "# 연결 종료\n",
    "conn.close()"
   ]
  },
  {
   "cell_type": "code",
   "execution_count": 7,
   "metadata": {},
   "outputs": [],
   "source": [
    "## 실습 3\n",
    "import sqlite3\n",
    "\n",
    "data = {\n",
    "    'id': [1, 2, 3],\n",
    "    'title': ['1', '2', '3'],\n",
    "    'content': ['11', '22', '33', '44', '55']\n",
    "}\n",
    "\n",
    "# 데이터베이스에 연결\n",
    "conn = sqlite3.connect('ex3.db')\n",
    "\n",
    "# 커서 생성\n",
    "cursor = conn.cursor()\n",
    "\n",
    "# post 테이블 생성\n",
    "cursor.execute('CREATE TABLE post (id INTEGER, title TEXT, content TEXT)')\n",
    "\n",
    "# 데이터 삽입\n",
    "for i in range(len(data['id'])):\n",
    "    cursor.execute('INSERT INTO post VALUES (?, ?, ?)', (data['id'][i], data['title'][i], data['content'][i]))\n",
    "\n",
    "# 커밋(변경 사항 저장)\n",
    "conn.commit()\n",
    "\n",
    "# 연결 닫기\n",
    "conn.close()"
   ]
  },
  {
   "cell_type": "code",
   "execution_count": 8,
   "metadata": {},
   "outputs": [
    {
     "name": "stdout",
     "output_type": "stream",
     "text": [
      "(1, '1', '11')\n",
      "(2, '2', '22')\n",
      "(3, '3', '33')\n"
     ]
    }
   ],
   "source": [
    "conn = sqlite3.connect('ex3.db')\n",
    "c = conn.cursor()\n",
    "\n",
    "for row in c.execute('SELECT * FROM post ORDER BY id'):\n",
    "    print(row)\n",
    "\n",
    "# 연결 종료\n",
    "conn.close()"
   ]
  },
  {
   "cell_type": "code",
   "execution_count": 11,
   "metadata": {},
   "outputs": [],
   "source": [
    "# 실습 4\n",
    "conn = sqlite3.connect('db.sqlite3')\n",
    "c = conn.cursor()\n",
    "\n",
    "for row in c.execute('select * from blog_movie'):\n",
    "    print(row)\n",
    "\n",
    "conn.close()"
   ]
  },
  {
   "cell_type": "code",
   "execution_count": 15,
   "metadata": {},
   "outputs": [],
   "source": [
    "import requests\n",
    "from bs4 import BeautifulSoup\n",
    "\n",
    "url = 'https://paullab.co.kr/bookservice/'\n",
    "response = requests.get(url)\n",
    "\n",
    "response.encoding = 'utf-8'\n",
    "html = response.text\n",
    "\n",
    "soup = BeautifulSoup(html, 'html.parser')\n",
    "book_list = soup.select('.book_name')\n",
    "data = []\n",
    "for book in book_list:\n",
    "    data.append([book.text, 10])\n",
    "# print(soup.title)                      # title 태그 출력\n",
    "# print(soup.find('title'))              # title 태그 출력\n",
    "# print(soup.find(id='content'))         # id 가 'content'인 태그 출력\n",
    "\n",
    "# print(soup.find_all('a'))              # 모든 a 태그 출력\n",
    "# print(soup.select('#content'))         # id 가 'content'인 모든 태그 출력 \n",
    "# print(soup.select('.container > a'))   # 'container' class 안에 모든 a 태그 출력"
   ]
  },
  {
   "cell_type": "code",
   "execution_count": 16,
   "metadata": {},
   "outputs": [
    {
     "data": {
      "text/plain": [
       "[['메모혁신 Notion(노션) 활용 가이드', 10],\n",
       " ['이력서 작성 가이드', 10],\n",
       " ['제주코딩베이스캠프 Code Festival: Python 100제 1부', 10],\n",
       " ['튜토리얼로 배우는 HTML&CSS', 10],\n",
       " ['코딩도장 튜토리얼로 배우는 Python 1편 object', 10],\n",
       " ['코딩도장 튜토리얼로 배우는 python 2편 제어문', 10],\n",
       " ['코딩도장 튜토리얼로 배우는 Python 문제풀이', 10],\n",
       " ['타노스의 건틀릿 알고리즘 With Python', 10],\n",
       " ['xlsxwriter 튜토리얼로 배우는 Python 엑셀 프로그래밍', 10],\n",
       " ['러플 튜토리얼로 배우는 Python', 10],\n",
       " ['인공지능을 활용한 업무자동화 With Google Developers Group JEJU', 10]]"
      ]
     },
     "execution_count": 16,
     "metadata": {},
     "output_type": "execute_result"
    }
   ],
   "source": [
    "data"
   ]
  },
  {
   "cell_type": "code",
   "execution_count": 21,
   "metadata": {},
   "outputs": [],
   "source": [
    "# 실습 4\n",
    "conn = sqlite3.connect('db.sqlite3')\n",
    "c = conn.cursor()\n",
    "\n",
    "for i in range(len(data)):\n",
    "    c.execute(f'INSERT INTO blog_movie VALUES ({i+1}, \"{data[i][0]}\", {data[i][1]})')\n",
    "\n",
    "conn.commit()\n",
    "\n",
    "\n",
    "conn.close()"
   ]
  },
  {
   "cell_type": "code",
   "execution_count": 22,
   "metadata": {},
   "outputs": [
    {
     "name": "stdout",
     "output_type": "stream",
     "text": [
      "(1, '메모혁신 Notion(노션) 활용 가이드', 10)\n",
      "(2, '이력서 작성 가이드', 10)\n",
      "(3, '제주코딩베이스캠프 Code Festival: Python 100제 1부', 10)\n",
      "(4, '튜토리얼로 배우는 HTML&CSS', 10)\n",
      "(5, '코딩도장 튜토리얼로 배우는 Python 1편 object', 10)\n",
      "(6, '코딩도장 튜토리얼로 배우는 python 2편 제어문', 10)\n",
      "(7, '코딩도장 튜토리얼로 배우는 Python 문제풀이', 10)\n",
      "(8, '타노스의 건틀릿 알고리즘 With Python', 10)\n",
      "(9, 'xlsxwriter 튜토리얼로 배우는 Python 엑셀 프로그래밍', 10)\n",
      "(10, '러플 튜토리얼로 배우는 Python', 10)\n",
      "(11, '인공지능을 활용한 업무자동화 With Google Developers Group JEJU', 10)\n"
     ]
    }
   ],
   "source": [
    "conn = sqlite3.connect('db.sqlite3')\n",
    "c = conn.cursor()\n",
    "\n",
    "for row in c.execute('SELECT * FROM blog_movie ORDER BY id'):\n",
    "    print(row)\n",
    "\n",
    "# 연결 종료\n",
    "conn.close()"
   ]
  },
  {
   "cell_type": "code",
   "execution_count": null,
   "metadata": {},
   "outputs": [],
   "source": [
    "import sqlite3\n",
    "conn = sqlite3.connect('crawl.db')"
   ]
  }
 ],
 "metadata": {
  "kernelspec": {
   "display_name": "Python 3",
   "language": "python",
   "name": "python3"
  },
  "language_info": {
   "codemirror_mode": {
    "name": "ipython",
    "version": 3
   },
   "file_extension": ".py",
   "mimetype": "text/x-python",
   "name": "python",
   "nbconvert_exporter": "python",
   "pygments_lexer": "ipython3",
   "version": "3.12.0"
  }
 },
 "nbformat": 4,
 "nbformat_minor": 2
}

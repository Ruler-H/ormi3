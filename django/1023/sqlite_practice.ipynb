{
 "cells": [
  {
   "cell_type": "code",
   "execution_count": null,
   "metadata": {},
   "outputs": [],
   "source": [
    "import sqlite3\n",
    "\n",
    "conn = sqlite3.connect('ex1.db')\n",
    "c = conn.cursor()\n",
    "\n",
    "c.execute('''\n",
    "    CREATE TABLE books (id integer, title text, price integer)\n",
    "''')\n",
    "\n",
    "c.execute('''\n",
    "    INSERT INTO books VALUES (1, 'python 가이드', 5000)\n",
    "''')\n",
    "\n",
    "c.execute('''\n",
    "    INSERT INTO books VALUES (2, 'js 가이드', 5000)\n",
    "''')\n",
    "\n",
    "conn.commit()\n",
    "conn.close()"
   ]
  },
  {
   "cell_type": "code",
   "execution_count": null,
   "metadata": {},
   "outputs": [],
   "source": [
    "conn = sqlite3.connect('ex1.db')\n",
    "c = conn.cursor()\n",
    "\n",
    "for row in c.execute('SELECT * FROM books ORDER BY id'):\n",
    "    print(row)\n",
    "\n",
    "# 연결 종료\n",
    "conn.close()"
   ]
  },
  {
   "cell_type": "code",
   "execution_count": null,
   "metadata": {},
   "outputs": [],
   "source": [
    "conn = sqlite3.connect('ex2.db')\n",
    "c = conn.cursor()\n",
    "\n",
    "\n",
    "# c.execute('''\n",
    "#     CREATE TABLE books (id integer, title text, price integer)\n",
    "# ''')\n",
    "for i in range(10):\n",
    "    c.execute(f\"INSERT INTO books VALUES ({i}, 'python 가이드', {i*1000})\")\n",
    "\n",
    "conn.commit()\n",
    "conn.close()"
   ]
  },
  {
   "cell_type": "code",
   "execution_count": null,
   "metadata": {},
   "outputs": [],
   "source": [
    "conn = sqlite3.connect('ex2.db')\n",
    "c = conn.cursor()\n",
    "\n",
    "for row in c.execute('SELECT * FROM books ORDER BY id'):\n",
    "    print(row)\n",
    "\n",
    "# 연결 종료\n",
    "conn.close()"
   ]
  },
  {
   "cell_type": "code",
   "execution_count": null,
   "metadata": {},
   "outputs": [],
   "source": [
    "## 실습 3\n",
    "import sqlite3\n",
    "\n",
    "data = {\n",
    "    'id': [1, 2, 3],\n",
    "    'title': ['1', '2', '3'],\n",
    "    'content': ['11', '22', '33', '44', '55']\n",
    "}\n",
    "\n",
    "# 데이터베이스에 연결\n",
    "conn = sqlite3.connect('ex3.db')\n",
    "\n",
    "# 커서 생성\n",
    "cursor = conn.cursor()\n",
    "\n",
    "# post 테이블 생성\n",
    "cursor.execute('CREATE TABLE post (id INTEGER, title TEXT, content TEXT)')\n",
    "\n",
    "# 데이터 삽입\n",
    "for i in range(len(data['id'])):\n",
    "    cursor.execute('INSERT INTO post VALUES (?, ?, ?)', (data['id'][i], data['title'][i], data['content'][i]))\n",
    "\n",
    "# 커밋(변경 사항 저장)\n",
    "conn.commit()\n",
    "\n",
    "# 연결 닫기\n",
    "conn.close()"
   ]
  },
  {
   "cell_type": "code",
   "execution_count": null,
   "metadata": {},
   "outputs": [],
   "source": [
    "conn = sqlite3.connect('ex3.db')\n",
    "c = conn.cursor()\n",
    "\n",
    "for row in c.execute('SELECT * FROM post ORDER BY id'):\n",
    "    print(row)\n",
    "\n",
    "# 연결 종료\n",
    "conn.close()"
   ]
  },
  {
   "cell_type": "code",
   "execution_count": null,
   "metadata": {},
   "outputs": [],
   "source": [
    "# 실습 4\n",
    "conn = sqlite3.connect('db.sqlite3')\n",
    "c = conn.cursor()\n",
    "\n",
    "for row in c.execute('select * from blog_movie'):\n",
    "    print(row)\n",
    "\n",
    "conn.close()"
   ]
  },
  {
   "cell_type": "code",
   "execution_count": null,
   "metadata": {},
   "outputs": [],
   "source": [
    "import requests\n",
    "from bs4 import BeautifulSoup\n",
    "\n",
    "url = 'https://paullab.co.kr/bookservice/'\n",
    "response = requests.get(url)\n",
    "\n",
    "response.encoding = 'utf-8'\n",
    "html = response.text\n",
    "\n",
    "soup = BeautifulSoup(html, 'html.parser')\n",
    "book_list = soup.select('.book_name')\n",
    "data = []\n",
    "for book in book_list:\n",
    "    data.append([book.text, 10])\n",
    "# print(soup.title)                      # title 태그 출력\n",
    "# print(soup.find('title'))              # title 태그 출력\n",
    "# print(soup.find(id='content'))         # id 가 'content'인 태그 출력\n",
    "\n",
    "# print(soup.find_all('a'))              # 모든 a 태그 출력\n",
    "# print(soup.select('#content'))         # id 가 'content'인 모든 태그 출력 \n",
    "# print(soup.select('.container > a'))   # 'container' class 안에 모든 a 태그 출력"
   ]
  },
  {
   "cell_type": "code",
   "execution_count": null,
   "metadata": {},
   "outputs": [],
   "source": [
    "data"
   ]
  },
  {
   "cell_type": "code",
   "execution_count": null,
   "metadata": {},
   "outputs": [],
   "source": [
    "# 실습 4\n",
    "conn = sqlite3.connect('db.sqlite3')\n",
    "c = conn.cursor()\n",
    "\n",
    "for i in range(len(data)):\n",
    "    c.execute(f'INSERT INTO blog_movie VALUES ({i+1}, \"{data[i][0]}\", {data[i][1]})')\n",
    "\n",
    "conn.commit()\n",
    "\n",
    "\n",
    "conn.close()"
   ]
  },
  {
   "cell_type": "code",
   "execution_count": null,
   "metadata": {},
   "outputs": [],
   "source": [
    "conn = sqlite3.connect('db.sqlite3')\n",
    "c = conn.cursor()\n",
    "\n",
    "for row in c.execute('SELECT * FROM blog_movie ORDER BY id'):\n",
    "    print(row)\n",
    "\n",
    "# 연결 종료\n",
    "conn.close()"
   ]
  },
  {
   "cell_type": "code",
   "execution_count": null,
   "metadata": {},
   "outputs": [],
   "source": [
    "import sqlite3\n",
    "\n",
    "# 데이터베이스, 테이블 생성\n",
    "conn = sqlite3.connect('db.sqlite3')\n",
    "c = conn.cursor()\n",
    "\n",
    "# django에서 생성한 테이블을 사용하여서 코드는 미실행\n",
    "# c.execute('CREATE TABLE blog_book (id INTEGER, title TEXT, price INTEGER, author TEXT)')\n",
    "\n",
    "conn.commit()\n",
    "conn.close()"
   ]
  },
  {
   "cell_type": "code",
   "execution_count": null,
   "metadata": {},
   "outputs": [],
   "source": [
    "import requests\n",
    "from bs4 import BeautifulSoup\n",
    "\n",
    "# 크롤링 대상 크롤링 코드\n",
    "url = 'https://paullab.co.kr/bookservice/'\n",
    "response = requests.get(url)\n",
    "\n",
    "response.encoding = 'utf-8'\n",
    "html = response.text\n",
    "\n",
    "soup = BeautifulSoup(html, 'html.parser')\n",
    "book_info_list = soup.select('.book_detail')\n",
    "\n",
    "conn = sqlite3.connect('db.sqlite3')\n",
    "c = conn.cursor()\n",
    "for idx, book_info in enumerate(book_info_list):\n",
    "    index = idx+1\n",
    "    title = book_info.select('.book_name')[0].text\n",
    "    price = book_info.select('.book_info')[0].text.split(': ')[-1].replace('원', '').replace(',', '').replace('무료', '0')\n",
    "    author = book_info.select('.book_info')[1].text.split(': ')[-1]\n",
    "    c.execute(f'INSERT INTO blog_book VALUES ({index}, \"{title}\", {price}, \"{author}\")')\n",
    "\n",
    "conn.commit()\n",
    "conn.close()"
   ]
  },
  {
   "cell_type": "code",
   "execution_count": null,
   "metadata": {},
   "outputs": [],
   "source": [
    "# 데이터베이스 Read\n",
    "conn = sqlite3.connect('db.sqlite3')\n",
    "c = conn.cursor()\n",
    "for data in c.execute('SELECT * FROM blog_book'):\n",
    "    print(data)\n",
    "conn.close()"
   ]
  },
  {
   "cell_type": "code",
   "execution_count": null,
   "metadata": {},
   "outputs": [],
   "source": [
    "!python mana"
   ]
  }
 ],
 "metadata": {
  "kernelspec": {
   "display_name": "Python 3",
   "language": "python",
   "name": "python3"
  },
  "language_info": {
   "codemirror_mode": {
    "name": "ipython",
    "version": 3
   },
   "file_extension": ".py",
   "mimetype": "text/x-python",
   "name": "python",
   "nbconvert_exporter": "python",
   "pygments_lexer": "ipython3",
   "version": "3.12.0"
  }
 },
 "nbformat": 4,
 "nbformat_minor": 2
}

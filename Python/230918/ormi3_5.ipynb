{
 "cells": [
  {
   "cell_type": "markdown",
   "metadata": {},
   "source": [
    "# 클래스 변수와 인스턴스 변수"
   ]
  },
  {
   "cell_type": "code",
   "execution_count": 1,
   "metadata": {},
   "outputs": [
    {
     "name": "stdout",
     "output_type": "stream",
     "text": [
      "300\n",
      "300\n",
      "500\n"
     ]
    }
   ],
   "source": [
    "class Car:\n",
    "    # 클래스 변수의 위치\n",
    "    max_speed = 300\n",
    "    max_people = 5\n",
    "    car_gear = ['P', 'D', 'R', 'N']\n",
    "\n",
    "modelx = Car()\n",
    "modely = Car()\n",
    "\n",
    "modely.max_speed = 500\n",
    "\n",
    "print(Car.max_speed)\n",
    "print(modelx.max_speed)\n",
    "print(modely.max_speed)"
   ]
  },
  {
   "cell_type": "code",
   "execution_count": 2,
   "metadata": {},
   "outputs": [
    {
     "name": "stdout",
     "output_type": "stream",
     "text": [
      "modelx.kinds: ['x', 'y']\n",
      "modely.kinds: ['x', 'y']\n",
      "modelx.speed: 100\n",
      "modely.speed: 100\n"
     ]
    }
   ],
   "source": [
    "class Car:\n",
    "    kinds = []\n",
    "    speed = 300\n",
    "\n",
    "    def add_kinds(self, name):\n",
    "        self.kinds.append(name)\n",
    "\n",
    "    def change_speed(self, speed):\n",
    "        self.speed = speed\n",
    "\n",
    "modelx = Car()\n",
    "modely = Car()\n",
    "\n",
    "modelx.add_kinds('x')\n",
    "modely.add_kinds('y')\n",
    "\n",
    "Car.speed = 100\n",
    "\n",
    "# modelx.change_speed(500)\n",
    "# modely.change_speed(250)\n",
    "\n",
    "print(f'modelx.kinds: {modelx.kinds}')\n",
    "print(f'modely.kinds: {modely.kinds}')\n",
    "print(f'modelx.speed: {modelx.speed}')\n",
    "print(f'modely.speed: {modely.speed}')"
   ]
  },
  {
   "cell_type": "code",
   "execution_count": 3,
   "metadata": {},
   "outputs": [
    {
     "name": "stdout",
     "output_type": "stream",
     "text": [
      "modelx.speed: 500\n",
      "modely.speed: 250\n"
     ]
    }
   ],
   "source": [
    "class Car:\n",
    "    kinds = []\n",
    "    speed = 300\n",
    "\n",
    "    def add_kinds(self, name):\n",
    "        self.kinds.append(name)\n",
    "\n",
    "    def change_speed(self, speed):\n",
    "        self.speed = speed\n",
    "\n",
    "modelx = Car()\n",
    "modely = Car()\n",
    "\n",
    "# Car.speed = 100\n",
    "\n",
    "modelx.change_speed(500)\n",
    "modely.change_speed(250)\n",
    "\n",
    "print(f'modelx.speed: {modelx.speed}')\n",
    "print(f'modely.speed: {modely.speed}')"
   ]
  },
  {
   "cell_type": "code",
   "execution_count": 4,
   "metadata": {},
   "outputs": [
    {
     "name": "stdout",
     "output_type": "stream",
     "text": [
      "[100]\n"
     ]
    }
   ],
   "source": [
    "kinds = []\n",
    "\n",
    "def add_kinds(value):\n",
    "\tkinds.append(value)\n",
    "\n",
    "add_kinds(100)\n",
    "print(kinds)"
   ]
  },
  {
   "cell_type": "code",
   "execution_count": 5,
   "metadata": {},
   "outputs": [
    {
     "name": "stdout",
     "output_type": "stream",
     "text": [
      "[]\n"
     ]
    }
   ],
   "source": [
    "kinds = []\n",
    "\n",
    "def add_kinds(value):\n",
    "\tkinds = []\n",
    "\tkinds.append(value)\n",
    "\n",
    "add_kinds(100)\n",
    "print(kinds)"
   ]
  },
  {
   "cell_type": "code",
   "execution_count": 9,
   "metadata": {},
   "outputs": [
    {
     "data": {
      "text/plain": [
       "100"
      ]
     },
     "execution_count": 9,
     "metadata": {},
     "output_type": "execute_result"
    }
   ],
   "source": [
    "l = 100\n",
    "def test(ll):\n",
    "\tll += 100\n",
    "test(l)\n",
    "l"
   ]
  },
  {
   "cell_type": "code",
   "execution_count": 10,
   "metadata": {},
   "outputs": [
    {
     "name": "stdout",
     "output_type": "stream",
     "text": [
      "10 20\n",
      "20 30\n",
      "30 50\n",
      "36.05551275463989\n"
     ]
    }
   ],
   "source": [
    "class Point:\n",
    "\n",
    "    def __init__(self, x, y):\n",
    "        self.x = x\n",
    "        self.y = y\n",
    "\n",
    "    def __add__(self, other):\n",
    "        if isinstance(other, Point):\n",
    "            return Point((self.x + other.x), (self.y + other.y))\n",
    "        elif isinstance(other, int) or isinstance(other, float):\n",
    "            return Point((self.x + other), (self.y + other))\n",
    "\n",
    "    def distance(self, other):\n",
    "        dx = self.x - other.x\n",
    "        dy = self.y - other.y\n",
    "        return (dx**2 + dy**2)**0.5\n",
    "\n",
    "dot1 = Point(10, 20)\n",
    "dot2 = Point(20, 30)\n",
    "\n",
    "dot3 = dot1 + 10\n",
    "print(dot1.x, dot1.y) # 출력: 10 20\n",
    "print(dot3.x, dot3.y) # 출력: 20 30\n",
    "\n",
    "dot4 = dot1 + dot2\n",
    "print(dot4.x, dot4.y) # 출력: 30 50\n",
    "print(dot4.distance(dot1)) # 출력: 36.05551275463989"
   ]
  },
  {
   "cell_type": "code",
   "execution_count": 14,
   "metadata": {},
   "outputs": [
    {
     "data": {
      "text/plain": [
       "100"
      ]
     },
     "execution_count": 14,
     "metadata": {},
     "output_type": "execute_result"
    }
   ],
   "source": [
    "class Counter:\n",
    "\n",
    "\tdef __init__(self):\n",
    "\t\tself.num = 0\n",
    "\n",
    "\tdef __len__(self):\n",
    "\t\treturn 10000\n",
    "\t\n",
    "\tdef __call__(self):\n",
    "\t\treturn 'hello'\n",
    "\t\n",
    "\tdef __getitem__(self, key):\n",
    "\t\treturn key*10\n",
    "\t\n",
    "\tdef __str__(self):\n",
    "\t\treturn 'hello'\n",
    "\t\n",
    "\tdef __repr__(self):\n",
    "\t\treturn 'world'\n",
    "\t\n",
    "c = Counter()\n",
    "c()\n",
    "c[10]"
   ]
  },
  {
   "cell_type": "markdown",
   "metadata": {},
   "source": [
    "# 상속"
   ]
  },
  {
   "cell_type": "code",
   "execution_count": 19,
   "metadata": {},
   "outputs": [
    {
     "name": "stdout",
     "output_type": "stream",
     "text": [
      "10 <__main__.B object at 0x000002086C811D80>\n"
     ]
    },
    {
     "data": {
      "text/plain": [
       "'hello world'"
      ]
     },
     "execution_count": 19,
     "metadata": {},
     "output_type": "execute_result"
    }
   ],
   "source": [
    "class A(object):\n",
    "\tdef hello(self):\n",
    "\t\treturn 'hello'\n",
    "\t\n",
    "class B(A):\n",
    "\n",
    "\tdef __init__(self, a):\n",
    "\t\tprint(a, b)\n",
    "\n",
    "\tdef hello(self):\n",
    "\t\treturn 'hello world'\n",
    "\t\n",
    "b = B(10)\n",
    "b.hello()"
   ]
  },
  {
   "cell_type": "code",
   "execution_count": 22,
   "metadata": {},
   "outputs": [
    {
     "data": {
      "text/plain": [
       "'three'"
      ]
     },
     "execution_count": 22,
     "metadata": {},
     "output_type": "execute_result"
    }
   ],
   "source": [
    "class A(object):\n",
    "\t\n",
    "\tdef one(self):\n",
    "\t\treturn 'one'\n",
    "\t\n",
    "class B(A):\n",
    "\n",
    "\tdef two(self):\n",
    "\t\treturn 'two'\n",
    "\t\n",
    "class C(B):\n",
    "\n",
    "\tdef three(self):\n",
    "\t\treturn 'three'\n",
    "\t\n",
    "c = C()\n",
    "c.one()\n",
    "c.two()\n",
    "c.three()"
   ]
  },
  {
   "cell_type": "code",
   "execution_count": null,
   "metadata": {},
   "outputs": [],
   "source": [
    "class A(object):\n",
    "\n",
    "\ttest = 0\n",
    "\t\n",
    "\tdef one(self):\n",
    "\t\treturn 'one'\n",
    "\t\n",
    "class B(A):\n",
    "\n",
    "\tdef two(self):\n",
    "\t\treturn 'two'\n",
    "\t\n",
    "class C(B):\n",
    "\n",
    "\tdef three(self):\n",
    "\t\treturn 'three'\n",
    "\t\n",
    "\t\n",
    "c = C()\n",
    "\n",
    "A.test=300\n",
    "\n",
    "c.test # 상속을 받을 때 내 메모리 영역에서 보유하고 있는 값은 아니다! 참조 값이다!\n",
    "\n"
   ]
  },
  {
   "cell_type": "markdown",
   "metadata": {},
   "source": [
    "# 다중상속"
   ]
  },
  {
   "cell_type": "code",
   "execution_count": 23,
   "metadata": {},
   "outputs": [
    {
     "name": "stdout",
     "output_type": "stream",
     "text": [
      "hello A\n"
     ]
    }
   ],
   "source": [
    "class A:\n",
    "\tdef hello(self):\n",
    "\t\tprint('hello A')\n",
    "\n",
    "class B:\n",
    "\tdef hello(self):\n",
    "\t\tprint('hello B')\n",
    "\n",
    "class C(A, B):\n",
    "\tpass\n",
    "\n",
    "c = C()\n",
    "c.hello() # 주의! python의 코드 특성상 hello B라고 오해할만 함."
   ]
  },
  {
   "cell_type": "code",
   "execution_count": 24,
   "metadata": {},
   "outputs": [
    {
     "name": "stdout",
     "output_type": "stream",
     "text": [
      "hello B\n"
     ]
    }
   ],
   "source": [
    "# 주의! python의 2.x와 3.x가 아래 다이아몬드 상속에 순서가 다름\n",
    "class A:\n",
    "\tdef hello(self):\n",
    "\t\tprint('hello A')\n",
    "\n",
    "class B(A):\n",
    "\tdef hello(self):\n",
    "\t\tprint('hello B')\n",
    "\n",
    "class C(A):\n",
    "\tdef hello(self):\n",
    "\t\tprint('hello C')\n",
    "\n",
    "class D(B,C):\n",
    "\tpass\n",
    "\n",
    "d = D()\n",
    "d.hello()"
   ]
  },
  {
   "cell_type": "code",
   "execution_count": 26,
   "metadata": {},
   "outputs": [
    {
     "ename": "TypeError",
     "evalue": "Cannot create a consistent method resolution\norder (MRO) for bases B, C",
     "output_type": "error",
     "traceback": [
      "\u001b[1;31m---------------------------------------------------------------------------\u001b[0m",
      "\u001b[1;31mTypeError\u001b[0m                                 Traceback (most recent call last)",
      "\u001b[1;32md:\\ormi3\\Python\\230918\\ormi3_5.ipynb 셀 17\u001b[0m line \u001b[0;36m1\n\u001b[0;32m     <a href='vscode-notebook-cell:/d%3A/ormi3/Python/230918/ormi3_5.ipynb#X30sZmlsZQ%3D%3D?line=10'>11</a>\u001b[0m \t\u001b[39mdef\u001b[39;00m \u001b[39mhello\u001b[39m(\u001b[39mself\u001b[39m):\n\u001b[0;32m     <a href='vscode-notebook-cell:/d%3A/ormi3/Python/230918/ormi3_5.ipynb#X30sZmlsZQ%3D%3D?line=11'>12</a>\u001b[0m \t\t\u001b[39mprint\u001b[39m(\u001b[39m'\u001b[39m\u001b[39mhello C\u001b[39m\u001b[39m'\u001b[39m)\n\u001b[1;32m---> <a href='vscode-notebook-cell:/d%3A/ormi3/Python/230918/ormi3_5.ipynb#X30sZmlsZQ%3D%3D?line=13'>14</a>\u001b[0m \u001b[39mclass\u001b[39;00m \u001b[39mD\u001b[39;00m(B,C):\n\u001b[0;32m     <a href='vscode-notebook-cell:/d%3A/ormi3/Python/230918/ormi3_5.ipynb#X30sZmlsZQ%3D%3D?line=14'>15</a>\u001b[0m \t\u001b[39mpass\u001b[39;00m\n\u001b[0;32m     <a href='vscode-notebook-cell:/d%3A/ormi3/Python/230918/ormi3_5.ipynb#X30sZmlsZQ%3D%3D?line=16'>17</a>\u001b[0m d \u001b[39m=\u001b[39m D()\n",
      "\u001b[1;31mTypeError\u001b[0m: Cannot create a consistent method resolution\norder (MRO) for bases B, C"
     ]
    }
   ],
   "source": [
    "# 다중 상속 했을 때 에러가 나는 경우\n",
    "class A:\n",
    "\tdef hello(self):\n",
    "\t\tprint('hello A')\n",
    "\n",
    "class B(A):\n",
    "\tdef hello(self):\n",
    "\t\tprint('hello B')\n",
    "\n",
    "class C(B):\n",
    "\tdef hello(self):\n",
    "\t\tprint('hello C')\n",
    "\n",
    "class D(B,C):\n",
    "\tpass\n",
    "\n",
    "d = D()\n",
    "d.hello()"
   ]
  },
  {
   "cell_type": "markdown",
   "metadata": {},
   "source": [
    "# 연습문제\n",
    "\n",
    "게임에서 캐릭터를 구현할 예정입니다. 아래 클래스를 적절하게 조합하여 hero 인스턴스와 villian 인스턴스를 만들어주세요.\n",
    "1. class Body(능력치)\n",
    "2. class Weapon(무기)\n",
    "3. class Weapon Enhancement(무기강화)\n",
    "4. class Skill(기술)\n",
    "5. class Equipment(장비)\n",
    "6. class Role(히어로인지, 빌런인지, 몹인지)"
   ]
  },
  {
   "cell_type": "code",
   "execution_count": 39,
   "metadata": {},
   "outputs": [
    {
     "name": "stdout",
     "output_type": "stream",
     "text": [
      "sword+\n"
     ]
    }
   ],
   "source": [
    "# 능력치\n",
    "class Body:\n",
    "\t\n",
    "\tdef __init__(self, hp, mp, strength, agility, intellect):\n",
    "\t\tself.hp = hp\n",
    "\t\tself.mp = mp\n",
    "\t\tself.strength = strength\n",
    "\t\tself.agility = agility\n",
    "\t\tself.intellect = intellect\n",
    "\n",
    "# 스킬\n",
    "class Skill:\n",
    "\t\n",
    "\tdef __init__(self, skillName):\n",
    "\t\tself.skillName = skillName\n",
    "\n",
    "# 장비\n",
    "class Equipment:\n",
    "\t\n",
    "\tdef __init__(self, equipmentName):\n",
    "\t\tself.equipmentName = equipmentName\n",
    "\n",
    "# 무기\n",
    "class Weapon(Equipment):\n",
    "\tpass\n",
    "\n",
    "class WeaponEnhancement:\n",
    "\t\n",
    "\tdef enhancement(weapon):\n",
    "\t\tweapon.equipmentName += '+'\n",
    "\n",
    "# 방어구\n",
    "class Armor(Equipment):\n",
    "\tpass\n",
    "\n",
    "class Role:\n",
    "\t\n",
    "\tdef __init__(self, role, body, skill, weapon, armor):\n",
    "\t\tself.role = role\n",
    "\t\tself.body = body\n",
    "\t\tself.skill = Skill(skill)\n",
    "\t\tself.weapon = Weapon(weapon)\n",
    "\t\tself.armor = Armor(armor)\n",
    "\n",
    "hero = Role('hero', Body(100, 100, 10, 10, 10), 'fireBall', 'sword', 'iron armor')\n",
    "villian = Role('villian', Body(100, 100, 8, 12, 9), 'sting', 'claw', 'leather armor')"
   ]
  },
  {
   "cell_type": "code",
   "execution_count": null,
   "metadata": {},
   "outputs": [],
   "source": [
    "class Weapon:\n",
    "    pass\n",
    "\n",
    "class WeaponEnhancement(Weapon):\n",
    "    pass\n",
    "\n",
    "class Equipment(WeaponEnhancement):\n",
    "    pass\n",
    "\n",
    "class Role:\n",
    "    def setRole(self, role):\n",
    "        self.role = role\n",
    "\n",
    "class Skill:\n",
    "    pass\n",
    "\n",
    "class Body(Role, Equipment, Skill):\n",
    "    \n",
    "    def __init__(self, role):\n",
    "        self.setRole(role)\n",
    "\n",
    "ironman = Body('hero')\n",
    "thanos = Body('villian')"
   ]
  },
  {
   "cell_type": "markdown",
   "metadata": {},
   "source": [
    "# 9.18 선택과제"
   ]
  },
  {
   "cell_type": "code",
   "execution_count": 42,
   "metadata": {},
   "outputs": [
    {
     "name": "stdout",
     "output_type": "stream",
     "text": [
      "멍멍!\n",
      "야옹!\n",
      "Hello World!, 제 이름은 황병헌이고 제 나이는 30살 입니다. 그리고 저는 4학년입니다.\n"
     ]
    }
   ],
   "source": [
    "# 문제 1:\n",
    "# 동물 클래스 Animal을 만들어주세요. Dog와 Cat 클래스를 각각 정의하십시오. \n",
    "# Animal 클래스는 name 속성을 가집니다. 이 클래스는 make_sound 메서드를 갖고 있습니다.\n",
    "# Dog와 Cat 클래스는 Animal 클래스를 상속받는 클래스입니다.Dog 클래스의 make_sound 메서드는 \"멍멍!\"을, Cat 클래스의 make_sound 메서드는 \"야옹!\"을 출력하도록 재정의하세요.\n",
    "# * 더 완성도 높은 클래스를 만들어보세요. 추가 속성이나 메서드 작성 가능합니다.\n",
    "class Animal:\n",
    "\n",
    "\tdef __init__(self, name):\n",
    "\t\tself.name = name\n",
    "\n",
    "\tdef make_sound(self):\n",
    "\t\tpass\n",
    "\n",
    "class Dog(Animal):\n",
    "\n",
    "\tdef make_sound(self):\n",
    "\t\tprint('멍멍!')\n",
    "\n",
    "class Cat(Animal):\n",
    "\n",
    "\tdef make_sound(self):\n",
    "\t\tprint('야옹!')\n",
    "\n",
    "dog = Dog('멍멍이')\n",
    "cat = Cat('떼껄룩')\n",
    "dog.make_sound()\n",
    "cat.make_sound()\n",
    "\n",
    "# 문제 2:\n",
    "# Person이라는 기본 클래스를 만들어주세요. Person 클래스는 `이름`과 `나이`라는 두 개의 속성과 `소개하기`라는 메서드를 가지며, 이 메서드는 \"Hello World!, 제 이름은 [이름]이고 제 나이는 [나이]살 입니다.\"라는 메시지를 출력합니다.\n",
    "# Person 클래스를 상속받는 Student 클래스를 정의하십시오. Student 클래스는 추가적으로 `학년` 속성을 가집니다. Student 클래스에서 `소개하기` 메서드를 오버라이드하여 \"Hello World!, 제 이름은 [이름]이고 제 나이는 [나이]살 입니다. 그리고 저는 [학년]학년입니다. \"라는 메시지를 출력하도록 만드세요.\n",
    "\n",
    "class Person:\n",
    "\tdef __init__(self, name, age):\n",
    "\t\tself.name = name\n",
    "\t\tself.age = age\n",
    "\n",
    "\tdef introduce(self):\n",
    "\t\tprint(f'Hello World!, 제 이름은 {self.name}이고 제 나이는 {self.age}살 입니다.')\n",
    "\n",
    "class Student(Person):\n",
    "\n",
    "\tdef __init__(self, name, age, grade):\n",
    "\t\tsuper().__init__(name, age)\n",
    "\t\tself.grade = grade\n",
    "\t\n",
    "\tdef introduce(self):\n",
    "\t\tprint(f'Hello World!, 제 이름은 {self.name}이고 제 나이는 {self.age}살 입니다. 그리고 저는 {self.grade}학년입니다.')\n",
    "\n",
    "student = Student('황병헌', 30, 4)\n",
    "student.introduce()"
   ]
  },
  {
   "cell_type": "code",
   "execution_count": null,
   "metadata": {},
   "outputs": [],
   "source": []
  }
 ],
 "metadata": {
  "kernelspec": {
   "display_name": "Python 3",
   "language": "python",
   "name": "python3"
  },
  "language_info": {
   "codemirror_mode": {
    "name": "ipython",
    "version": 3
   },
   "file_extension": ".py",
   "mimetype": "text/x-python",
   "name": "python",
   "nbconvert_exporter": "python",
   "pygments_lexer": "ipython3",
   "version": "3.10.11"
  },
  "orig_nbformat": 4
 },
 "nbformat": 4,
 "nbformat_minor": 2
}

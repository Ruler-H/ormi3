{
 "cells": [
  {
   "cell_type": "markdown",
   "metadata": {},
   "source": [
    "# f-string"
   ]
  },
  {
   "cell_type": "code",
   "execution_count": 11,
   "metadata": {},
   "outputs": [
    {
     "name": "stdout",
     "output_type": "stream",
     "text": [
      "hello\n",
      "{value}\n",
      "{hello}\n",
      "{{value}}\n",
      "{{hello}}\n",
      "{{{value}}}\n"
     ]
    }
   ],
   "source": [
    "value = 'hello'\n",
    "print(f'{value}')\n",
    "print(f'{{value}}')\n",
    "print(f'{{{value}}}')\n",
    "print(f'{{{{value}}}}')\n",
    "print(f'{{{{{value}}}}}')\n",
    "print(f'{{{{{{value}}}}}}')"
   ]
  },
  {
   "cell_type": "code",
   "execution_count": 2,
   "metadata": {},
   "outputs": [
    {
     "name": "stdout",
     "output_type": "stream",
     "text": [
      "3.14\n",
      "     Alice\n"
     ]
    }
   ],
   "source": [
    "num = 3.141592\n",
    "print(f'{num:.2f}')\n",
    "\n",
    "name = 'Alice'\n",
    "print(f'{name:>10}')"
   ]
  },
  {
   "cell_type": "code",
   "execution_count": 18,
   "metadata": {},
   "outputs": [
    {
     "name": "stdout",
     "output_type": "stream",
     "text": [
      "hello world\n"
     ]
    }
   ],
   "source": [
    "value = 'hello'\n",
    "# print(f'{value + 'world'}')/ # Error\n",
    "print(f'{value + \" world\"}')"
   ]
  },
  {
   "cell_type": "code",
   "execution_count": 19,
   "metadata": {},
   "outputs": [
    {
     "name": "stdout",
     "output_type": "stream",
     "text": [
      "200\n",
      "200\n"
     ]
    }
   ],
   "source": [
    "a = 10\n",
    "b = 20\n",
    "two_numbers_mul = a * b\n",
    "print(f'{two_numbers_mul}')\n",
    "print(f'{a * b}')"
   ]
  },
  {
   "cell_type": "code",
   "execution_count": 23,
   "metadata": {},
   "outputs": [
    {
     "name": "stdout",
     "output_type": "stream",
     "text": [
      "나의 이름은 한사람입니다\n",
      "나의 이름은 한사람입니다. 나이는 33세이고 성별은 남성입니다.\n",
      "나이는 33세이고 성별은 남성입니다. 나의 이름은 한사람입니다. \n",
      "나이는 33세이고 성별은 남성입니다. 나의 이름은 한사람입니다. \n",
      "만세삼창 :  만세!!! 만세!!! 만세!!! \n",
      "삼삼칠 박수 :  짝짝짝!!! 짝짝짝!!! 짝짝짝짝짝짝짝!!! \n",
      "----------------------------------------\n",
      "볼펜 2개의 길이는 10.686cm 입니다.\n",
      "볼펜 2개의 길이는 10.7cm 입니다.\n",
      "----------------------------------------\n",
      "나의 이름은 3.14입니다\n",
      "나의 이름은                 3.14입니다\n"
     ]
    }
   ],
   "source": [
    "# 파이썬(Python) 3 포맷팅 방식\n",
    "print('나의 이름은 {}입니다'.format('한사람'))\n",
    "print('나의 이름은 {0}입니다. 나이는 {1}세이고 성별은 {2}입니다.'.format('한사람',33,'남성'))\n",
    "print('나이는 {1}세이고 성별은 {2}입니다. 나의 이름은 {0}입니다. '.format('한사람',33,'남성'))\n",
    "print('나이는 {age}세이고 성별은 {gender}입니다. 나의 이름은 {name}입니다. '\n",
    "        .format(name='한사람',age=33,gender='남성'))\n",
    "print('만세삼창 :  {0}!!! {0}!!! {0}!!! '.format('만세'))\n",
    "print('삼삼칠 박수 :  {0}!!! {0}!!! {1}!!! '.format('짝'*3,'짝'*7))\n",
    "print('-' * 40)\n",
    "\n",
    "# 파이썬(Python) 3.6 f-string 방식\n",
    "something = '볼펜'\n",
    "EA = 2\n",
    "one_length = 5.343\n",
    "scale = 'cm'\n",
    "\n",
    "print(f'{something} {EA}개의 길이는 {one_length*EA}{scale} 입니다.')\n",
    "print(f'{something} {EA}개의 길이는 {one_length*EA:.1f}{scale} 입니다.')\n",
    "print('-' * 40)\n",
    "print('나의 이름은 {0:.2f}입니다'.format(3.141592))\n",
    "print('나의 이름은 {0:>20.2f}입니다'.format(3.141592))"
   ]
  },
  {
   "cell_type": "code",
   "execution_count": 24,
   "metadata": {},
   "outputs": [
    {
     "name": "stdout",
     "output_type": "stream",
     "text": [
      "볼펜 2개의 길이는 10.686cm 입니다.\n",
      "볼펜 2개의 길이는 10.7cm 입니다.\n"
     ]
    }
   ],
   "source": [
    "# 파이썬(Python) 3.6 f-string 방식\n",
    "something = '볼펜'\n",
    "EA = 2\n",
    "one_length = 5.343\n",
    "scale = 'cm'\n",
    "\n",
    "print(f'{something} {EA}개의 길이는 {one_length*EA}{scale} 입니다.')\n",
    "print(f'{something} {EA}개의 길이는 {one_length*EA:.1f}{scale} 입니다.')"
   ]
  },
  {
   "cell_type": "code",
   "execution_count": 25,
   "metadata": {},
   "outputs": [
    {
     "name": "stdout",
     "output_type": "stream",
     "text": [
      "Python is [good           ]\n",
      "Python is [good           ]\n",
      "Python is [           good]\n",
      "Python is [     good      ]\n",
      "당신의 나이는 [             22]세\n",
      "당신의 나이는 [22             ]세\n",
      "당신의 나이는 [             22]세\n",
      "당신의 나이는 [22             ]세\n",
      "----------------------------------------\n"
     ]
    }
   ],
   "source": [
    "print('Python is [{:15}]'.format('good'))\n",
    "print('Python is [{:<15}]'.format('good'))\n",
    "print('Python is [{:>15}]'.format('good'))\n",
    "print('Python is [{:^15}]'.format('good'))\n",
    "print('당신의 나이는 [{:15}]세'.format(22))\n",
    "print('당신의 나이는 [{:<15}]세'.format(22))\n",
    "print('당신의 나이는 [{:>15}]세'.format(22))\n",
    "print('당신의 나이는 [{:<15}]세'.format(22))\n",
    "print('-' * 40)"
   ]
  },
  {
   "cell_type": "code",
   "execution_count": 26,
   "metadata": {},
   "outputs": [
    {
     "name": "stdout",
     "output_type": "stream",
     "text": [
      "[10             ]\n",
      "[             10]\n"
     ]
    }
   ],
   "source": [
    "print('[{:15}]'.format('10')) # 양식 같음, 자료형만 다름\n",
    "print('[{:15}]'.format(10)) # 양식 같음, 자료형만 다름"
   ]
  },
  {
   "cell_type": "code",
   "execution_count": 27,
   "metadata": {},
   "outputs": [
    {
     "name": "stdout",
     "output_type": "stream",
     "text": [
      "1234567890\n",
      "    5\n",
      "5    \n",
      "  5  \n",
      "50000\n",
      "   5.00   \n"
     ]
    }
   ],
   "source": [
    "char_a = '5'\n",
    "int_a = 5\n",
    "\n",
    "'''기본적으로 {} 포맷팅의 특성을 그대로 가짐'''\n",
    "print(1234567890)\n",
    "print(f'{char_a:>5}') # >는 오른쪽정렬\n",
    "print(f'{char_a:<5}') # <는 왼쪽정렬\n",
    "print(f'{char_a:^5}') # ^는 가운데정렬\n",
    "print(f'{int_a:0<5}')# <는 왼쪽정렬, 빈자리를 0으로 채울수도 있음\n",
    "print(f'{int_a:^10.2f}') # ^ 가운데 정렬하면서 float 타입지정"
   ]
  },
  {
   "cell_type": "code",
   "execution_count": 29,
   "metadata": {},
   "outputs": [
    {
     "name": "stdout",
     "output_type": "stream",
     "text": [
      "50000\n",
      "00005\n"
     ]
    },
    {
     "data": {
      "text/plain": [
       "'0000012345'"
      ]
     },
     "execution_count": 29,
     "metadata": {},
     "output_type": "execute_result"
    }
   ],
   "source": [
    "int_a = 5\n",
    "print(f'{int_a:0<5}') # <는 왼쪽정렬, 빈자리를 0으로 채울수도 있음\n",
    "print(f'{int_a:0>5}') # <는 왼쪽정렬, 빈자리를 0으로 채울수도 있음\n",
    "\n",
    "'12345'.zfill(10)"
   ]
  },
  {
   "cell_type": "code",
   "execution_count": 44,
   "metadata": {},
   "outputs": [
    {
     "name": "stdout",
     "output_type": "stream",
     "text": [
      "45\n",
      "25\n",
      "234168\n"
     ]
    },
    {
     "ename": "TypeError",
     "evalue": "unsupported operand type(s) for +: 'filter' and 'int'",
     "output_type": "error",
     "traceback": [
      "\u001b[1;31m---------------------------------------------------------------------------\u001b[0m",
      "\u001b[1;31mTypeError\u001b[0m                                 Traceback (most recent call last)",
      "\u001b[1;32md:\\ormi3\\Python\\230921\\f-string.ipynb 셀 12\u001b[0m line \u001b[0;36m9\n\u001b[0;32m      <a href='vscode-notebook-cell:/d%3A/ormi3/Python/230921/f-string.ipynb#X15sZmlsZQ%3D%3D?line=6'>7</a>\u001b[0m \u001b[39m# 문제3: 1000 미만의 자연수에서 3의 배수와 5의 배수의 총합을 구하는 프로그램\u001b[39;00m\n\u001b[0;32m      <a href='vscode-notebook-cell:/d%3A/ormi3/Python/230921/f-string.ipynb#X15sZmlsZQ%3D%3D?line=7'>8</a>\u001b[0m \u001b[39mprint\u001b[39m(\u001b[39msum\u001b[39m(\u001b[39mlist\u001b[39m(\u001b[39mrange\u001b[39m(\u001b[39m3\u001b[39m, \u001b[39m1001\u001b[39m, \u001b[39m3\u001b[39m)) \u001b[39m+\u001b[39m \u001b[39mlist\u001b[39m(\u001b[39mfilter\u001b[39m(\u001b[39mlambda\u001b[39;00m x: x\u001b[39m%\u001b[39m\u001b[39m15\u001b[39m\u001b[39m!=\u001b[39m\u001b[39m0\u001b[39m, \u001b[39mrange\u001b[39m(\u001b[39m5\u001b[39m, \u001b[39m1001\u001b[39m, \u001b[39m5\u001b[39m)))))\n\u001b[1;32m----> <a href='vscode-notebook-cell:/d%3A/ormi3/Python/230921/f-string.ipynb#X15sZmlsZQ%3D%3D?line=8'>9</a>\u001b[0m \u001b[39mprint\u001b[39m(\u001b[39msum\u001b[39;49m(\u001b[39mrange\u001b[39;49m(\u001b[39m3\u001b[39;49m, \u001b[39m1001\u001b[39;49m, \u001b[39m3\u001b[39;49m), \u001b[39mfilter\u001b[39;49m(\u001b[39mlambda\u001b[39;49;00m x: x\u001b[39m%\u001b[39;49m\u001b[39m15\u001b[39;49m\u001b[39m!=\u001b[39;49m\u001b[39m0\u001b[39;49m, \u001b[39mrange\u001b[39;49m(\u001b[39m5\u001b[39;49m, \u001b[39m1001\u001b[39;49m, \u001b[39m5\u001b[39;49m))))\n",
      "\u001b[1;31mTypeError\u001b[0m: unsupported operand type(s) for +: 'filter' and 'int'"
     ]
    }
   ],
   "source": [
    "# 문제1: 1~9까지 더하는 프로그램\n",
    "print(sum(range(1, 10)))\n",
    "\n",
    "# 문제2: 1~9까지 홀수의 합\n",
    "print(sum(filter(lambda x: x%2==1, range(1, 10))))\n",
    "\n",
    "# 문제3: 1000 미만의 자연수에서 3의 배수와 5의 배수의 총합을 구하는 프로그램\n",
    "print(sum(list(range(3, 1001, 3)) + list(filter(lambda x: x%15!=0, range(5, 1001, 5)))))"
   ]
  },
  {
   "cell_type": "code",
   "execution_count": null,
   "metadata": {},
   "outputs": [],
   "source": []
  }
 ],
 "metadata": {
  "kernelspec": {
   "display_name": "Python 3",
   "language": "python",
   "name": "python3"
  },
  "language_info": {
   "codemirror_mode": {
    "name": "ipython",
    "version": 3
   },
   "file_extension": ".py",
   "mimetype": "text/x-python",
   "name": "python",
   "nbconvert_exporter": "python",
   "pygments_lexer": "ipython3",
   "version": "3.10.11"
  },
  "orig_nbformat": 4
 },
 "nbformat": 4,
 "nbformat_minor": 2
}

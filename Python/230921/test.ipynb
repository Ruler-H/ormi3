{
 "cells": [
  {
   "cell_type": "code",
   "execution_count": 27,
   "metadata": {},
   "outputs": [
    {
     "name": "stdout",
     "output_type": "stream",
     "text": [
      "<1, 2, 3, 4>\n",
      "<1, 2, 3, 4, 5>\n",
      "<1, 2, 3, 4>\n",
      "<1, 2, 3, 4>\n",
      "<10, 10, 10, 10>\n",
      "<8, 6, 4, 2>\n"
     ]
    },
    {
     "data": {
      "text/plain": [
       "<27, 24, 21, 18>"
      ]
     },
     "execution_count": 27,
     "metadata": {},
     "output_type": "execute_result"
    }
   ],
   "source": [
    "# 다음 자료구조 클래스를 만들어주세요.\n",
    "# 데이터는 <1, 2, 3, 4> 형식으로 숫자만 저장됩니다.\n",
    "# print()를 하면 <1, 2, 3, 4>와 같이 출력이 되어야 합니다.\n",
    "# 메서드는 append, remove가 있습니다.\n",
    "# 아래 연산은 길이가 다르면 error가 납니다.\n",
    "# 나누기 연산은 지원하지 않습니다.\n",
    "# <1, 2, 3, 4> + <1, 2, 3 ,4> == <2, 4, 6, 8>와 같이 같은 순서에 요소를 더합니다.\n",
    "# <1, 2, 3, 4> - <1, 2, 1 ,2> == <0, 0, 2, 2>와 같이 같은 순서에 요소를 뺍니다.\n",
    "# <1, 2, 3, 4> * 3 == <3, 6, 9, 12>가 됩니다.\n",
    "\n",
    "class OperList:\n",
    "    def __init__(self, *args):\n",
    "        self.operList = list(args)\n",
    "\n",
    "    def append(self, n):\n",
    "        if isinstance(n, int):\n",
    "            self.operList.append(n)\n",
    "        else:\n",
    "            raise TypeError\n",
    "\n",
    "    def remove(self, n):\n",
    "        if isinstance(n, int):\n",
    "            if n in self.operList:\n",
    "                self.operList.remove(n)\n",
    "            else:\n",
    "                return '제거하려는 값이 존재하지 않습니다.'\n",
    "        else:\n",
    "            raise TypeError\n",
    "\n",
    "    def __str__(self):\n",
    "        return f'<{str(self.operList)[1:-1]}>'\n",
    "    \n",
    "    def __repr__(self):\n",
    "        return f'<{str(self.operList)[1:-1]}>'\n",
    "\n",
    "    def __add__(self, other):\n",
    "        if len(self.operList) != len(other.operList):\n",
    "            raise IndexError\n",
    "        new_list = OperList()\n",
    "        for i in map(lambda x : x[0] + x[1], zip(self.operList, other.operList)):\n",
    "            new_list.append(i)\n",
    "        return new_list\n",
    "    \n",
    "    def __sub__(self, other):\n",
    "        if len(self.operList) != len(other.operList):\n",
    "            raise IndexError\n",
    "        new_list = OperList()\n",
    "        for i in map(lambda x : x[0] - x[1], zip(self.operList, other.operList)):\n",
    "            new_list.append(i)\n",
    "        return new_list\n",
    "    \n",
    "    def __mul__(self, n):\n",
    "        new_list = OperList()\n",
    "        new_list.operList = list(map(lambda x : x * n, self.operList))\n",
    "        return new_list\n",
    "\n",
    "l1 = OperList(1, 2, 3, 4)\n",
    "print(l1)\n",
    "l1.append(5)\n",
    "print(l1)\n",
    "l1.remove(5)\n",
    "print(l1)\n",
    "l2 = OperList(9, 8, 7, 6)\n",
    "print(l1)\n",
    "print(l2 + l1)\n",
    "print(l2 - l1)\n",
    "l2 * 3"
   ]
  },
  {
   "cell_type": "code",
   "execution_count": 36,
   "metadata": {},
   "outputs": [],
   "source": [
    "with open('student.csv', 'w') as f:\n",
    "    s = '''학년,반,번,이름,국어,영어,수학,사회\n",
    "        3,3,1,licat,90,80,30,40\n",
    "        3,3,2,mura,80,70,60,30\n",
    "        3,3,3,binky,30,80,70,30'''\n",
    "    f.write(s)"
   ]
  },
  {
   "cell_type": "code",
   "execution_count": 37,
   "metadata": {},
   "outputs": [
    {
     "name": "stdout",
     "output_type": "stream",
     "text": [
      "학년,반,번,이름,국어,영어,수학,사회,평균\n",
      "3,3,1,licat,90,80,30,40,60.0\n",
      "3,3,2,mura,80,70,60,30,60.0\n",
      "3,3,3,binky,30,80,70,30,52.5\n"
     ]
    }
   ],
   "source": [
    "# 과제2:\n",
    "# student.csv에는 아래와 같은 텍스트가 담겨있습니다.\n",
    "# '''\n",
    "# 학년,반,번,이름,국어,영어,수학,사회\n",
    "# 3,3,1,licat,90,80,30,40\n",
    "# 3,3,2,mura,80,70,60,30\n",
    "# 3,3,3,binky,30,80,70,30\n",
    "# '''\n",
    "# 학생들의 평균을 구해 아래와 같이 student.csv출력되게 해주세요.(xx이라 표기된 곳에 평균 값이 들어가야 합니다.)\n",
    "# '''\n",
    "# 학년,반,번,이름,국어,영어,수학,사회,평균\n",
    "# 3,3,1,licat,90,80,30,40,xx\n",
    "# 3,3,2,mura,80,70,60,30,xx\n",
    "# 3,3,3,binky,30,80,70,30,xx\n",
    "# '''\n",
    "s = ''\n",
    "with open('student.csv', 'r') as f:\n",
    "    lines = f.readlines()\n",
    "    s += lines[0][:-1] + ',평균'\n",
    "    for i in lines[1:]:\n",
    "        data = i.split(',')\n",
    "        s += '\\n' + i.strip() + ',' + str(sum(map(int, data[4:])) / 4)\n",
    "\n",
    "print(s)\n",
    "with open('student.csv', 'w') as f:\n",
    "    f.write(s)"
   ]
  },
  {
   "cell_type": "code",
   "execution_count": null,
   "metadata": {},
   "outputs": [],
   "source": [
    "int"
   ]
  }
 ],
 "metadata": {
  "kernelspec": {
   "display_name": "Python 3",
   "language": "python",
   "name": "python3"
  },
  "language_info": {
   "codemirror_mode": {
    "name": "ipython",
    "version": 3
   },
   "file_extension": ".py",
   "mimetype": "text/x-python",
   "name": "python",
   "nbconvert_exporter": "python",
   "pygments_lexer": "ipython3",
   "version": "3.10.11"
  },
  "orig_nbformat": 4
 },
 "nbformat": 4,
 "nbformat_minor": 2
}

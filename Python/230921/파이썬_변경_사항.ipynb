{
 "cells": [
  {
   "cell_type": "code",
   "execution_count": 1,
   "metadata": {},
   "outputs": [
    {
     "data": {
      "text/plain": [
       "'Hello, 10'"
      ]
     },
     "execution_count": 1,
     "metadata": {},
     "output_type": "execute_result"
    }
   ],
   "source": [
    "# 3.6\n",
    "def greet(name):\n",
    "    \"\"\"\n",
    "    인사를 하는 함수입니다.\n",
    "\n",
    "    이 함수는 name 인자로 받아 name과 함께 인사를 하는 함수입니다~~\n",
    "\n",
    "    Args:\n",
    "        a(str): 블라블라\n",
    "        b(int): 블라블라\n",
    "\n",
    "    Returns:\n",
    "        리턴은 이런식입니다.\n",
    "        example: [1, 2, 3]\n",
    "\n",
    "    Raises:\n",
    "        IOError: 애러 블라블라\n",
    "    \"\"\"\n",
    "    return f\"Hello, {name}\"\n",
    "\n",
    "\n",
    "greet(10)"
   ]
  },
  {
   "cell_type": "code",
   "execution_count": null,
   "metadata": {},
   "outputs": [],
   "source": [
    "greet()"
   ]
  },
  {
   "cell_type": "code",
   "execution_count": 2,
   "metadata": {},
   "outputs": [
    {
     "data": {
      "text/plain": [
       "30"
      ]
     },
     "execution_count": 2,
     "metadata": {},
     "output_type": "execute_result"
    }
   ],
   "source": [
    "# Python 3.8\n",
    "(x := 10) * 3"
   ]
  },
  {
   "cell_type": "code",
   "execution_count": 3,
   "metadata": {},
   "outputs": [
    {
     "data": {
      "text/plain": [
       "{'key1': 'value1', 'key2': 'value2'}"
      ]
     },
     "execution_count": 3,
     "metadata": {},
     "output_type": "execute_result"
    }
   ],
   "source": [
    "# Python 3.9\n",
    "# 딕셔너리 결합 연산자\n",
    "x = {\"key1\":\"value1\"}\n",
    "y = {\"key2\":\"value2\"}\n",
    "z = x | y\n",
    "z"
   ]
  },
  {
   "cell_type": "code",
   "execution_count": 7,
   "metadata": {},
   "outputs": [
    {
     "data": {
      "text/plain": [
       "{'key1': 'value1', 'key2': 'value2'}"
      ]
     },
     "execution_count": 7,
     "metadata": {},
     "output_type": "execute_result"
    }
   ],
   "source": [
    "# {\"key1\":\"value1\"} + {\"key2\":\"value2\"} => TypeError\n",
    "# {\"key1\":\"value1\"}.append({\"key2\":\"value2\"}) => AttributeError\n",
    "x = {\"key1\":\"value1\"}\n",
    "x.update({\"key2\":\"value2\"})\n",
    "x"
   ]
  },
  {
   "cell_type": "code",
   "execution_count": 8,
   "metadata": {},
   "outputs": [
    {
     "name": "stdout",
     "output_type": "stream",
     "text": [
      "good\n"
     ]
    }
   ],
   "source": [
    "# Python 3.10\n",
    "str_test = 'good'\n",
    "\n",
    "match str_test:\n",
    "    case 'happy':\n",
    "        print('happy')\n",
    "\n",
    "    case 'good':\n",
    "        print('good')"
   ]
  },
  {
   "cell_type": "code",
   "execution_count": null,
   "metadata": {},
   "outputs": [],
   "source": []
  }
 ],
 "metadata": {
  "kernelspec": {
   "display_name": "Python 3",
   "language": "python",
   "name": "python3"
  },
  "language_info": {
   "codemirror_mode": {
    "name": "ipython",
    "version": 3
   },
   "file_extension": ".py",
   "mimetype": "text/x-python",
   "name": "python",
   "nbconvert_exporter": "python",
   "pygments_lexer": "ipython3",
   "version": "3.10.11"
  },
  "orig_nbformat": 4
 },
 "nbformat": 4,
 "nbformat_minor": 2
}

{
 "cells": [
  {
   "cell_type": "markdown",
   "metadata": {},
   "source": [
    "# 파일 입출력"
   ]
  },
  {
   "cell_type": "code",
   "execution_count": 2,
   "metadata": {},
   "outputs": [],
   "source": [
    "# open(파일이름, 파일모드)\n",
    "f = open('python.txt', 'w')\n",
    "# 파일모드 : \n",
    "# r(읽기모드)\n",
    "# w(쓰기모드, 파일이 없으면 생성합니다, 내용이 있어도 w모드면 덮어씁니다.)\n",
    "# a(추가모드)\n",
    "f.close()"
   ]
  },
  {
   "cell_type": "code",
   "execution_count": 5,
   "metadata": {},
   "outputs": [],
   "source": [
    "f = open('python.txt', 'w')\n",
    "s = ''\n",
    "for i in range(1, 6):\n",
    "    s += f'{i}명 참여 중입니다. \\n'\n",
    "f.write(s[:-1])\n",
    "f.close()"
   ]
  },
  {
   "cell_type": "code",
   "execution_count": 6,
   "metadata": {},
   "outputs": [
    {
     "name": "stdout",
     "output_type": "stream",
     "text": [
      "1명 참여 중입니다. \n",
      "\n",
      "2명 참여 중입니다. \n",
      "\n",
      "3명 참여 중입니다. \n",
      "\n",
      "4명 참여 중입니다. \n",
      "\n",
      "5명 참여 중입니다. \n"
     ]
    }
   ],
   "source": [
    "f = open('python.txt', 'r')\n",
    "while True:\n",
    "    line = f.readline()\n",
    "    if not line:\n",
    "        break\n",
    "    print(line)\n",
    "f.close()"
   ]
  },
  {
   "cell_type": "code",
   "execution_count": 8,
   "metadata": {},
   "outputs": [
    {
     "name": "stdout",
     "output_type": "stream",
     "text": [
      "1명 참여 중입니다. \n",
      "\n",
      "2명 참여 중입니다. \n",
      "\n",
      "3명 참여 중입니다. \n",
      "\n",
      "4명 참여 중입니다. \n",
      "\n",
      "5명 참여 중입니다. \n"
     ]
    }
   ],
   "source": [
    "f = open('python.txt', 'r')\n",
    "lines = f.readlines()\n",
    "for line in lines:\n",
    "    print(line)\n",
    "f.close()"
   ]
  },
  {
   "cell_type": "code",
   "execution_count": 9,
   "metadata": {},
   "outputs": [
    {
     "name": "stdout",
     "output_type": "stream",
     "text": [
      "1명 참여 중입니다. \n",
      "2명 참여 중입니다. \n",
      "3명 참여 중입니다. \n",
      "4명 참여 중입니다. \n",
      "5명 참여 중입니다. \n"
     ]
    }
   ],
   "source": [
    "f = open('python.txt', 'r')\n",
    "data = f.read()\n",
    "print(data)\n",
    "f.close()"
   ]
  },
  {
   "cell_type": "code",
   "execution_count": 10,
   "metadata": {},
   "outputs": [],
   "source": [
    "# 쉬운예제 1\n",
    "f = open('python.html', 'w')\n",
    "s = '''<html>\n",
    "    <head>\n",
    "    </head>\n",
    "    <body>\n",
    "        <h1>hello world</h1>\n",
    "    </body>\n",
    "</html>'''\n",
    "f.write(s)\n",
    "f.close()"
   ]
  },
  {
   "cell_type": "code",
   "execution_count": 11,
   "metadata": {},
   "outputs": [],
   "source": [
    "# 쉬운예제 2\n",
    "f = open('python.csv', 'w')\n",
    "s = '''제목, 평점, 이미지, 줄거리\n",
    "무빙,5.0,img,줄거리\n",
    "무빙,5.0,img,줄거리\n",
    "무빙,5.0,img,줄거리\n",
    "'''\n",
    "f.write(s)\n",
    "f.close()"
   ]
  },
  {
   "cell_type": "code",
   "execution_count": 18,
   "metadata": {},
   "outputs": [],
   "source": [
    "# 어려운 예제\n",
    "# django의 동작원리와도 관련이 있습니다.\n",
    "import requests\n",
    "from bs4 import BeautifulSoup\n",
    "\n",
    "paullab_url = 'http://paullab.co.kr/bookservice/'\n",
    "response = requests.get(paullab_url)\n",
    "response.encoding = 'utf-8'\n",
    "html = response.text\n",
    "\n",
    "soup = BeautifulSoup(html, 'html.parser')\n",
    "\n",
    "bookservices = soup.select('.col-lg-6 > h2')     # col-lg-6 클래스 안의 h2 태그 탐색\n",
    "contents = ''\n",
    "\n",
    "for no, (book, img) in enumerate(zip(bookservices, soup.select('img')[2:]), 1):\n",
    "    contents += f'''\n",
    "                <section>\n",
    "                    <h2>{no}. {book.text}</h2>\n",
    "                    <img src='http://paullab.co.kr/bookservice/{img[\"src\"]}'>\n",
    "                </section>\n",
    "                '''\n",
    "\n",
    "\n",
    "f = open('python.html', 'w')\n",
    "s = f'''<html>\n",
    "<head>\n",
    "</head>\n",
    "<body>\n",
    "    {contents}\n",
    "</body>\n",
    "</html>\n",
    "'''\n",
    "f.write(s)\n",
    "f.close()"
   ]
  },
  {
   "cell_type": "code",
   "execution_count": 21,
   "metadata": {},
   "outputs": [],
   "source": [
    "f = open('python.txt', 'a')\n",
    "s = ''\n",
    "for i in range(6, 11):\n",
    "    s += f'{i}명 참여 중입니다. \\n'\n",
    "f.write(s)\n",
    "f.close()"
   ]
  },
  {
   "cell_type": "code",
   "execution_count": 22,
   "metadata": {},
   "outputs": [],
   "source": [
    "with open('python.txt', 'w') as f:\n",
    "    f.write('Life is too short, you need python')"
   ]
  },
  {
   "cell_type": "code",
   "execution_count": 26,
   "metadata": {},
   "outputs": [],
   "source": [
    "f = open('python.txt', 'w+') # 읽기 쓰기\n",
    "f.write('hello world\\nhello world\\n')\n",
    "lines = f.readlines()\n",
    "for line in lines:\n",
    "    print(line, end='')\n",
    "f.close()"
   ]
  },
  {
   "cell_type": "code",
   "execution_count": 28,
   "metadata": {},
   "outputs": [
    {
     "name": "stdout",
     "output_type": "stream",
     "text": [
      "\n",
      "\n"
     ]
    }
   ],
   "source": [
    "f = open('python.txt', 'a+') # 읽기 쓰기\n",
    "print(f.read())\n",
    "f.write('hello world2\\nhello world2\\n')\n",
    "print(f.read())\n",
    "f.close()"
   ]
  },
  {
   "cell_type": "code",
   "execution_count": 29,
   "metadata": {},
   "outputs": [
    {
     "name": "stdout",
     "output_type": "stream",
     "text": [
      "hello world\n",
      "hello world\n",
      "hello world\n",
      "hello world\n",
      "hello world2\n",
      "hello world2\n",
      "\n",
      "hello world\n",
      "hello world\n",
      "hello world\n",
      "hello world\n",
      "hello world2\n",
      "hello world2\n",
      "hello world2\n",
      "hello world2\n",
      "\n"
     ]
    }
   ],
   "source": [
    "f = open('python.txt', 'r+') # 읽기 쓰기\n",
    "f.seek(0)\n",
    "print(f.read())\n",
    "f.write('hello world2\\nhello world2\\n')\n",
    "f.seek(0)\n",
    "print(f.read())\n",
    "f.close()"
   ]
  },
  {
   "cell_type": "code",
   "execution_count": 34,
   "metadata": {},
   "outputs": [
    {
     "data": {
      "text/plain": [
       "45"
      ]
     },
     "execution_count": 34,
     "metadata": {},
     "output_type": "execute_result"
    }
   ],
   "source": [
    "m = [[1, 2, 3], [4, 5, 6], [7, 8, 9]]\n",
    "total_sum = 0\n",
    "sum(map(lambda x : sum(x), m))"
   ]
  },
  {
   "cell_type": "code",
   "execution_count": 41,
   "metadata": {},
   "outputs": [
    {
     "name": "stdout",
     "output_type": "stream",
     "text": [
      "        *         \n",
      "       ***        \n",
      "      *****       \n",
      "     *******      \n",
      "    *********     \n",
      "   ***********    \n",
      "  *************   \n",
      " ***************  \n",
      "***************** \n"
     ]
    }
   ],
   "source": [
    "for i in range(1, 10):\n",
    "    print(f'{(\"*\" * (2 * i - 1)):^18}')"
   ]
  },
  {
   "cell_type": "code",
   "execution_count": null,
   "metadata": {},
   "outputs": [],
   "source": []
  }
 ],
 "metadata": {
  "kernelspec": {
   "display_name": "Python 3",
   "language": "python",
   "name": "python3"
  },
  "language_info": {
   "codemirror_mode": {
    "name": "ipython",
    "version": 3
   },
   "file_extension": ".py",
   "mimetype": "text/x-python",
   "name": "python",
   "nbconvert_exporter": "python",
   "pygments_lexer": "ipython3",
   "version": "3.10.11"
  },
  "orig_nbformat": 4
 },
 "nbformat": 4,
 "nbformat_minor": 2
}

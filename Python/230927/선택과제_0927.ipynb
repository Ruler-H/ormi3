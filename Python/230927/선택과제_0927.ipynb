{
 "cells": [
  {
   "cell_type": "code",
   "execution_count": 25,
   "metadata": {},
   "outputs": [
    {
     "data": {
      "text/plain": [
       "1"
      ]
     },
     "execution_count": 25,
     "metadata": {},
     "output_type": "execute_result"
    }
   ],
   "source": [
    "# [\"aya\", \"yee\", \"u\", \"maa\", \"wyeoo\"]\n",
    "babbling = [\"aya\", \"yee\", \"u\", \"maa\", \"wyeoo\"]\n",
    "babbling_str = str(babbling)\n",
    "babble_list = babbling_str.replace('aya', ' ').replace('ye', ' ').replace('woo', ' ').replace('ma', ' ').replace(\"'\", '')[1:-1].split(',')\n",
    "list(map(lambda x:x.strip(), babble_list)).count('')\n",
    "\n",
    "\n",
    "# 1"
   ]
  },
  {
   "cell_type": "code",
   "execution_count": 33,
   "metadata": {},
   "outputs": [
    {
     "name": "stdout",
     "output_type": "stream",
     "text": [
      "[76, 24, 3]\n"
     ]
    },
    {
     "data": {
      "text/plain": [
       "[3, 1, 2]"
      ]
     },
     "execution_count": 33,
     "metadata": {},
     "output_type": "execute_result"
    }
   ],
   "source": [
    "# [3, 76, 24]\n",
    "emergency = [3, 76, 24]\n",
    "sort_emer = sorted(emergency, reverse= True)\n",
    "answer = list(map(lambda x: sort_emer.index(x)+1, emergency))\n",
    "answer\n",
    "# [3, 1, 2]"
   ]
  },
  {
   "cell_type": "code",
   "execution_count": null,
   "metadata": {},
   "outputs": [],
   "source": []
  }
 ],
 "metadata": {
  "kernelspec": {
   "display_name": "Python 3",
   "language": "python",
   "name": "python3"
  },
  "language_info": {
   "name": "python",
   "version": "3.10.11"
  },
  "orig_nbformat": 4
 },
 "nbformat": 4,
 "nbformat_minor": 2
}

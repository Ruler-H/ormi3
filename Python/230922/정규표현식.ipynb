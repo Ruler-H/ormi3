{
 "cells": [
  {
   "cell_type": "markdown",
   "metadata": {},
   "source": [
    "# 일반 문자열"
   ]
  },
  {
   "cell_type": "code",
   "execution_count": null,
   "metadata": {},
   "outputs": [],
   "source": [
    "# 대소문자를 가림.\n",
    "# ^hello는 처음 나오는 hello를 가리킴\n",
    "# hello^는 마지막에 나오는 hello는 아님\n",
    "# hello$는 마지막에 나오는 hello를 가리킴\n",
    "# h.llo는 h 다음에 어느 문자든 1개의 문자(영문, 특수문자, 숫자, 한글 등)가 오며 llo가 이어 나와야 함"
   ]
  },
  {
   "cell_type": "markdown",
   "metadata": {},
   "source": [
    "# 대괄호(택1)"
   ]
  },
  {
   "cell_type": "code",
   "execution_count": null,
   "metadata": {},
   "outputs": [],
   "source": [
    "# h[eao]llo => hello, hallo, hollo를 선택\n",
    "# [a-z]\n",
    "# [a-zA-Z]\n",
    "# [0-9]\n",
    "# [a-zA-Z0-9]\n",
    "# [가-힣]\n",
    "# "
   ]
  },
  {
   "cell_type": "markdown",
   "metadata": {},
   "source": [
    "# 수량자"
   ]
  },
  {
   "cell_type": "code",
   "execution_count": 2,
   "metadata": {},
   "outputs": [],
   "source": [
    "# _* : 앞에 있는 문자가 0개 ~ N개\n",
    "# _+ : 앞에 있는 문자가 1개 ~ N개\n",
    "# _? : 앞에 있는 문자가 0개 ~ 1개\n",
    "\n",
    "# {3} : 3개\n",
    "# {3,} : 3개 이상\n",
    "# {1,3} : 1개 ~ 3개\n",
    "\n",
    "# _* : 앞에 있는 문자가 0개 ~ N개 ({0,})\n",
    "# _+ : 앞에 있는 문자가 1개 ~ N개({1,})\n",
    "# _? : 앞에 있는 문자가 0개 ~ 1개 ({0,1})\n",
    "\n",
    "# /[0-9]{3}[-.* ][0-9]{4}[-.* ][0-9]{4}/gm\n",
    "# /[0-9a-zA-Z]{2,3}[-.* ][0-9]{3,4}[-.* ][0-9]{4}/gm\n",
    "# /[0-9a-zA-Z]+@[0-9a-zA-Z]+.[a-zA-Z]+/gm"
   ]
  },
  {
   "cell_type": "code",
   "execution_count": 3,
   "metadata": {},
   "outputs": [],
   "source": [
    "# 이런 정규표현식은 여러분이 직접 만들지 마세요.\n",
    "# 인터넷 검색하면 나옵니다. email, 한국 전화번호 등이요.\n",
    "# why? 정규표현식에서 실수가 생겨 서비스에 CS가 들어온다던지\n",
    "# 크리티컬한 문제가 생긴다던지 하는 경우가 많습니다.\n",
    "# 읽을 줄은 알아야 합니다. 여러 패턴을 조합하거나, 비교는 해봐야 하니까요.\n",
    "# [0-9][0-9][0-9]-[0-9][0-9][0-9][0-9]-[0-9][0-9][0-9][0-9]\n",
    "# 0[0-9]+[-. ]?[0-9]{3,4}[-. ]?[0-9]{3,4}"
   ]
  },
  {
   "cell_type": "code",
   "execution_count": 4,
   "metadata": {},
   "outputs": [],
   "source": [
    "# ([a-zA-Z0-9@\\.\\-]+), ?([a-zA-Z0-9@\\.\\-]+)\n",
    "# [(name, leehojun), (age, 10), (height, 180), (email, paul-lab@naver.com)]"
   ]
  },
  {
   "cell_type": "markdown",
   "metadata": {},
   "source": [
    "# 캐릭터 클래스"
   ]
  },
  {
   "cell_type": "code",
   "execution_count": null,
   "metadata": {},
   "outputs": [],
   "source": [
    "# /\\w/gm : 워드(한글이 잡히지 않음)\n",
    "# /\\w{5} /gm : 5개의 글자와 스페이스 하나\n",
    "# /\\W/gm : not 워드\n",
    "# /\\d/gm : 숫자\n",
    "# /\\D/gm : not 숫자\n",
    "# /\\s/gm : 스페이스\n",
    "# /\\S/gm : not 스페이스"
   ]
  }
 ],
 "metadata": {
  "kernelspec": {
   "display_name": "Python 3",
   "language": "python",
   "name": "python3"
  },
  "language_info": {
   "codemirror_mode": {
    "name": "ipython",
    "version": 3
   },
   "file_extension": ".py",
   "mimetype": "text/x-python",
   "name": "python",
   "nbconvert_exporter": "python",
   "pygments_lexer": "ipython3",
   "version": "3.10.11"
  },
  "orig_nbformat": 4
 },
 "nbformat": 4,
 "nbformat_minor": 2
}

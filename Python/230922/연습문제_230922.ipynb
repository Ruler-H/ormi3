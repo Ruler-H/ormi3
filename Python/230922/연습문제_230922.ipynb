{
 "cells": [
  {
   "cell_type": "code",
   "execution_count": 59,
   "metadata": {},
   "outputs": [
    {
     "name": "stdout",
     "output_type": "stream",
     "text": [
      "10895826\n",
      "This is a simple example.\n",
      "['example1@gmail.com', 'example2@gmail.net']\n"
     ]
    }
   ],
   "source": [
    "# 문제1 https://www.paullab.co.kr/stock.html 서비스를 크롤링하여 제주코딩베이스캠프 연구원의 2019년 10월 총 거래량을 구해주세요.\n",
    "import requests\n",
    "from bs4 import BeautifulSoup\n",
    "\n",
    "response = requests.get('http://www.paullab.co.kr/stock.html')\n",
    "response.encoding = 'utf-8'\n",
    "html = response.text\n",
    "\n",
    "soup = BeautifulSoup(html, 'html.parser')\n",
    "data_researcher = soup.select('body > div:nth-child(3) > table > tbody > tr:not(:nth-child(1))')\n",
    "data_2019_10 = list(filter(lambda x:'2019.10' in x.select('tr > td > .date')[0].text, data_researcher))\n",
    "\n",
    "total_trading_volume = sum(map(lambda x:int(x.select('td:last-child > span')[0].text.replace(',', '')), data_2019_10))\n",
    "print(total_trading_volume)\n",
    "\n",
    "# 문제2 html에서 태그를 제거하고 텍스트만 뽑아낼 수 있도록 해주세요.\n",
    "import re\n",
    "\n",
    "html_text = '<p>This is a <em>simple</em> example.</p>'\n",
    "content_only = re.sub(r'<[\\w]+>|<\\/[\\w]+>', '', html_text)\n",
    "print(content_only)\n",
    "\n",
    "\n",
    "# 문제3 아래 텍스트에서 이메일만 추출할 수 있는 정규표현식을 만들어주세요.\n",
    "text_sample = '제 이메일 주소는 example1@gmail.com이고 회사 이메일 주소는 example2@gmail.net 입니다. example1로 연락을 주셨다면 제게 메시지 한 번 부탁드립니다.'\n",
    "f = re.compile(r'[a-zA-Z0-9]*@[a-zA-Z0-9]+[\\.][a-z]+')\n",
    "email_list = f.findall(text_sample)\n",
    "print(email_list)"
   ]
  },
  {
   "cell_type": "code",
   "execution_count": null,
   "metadata": {},
   "outputs": [],
   "source": []
  }
 ],
 "metadata": {
  "kernelspec": {
   "display_name": "Python 3",
   "language": "python",
   "name": "python3"
  },
  "language_info": {
   "name": "python",
   "version": "3.10.11"
  },
  "orig_nbformat": 4
 },
 "nbformat": 4,
 "nbformat_minor": 2
}

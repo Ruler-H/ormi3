{
 "cells": [
  {
   "cell_type": "code",
   "execution_count": 19,
   "metadata": {},
   "outputs": [
    {
     "name": "stdout",
     "output_type": "stream",
     "text": [
      "철수\n",
      "{'Tom': 92, 'Jerry': 100, 'Mickey': 75}\n",
      "apple\n"
     ]
    }
   ],
   "source": [
    "# 문제 1 : 주어진 리스트 data = [{\"name\": \"길동\", \"수학\": 3, , \"과학\": 93}, {\"name\": \"춘향\", \"수학\": 33, \"수학\": 11}, {\"name\": \"철수\", \"수학\": 94, \"과학\": 67}]에서 평균점수가 가장 높은 학생에 이름을 출력하세요.\n",
    "data = [{\"name\": \"길동\", \"수학\": 3, \"과학\": 93}, {\"name\": \"춘향\", \"수학\": 33, \"과학\": 11}, {\"name\": \"철수\", \"수학\": 94, \"과학\": 67}]\n",
    "print(max(data, key=lambda x: x['수학'] + x['과학'])['name'])\n",
    "\n",
    "# 문제 2 : 주어진 사전 grades = {\"Tom\": 87, \"Jerry\": 95, \"Mickey\": 70}의 모든 값을 5점씩 증가시키고 결과를 출력하세요.\n",
    "grades = {\"Tom\": 87, \"Jerry\": 95, \"Mickey\": 70}\n",
    "for key in grades:\n",
    "\tgrades[key] += 5\n",
    "print(grades)\n",
    "\n",
    "# 문제 3 : 주어진 문자열 s = \"apple banana apple cherry banana cherry apple\"에서 가장 자주 등장하는 단어를 출력하세요\n",
    "s = \"apple banana apple cherry banana cherry apple\"\n",
    "sList = s.split(' ')\n",
    "wordDic = {}\n",
    "while sList:\n",
    "\tword = sList[0]\n",
    "\twordDic[word] = sList.count(word)\n",
    "\tsList = list(filter(lambda x:x!=word, sList))\n",
    "print(max(wordDic, key=lambda x:wordDic[x]))"
   ]
  },
  {
   "cell_type": "markdown",
   "metadata": {},
   "source": [
    "# 조건문"
   ]
  },
  {
   "cell_type": "code",
   "execution_count": 1,
   "metadata": {},
   "outputs": [],
   "source": [
    "if True:\n",
    "\tpass"
   ]
  },
  {
   "cell_type": "code",
   "execution_count": 1,
   "metadata": {},
   "outputs": [
    {
     "data": {
      "text/plain": [
       "[0, 2, 4, 6, 8]"
      ]
     },
     "execution_count": 1,
     "metadata": {},
     "output_type": "execute_result"
    }
   ],
   "source": [
    "[i for i in range(10) if i % 2 == 0]"
   ]
  },
  {
   "cell_type": "code",
   "execution_count": 2,
   "metadata": {},
   "outputs": [
    {
     "name": "stdout",
     "output_type": "stream",
     "text": [
      "hello\n"
     ]
    }
   ],
   "source": [
    "def f():\n",
    "\treturn True\n",
    "\n",
    "if f():\n",
    "\tprint('hello')"
   ]
  },
  {
   "cell_type": "code",
   "execution_count": 3,
   "metadata": {},
   "outputs": [
    {
     "data": {
      "text/plain": [
       "'hello'"
      ]
     },
     "execution_count": 3,
     "metadata": {},
     "output_type": "execute_result"
    }
   ],
   "source": [
    "# 성능에 영향을 끼침\n",
    "def f():\n",
    "\treturn True\n",
    "\n",
    "def ff():\n",
    "\treturn 'hello'\n",
    "\n",
    "if f() and ff():\n",
    "\tprint('hello')"
   ]
  },
  {
   "cell_type": "code",
   "execution_count": 5,
   "metadata": {},
   "outputs": [
    {
     "name": "stdout",
     "output_type": "stream",
     "text": [
      "hello\n"
     ]
    }
   ],
   "source": [
    "def f():\n",
    "\treturn False\n",
    "\n",
    "def ff():\n",
    "\treturn 'hello'\n",
    "\n",
    "if f() or ff():\n",
    "\tprint('hello')"
   ]
  },
  {
   "cell_type": "code",
   "execution_count": 6,
   "metadata": {},
   "outputs": [],
   "source": [
    "my_function = lambda x: 'Even' if x % 2 == 0 else 'Odd'"
   ]
  },
  {
   "cell_type": "code",
   "execution_count": 7,
   "metadata": {},
   "outputs": [
    {
     "data": {
      "text/plain": [
       "'Even'"
      ]
     },
     "execution_count": 7,
     "metadata": {},
     "output_type": "execute_result"
    }
   ],
   "source": [
    "my_function(2)"
   ]
  },
  {
   "cell_type": "code",
   "execution_count": 8,
   "metadata": {},
   "outputs": [
    {
     "ename": "AssertionError",
     "evalue": "양수여야 한다!",
     "output_type": "error",
     "traceback": [
      "\u001b[1;31m---------------------------------------------------------------------------\u001b[0m",
      "\u001b[1;31mAssertionError\u001b[0m                            Traceback (most recent call last)",
      "\u001b[1;32md:\\ormi3\\Python\\230914\\ormi3_4.ipynb 셀 10\u001b[0m line \u001b[0;36m2\n\u001b[0;32m      <a href='vscode-notebook-cell:/d%3A/ormi3/Python/230914/ormi3_4.ipynb#X12sZmlsZQ%3D%3D?line=0'>1</a>\u001b[0m x \u001b[39m=\u001b[39m \u001b[39m-\u001b[39m\u001b[39m1\u001b[39m\n\u001b[1;32m----> <a href='vscode-notebook-cell:/d%3A/ormi3/Python/230914/ormi3_4.ipynb#X12sZmlsZQ%3D%3D?line=1'>2</a>\u001b[0m \u001b[39massert\u001b[39;00m x \u001b[39m>\u001b[39m \u001b[39m0\u001b[39m, \u001b[39m'\u001b[39m\u001b[39m양수여야 한다!\u001b[39m\u001b[39m'\u001b[39m\n",
      "\u001b[1;31mAssertionError\u001b[0m: 양수여야 한다!"
     ]
    }
   ],
   "source": [
    "x = -1\n",
    "assert x > 0, '양수여야 한다!'"
   ]
  },
  {
   "cell_type": "code",
   "execution_count": 9,
   "metadata": {},
   "outputs": [
    {
     "name": "stdout",
     "output_type": "stream",
     "text": [
      "mom : i'm happy!\n",
      "100000\n"
     ]
    }
   ],
   "source": [
    "score = 81\n",
    "money = 0\n",
    "\n",
    "if score >= 90:\n",
    "    print('mom : i\\'m so happy!')\n",
    "    money += 1000000\n",
    "elif score >= 80:\n",
    "    print('mom : i\\'m happy!')\n",
    "    money += 100000\n",
    "elif score >= 70 and score < 80:\n",
    "    print('mom : i\\'m so...!')\n",
    "    money += 10000\n",
    "elif score >= 60 and score < 70:\n",
    "    print('mom : i\\'m so...!')\n",
    "    money += 1000\n",
    "else:\n",
    "    print('mom : i\\'m...!')\n",
    "print(money)"
   ]
  },
  {
   "cell_type": "code",
   "execution_count": 10,
   "metadata": {},
   "outputs": [
    {
     "name": "stdout",
     "output_type": "stream",
     "text": [
      "mom : i'm happy!\n",
      "100000\n"
     ]
    }
   ],
   "source": [
    "score = 81\n",
    "money = 0\n",
    "\n",
    "if score >= 90:\n",
    "    print('mom : i\\'m so happy!')\n",
    "    money += 1000000\n",
    "elif score >= 80:\n",
    "    print('mom : i\\'m happy!')\n",
    "    money += 100000\n",
    "elif score >= 7:\n",
    "    print('mom : i\\'m so...!')\n",
    "    money += 10000\n",
    "elif score >= 60:\n",
    "    print('mom : i\\'m so...!')\n",
    "    money += 1000\n",
    "else:\n",
    "    print('mom : i\\'m...!')\n",
    "print(money)"
   ]
  },
  {
   "cell_type": "code",
   "execution_count": 13,
   "metadata": {},
   "outputs": [
    {
     "name": "stdout",
     "output_type": "stream",
     "text": [
      "mom : i'm happy!\n",
      "mom : i'm so...!\n",
      "mom : i'm so...!\n",
      "111000\n"
     ]
    }
   ],
   "source": [
    "score = 81\n",
    "money = 0\n",
    "\n",
    "if score >= 90:\n",
    "    print('mom : i\\'m so happy!')\n",
    "    money += 1000000\n",
    "if score >= 80:\n",
    "    print('mom : i\\'m happy!')\n",
    "    money += 100000\n",
    "if score >= 70:\n",
    "    print('mom : i\\'m so...!')\n",
    "    money += 10000\n",
    "if score >= 60:\n",
    "    print('mom : i\\'m so...!')\n",
    "    money += 1000\n",
    "else:\n",
    "    print('mom : i\\'m...!')\n",
    "print(money)"
   ]
  },
  {
   "cell_type": "code",
   "execution_count": 14,
   "metadata": {},
   "outputs": [],
   "source": [
    "# if 중첩 예제\n",
    "movie = {\n",
    "\t'영화' : '무빙',\n",
    "\t'장르' : 'SF',\n",
    "\t'서비스' : '디즈니',\n",
    "\t'비용' : 15000,\n",
    "\t'평점' : 4.9\n",
    "}\n",
    "\n",
    "if movie['장르'] == 'SF':\n",
    "\tif movie['서비스'] == '디즈니' or movie['서비스'] == '넷플릭스':\n",
    "\t\tif movie['평점'] >= 4.5:\n",
    "\t\t\tif movie['비용'] <= 10000:\n",
    "\t\t\t\tprint('영화 시청')"
   ]
  },
  {
   "cell_type": "code",
   "execution_count": 15,
   "metadata": {},
   "outputs": [
    {
     "name": "stdout",
     "output_type": "stream",
     "text": [
      "영화시청\n"
     ]
    }
   ],
   "source": [
    "# if를 중첩해서 사용하기\n",
    "movie = {\n",
    "    '영화': '무빙',\n",
    "    '장르': 'SF',\n",
    "    '서비스': '디즈니',\n",
    "    '비용': 15000,\n",
    "    '평점': 4.9\n",
    "}\n",
    "\n",
    "if movie['장르'] == 'SF' and (movie['서비스'] == '디즈니' or movie['서비스'] == '넷플릭스') and movie['평점'] >= 4.5 and movie['비용'] <= 20000:\n",
    "    print('영화시청')"
   ]
  },
  {
   "cell_type": "code",
   "execution_count": null,
   "metadata": {},
   "outputs": [],
   "source": [
    "# if를 중첩해서 사용하기\n",
    "movie = {\n",
    "    '영화': '무빙',\n",
    "    '장르': 'SF',\n",
    "    '서비스': '디즈니',\n",
    "    '비용': 15000,\n",
    "    '평점': 4.9\n",
    "}\n",
    "\n",
    "if movie['장르'] == 'SF':\n",
    "    if movie['서비스'] == '디즈니' or movie['서비스'] == '넷플릭스':\n",
    "        if movie['평점'] >= 4.5:\n",
    "            if movie['비용'] <= 20000:\n",
    "                print('영화시청')"
   ]
  },
  {
   "cell_type": "code",
   "execution_count": 16,
   "metadata": {},
   "outputs": [
    {
     "name": "stdout",
     "output_type": "stream",
     "text": [
      "왓챠 구독하기!\n"
     ]
    }
   ],
   "source": [
    "# if를 중첩해서 사용하기\n",
    "movie = {\n",
    "    '영화': '무빙',\n",
    "    '장르': 'SF',\n",
    "    '서비스': '왓챠',\n",
    "    '비용': 15000,\n",
    "    '평점': 4.9\n",
    "}\n",
    "\n",
    "if movie['장르'] == 'SF':\n",
    "    if movie['서비스'] == '디즈니' or movie['서비스'] == '넷플릭스':\n",
    "        if movie['평점'] >= 4.5:\n",
    "            if movie['비용'] <= 20000:\n",
    "                print('영화시청')\n",
    "    else:\n",
    "        print(movie['서비스'] + ' 구독하기!')"
   ]
  },
  {
   "cell_type": "markdown",
   "metadata": {},
   "source": [
    "# match"
   ]
  },
  {
   "cell_type": "code",
   "execution_count": 17,
   "metadata": {},
   "outputs": [
    {
     "name": "stdout",
     "output_type": "stream",
     "text": [
      "No Match\n"
     ]
    }
   ],
   "source": [
    "text = 'Hello World'\n",
    "match text:\n",
    "    case 'Hello':\n",
    "        print('Hello')\n",
    "    case 'World':\n",
    "        print('World')\n",
    "    case _:\n",
    "        print('No Match') # 결과 'No Match'"
   ]
  },
  {
   "cell_type": "code",
   "execution_count": 18,
   "metadata": {},
   "outputs": [
    {
     "name": "stdout",
     "output_type": "stream",
     "text": [
      "World\n"
     ]
    }
   ],
   "source": [
    "# 작동하는 코드입니다.\n",
    "text = 'Hello'\n",
    "match text:\n",
    "    case 'Hello' | 'World':\n",
    "        print('World')\n",
    "    case _:\n",
    "        print('No Match')"
   ]
  },
  {
   "cell_type": "code",
   "execution_count": 19,
   "metadata": {},
   "outputs": [
    {
     "name": "stdout",
     "output_type": "stream",
     "text": [
      "One\n",
      "Two\n",
      "Three or Four\n",
      "Three or Four\n",
      "Other\n",
      "Greater than ten\n"
     ]
    }
   ],
   "source": [
    "def test(i):\n",
    "    match i:\n",
    "        case 1:\n",
    "            print('One')\n",
    "        case 2:\n",
    "            print('Two')\n",
    "        case 3 | 4:\n",
    "            print('Three or Four')\n",
    "        case _ if i > 10:\n",
    "            print('Greater than ten')\n",
    "        case _:\n",
    "            print('Other')\n",
    "\n",
    "test(1) # 출력: One\n",
    "test(2) # 출력: Two\n",
    "test(3) # 출력: Three or Four\n",
    "test(4) # 출력: Three or Four\n",
    "test(5) # 출력: Other\n",
    "test(15) # 출력: Greater than ten"
   ]
  },
  {
   "cell_type": "code",
   "execution_count": 20,
   "metadata": {},
   "outputs": [
    {
     "name": "stdout",
     "output_type": "stream",
     "text": [
      "One\n",
      "Two\n",
      "Greater than two\n",
      "Greater than two\n"
     ]
    }
   ],
   "source": [
    "def test(i):\n",
    "    match i:\n",
    "        case 1:\n",
    "            print('One')\n",
    "        case 2:\n",
    "            print('Two')\n",
    "        case _:\n",
    "            if i > 2:\n",
    "                print('Greater than two')\n",
    "            else:\n",
    "                print('Less than or equal to two')\n",
    "test(1) # 출력: One\n",
    "test(2) # 출력: Two\n",
    "test(3) # 출력: Greater than two\n",
    "test(4) # 출력: Greater than two"
   ]
  },
  {
   "cell_type": "code",
   "execution_count": 23,
   "metadata": {},
   "outputs": [
    {
     "name": "stdout",
     "output_type": "stream",
     "text": [
      "100ms 만큼 상대방이 혼란을 느낍니다.\n"
     ]
    }
   ],
   "source": [
    "# 문제 match를 사용하여 아래 코드를 완성해주세요.\n",
    "\n",
    "def attack(attack_type, damage):\n",
    "\tmatch attack_type:\n",
    "\t\tcase '물리공격' | '마법공격':\n",
    "\t\t\tprint(f'{damage}의 데미지 입혔습니다.')\n",
    "\t\tcase '정신공격':\n",
    "\t\t\tprint(f'{damage}ms 만큼 상대방이 혼란을 느낍니다.')\n",
    "\n",
    "attack('정신공격', 100) # 물리공격, 마법공격, 정신공격\n",
    "\n",
    "# 각 공격에 따라 아래의 값이 출력되어야 합니다.\n",
    "# 물리공격, 마법공격 : '100의 데미지 입혔습니다.'\n",
    "# 정신공격 : '100ms 만큼 상대방이 혼란을 느낍니다.'"
   ]
  },
  {
   "cell_type": "markdown",
   "metadata": {},
   "source": [
    "# 반복문"
   ]
  },
  {
   "cell_type": "code",
   "execution_count": 24,
   "metadata": {},
   "outputs": [
    {
     "name": "stdout",
     "output_type": "stream",
     "text": [
      "현재 값은 h 입니다.\n",
      "현재 값은 e 입니다.\n",
      "현재 값은 l 입니다.\n",
      "현재 값은 l 입니다.\n",
      "현재 값은 o 입니다.\n"
     ]
    }
   ],
   "source": [
    "for x in 'hello':\n",
    "\tprint(f'현재 값은 {x} 입니다.')"
   ]
  },
  {
   "cell_type": "code",
   "execution_count": 25,
   "metadata": {},
   "outputs": [
    {
     "name": "stdout",
     "output_type": "stream",
     "text": [
      "현재 값은 1 입니다.\n",
      "현재 값은 2 입니다.\n",
      "현재 값은 3 입니다.\n",
      "현재 값은 4 입니다.\n",
      "현재 값은 5 입니다.\n"
     ]
    }
   ],
   "source": [
    "for x in (1, 2, 3, 4, 5):\n",
    "\tprint(f'현재 값은 {x} 입니다.')"
   ]
  },
  {
   "cell_type": "code",
   "execution_count": 34,
   "metadata": {},
   "outputs": [
    {
     "name": "stdout",
     "output_type": "stream",
     "text": [
      "h\n",
      "e\n",
      "l\n",
      "l\n",
      "o\n"
     ]
    },
    {
     "ename": "StopIteration",
     "evalue": "",
     "output_type": "error",
     "traceback": [
      "\u001b[1;31m---------------------------------------------------------------------------\u001b[0m",
      "\u001b[1;31mStopIteration\u001b[0m                             Traceback (most recent call last)",
      "\u001b[1;32md:\\ormi3\\Python\\230914\\ormi3_4.ipynb 셀 27\u001b[0m line \u001b[0;36m7\n\u001b[0;32m      <a href='vscode-notebook-cell:/d%3A/ormi3/Python/230914/ormi3_4.ipynb#X42sZmlsZQ%3D%3D?line=4'>5</a>\u001b[0m \u001b[39mprint\u001b[39m(\u001b[39mnext\u001b[39m(x))\n\u001b[0;32m      <a href='vscode-notebook-cell:/d%3A/ormi3/Python/230914/ormi3_4.ipynb#X42sZmlsZQ%3D%3D?line=5'>6</a>\u001b[0m \u001b[39mprint\u001b[39m(\u001b[39mnext\u001b[39m(x))\n\u001b[1;32m----> <a href='vscode-notebook-cell:/d%3A/ormi3/Python/230914/ormi3_4.ipynb#X42sZmlsZQ%3D%3D?line=6'>7</a>\u001b[0m \u001b[39mprint\u001b[39m(\u001b[39mnext\u001b[39;49m(x))\n",
      "\u001b[1;31mStopIteration\u001b[0m: "
     ]
    }
   ],
   "source": [
    "x = iter('hello')\n",
    "print(next(x))\n",
    "print(next(x))\n",
    "print(next(x))\n",
    "print(next(x))\n",
    "print(next(x))\n",
    "print(next(x)) # error - StopIteration"
   ]
  },
  {
   "cell_type": "code",
   "execution_count": 42,
   "metadata": {},
   "outputs": [],
   "source": [
    "x = 'hello'\n",
    "y = x.__iter__()"
   ]
  },
  {
   "cell_type": "code",
   "execution_count": 48,
   "metadata": {},
   "outputs": [
    {
     "ename": "StopIteration",
     "evalue": "",
     "output_type": "error",
     "traceback": [
      "\u001b[1;31m---------------------------------------------------------------------------\u001b[0m",
      "\u001b[1;31mStopIteration\u001b[0m                             Traceback (most recent call last)",
      "\u001b[1;32md:\\ormi3\\Python\\230914\\ormi3_4.ipynb 셀 29\u001b[0m line \u001b[0;36m1\n\u001b[1;32m----> <a href='vscode-notebook-cell:/d%3A/ormi3/Python/230914/ormi3_4.ipynb#X44sZmlsZQ%3D%3D?line=0'>1</a>\u001b[0m y\u001b[39m.\u001b[39;49m\u001b[39m__next__\u001b[39;49m()\n",
      "\u001b[1;31mStopIteration\u001b[0m: "
     ]
    }
   ],
   "source": [
    "y.__next__()"
   ]
  },
  {
   "cell_type": "code",
   "execution_count": 50,
   "metadata": {},
   "outputs": [
    {
     "data": {
      "text/plain": [
       "['__bool__',\n",
       " '__class__',\n",
       " '__contains__',\n",
       " '__delattr__',\n",
       " '__dir__',\n",
       " '__doc__',\n",
       " '__eq__',\n",
       " '__format__',\n",
       " '__ge__',\n",
       " '__getattribute__',\n",
       " '__getitem__',\n",
       " '__gt__',\n",
       " '__hash__',\n",
       " '__init__',\n",
       " '__init_subclass__',\n",
       " '__iter__',\n",
       " '__le__',\n",
       " '__len__',\n",
       " '__lt__',\n",
       " '__ne__',\n",
       " '__new__',\n",
       " '__reduce__',\n",
       " '__reduce_ex__',\n",
       " '__repr__',\n",
       " '__reversed__',\n",
       " '__setattr__',\n",
       " '__sizeof__',\n",
       " '__str__',\n",
       " '__subclasshook__',\n",
       " 'count',\n",
       " 'index',\n",
       " 'start',\n",
       " 'step',\n",
       " 'stop']"
      ]
     },
     "execution_count": 50,
     "metadata": {},
     "output_type": "execute_result"
    }
   ],
   "source": [
    "dir(range(10))"
   ]
  },
  {
   "cell_type": "code",
   "execution_count": 52,
   "metadata": {},
   "outputs": [],
   "source": [
    "단어_사전 = {\n",
    "    '하나' : 'one',\n",
    "    '둘' : 'two',\n",
    "    '셋' : 'three',\n",
    "}"
   ]
  },
  {
   "cell_type": "code",
   "execution_count": 53,
   "metadata": {},
   "outputs": [
    {
     "name": "stdout",
     "output_type": "stream",
     "text": [
      "하나 : one\n",
      "둘 : two\n",
      "셋 : three\n"
     ]
    }
   ],
   "source": [
    "for key,value in 단어_사전.items():\n",
    "    print('{0} : {1}'.format(key, value))"
   ]
  },
  {
   "cell_type": "code",
   "execution_count": 55,
   "metadata": {},
   "outputs": [
    {
     "data": {
      "text/plain": [
       "2550"
      ]
     },
     "execution_count": 55,
     "metadata": {},
     "output_type": "execute_result"
    }
   ],
   "source": [
    "# 1부터 100까지 더하는 코드\n",
    "result = 0\n",
    "for i in range(101):\n",
    "\tif i % 2 == 0:\n",
    "\t\tresult += i\n",
    "result"
   ]
  },
  {
   "cell_type": "code",
   "execution_count": 56,
   "metadata": {},
   "outputs": [
    {
     "name": "stdout",
     "output_type": "stream",
     "text": [
      "0\n",
      "1\n",
      "2\n",
      "0\n",
      "1\n",
      "2\n",
      "3\n",
      "4\n",
      "0\n",
      "1\n",
      "2\n",
      "3\n",
      "4\n",
      "5\n",
      "6\n"
     ]
    }
   ],
   "source": [
    "for i in [range(3), range(5), range(7)]:\n",
    "\tfor j in i:\n",
    "\t\tprint(j)"
   ]
  },
  {
   "cell_type": "code",
   "execution_count": 57,
   "metadata": {},
   "outputs": [
    {
     "name": "stdout",
     "output_type": "stream",
     "text": [
      "2 * 1 = 2\n",
      "2 * 2 = 4\n",
      "2 * 3 = 6\n",
      "2 * 4 = 8\n",
      "2 * 5 = 10\n",
      "2 * 6 = 12\n",
      "2 * 7 = 14\n",
      "2 * 8 = 16\n",
      "2 * 9 = 18\n",
      "3 * 1 = 3\n",
      "3 * 2 = 6\n",
      "3 * 3 = 9\n",
      "3 * 4 = 12\n",
      "3 * 5 = 15\n",
      "3 * 6 = 18\n",
      "3 * 7 = 21\n",
      "3 * 8 = 24\n",
      "3 * 9 = 27\n",
      "4 * 1 = 4\n",
      "4 * 2 = 8\n",
      "4 * 3 = 12\n",
      "4 * 4 = 16\n",
      "4 * 5 = 20\n",
      "4 * 6 = 24\n",
      "4 * 7 = 28\n",
      "4 * 8 = 32\n",
      "4 * 9 = 36\n",
      "5 * 1 = 5\n",
      "5 * 2 = 10\n",
      "5 * 3 = 15\n",
      "5 * 4 = 20\n",
      "5 * 5 = 25\n",
      "5 * 6 = 30\n",
      "5 * 7 = 35\n",
      "5 * 8 = 40\n",
      "5 * 9 = 45\n",
      "6 * 1 = 6\n",
      "6 * 2 = 12\n",
      "6 * 3 = 18\n",
      "6 * 4 = 24\n",
      "6 * 5 = 30\n",
      "6 * 6 = 36\n",
      "6 * 7 = 42\n",
      "6 * 8 = 48\n",
      "6 * 9 = 54\n",
      "7 * 1 = 7\n",
      "7 * 2 = 14\n",
      "7 * 3 = 21\n",
      "7 * 4 = 28\n",
      "7 * 5 = 35\n",
      "7 * 6 = 42\n",
      "7 * 7 = 49\n",
      "7 * 8 = 56\n",
      "7 * 9 = 63\n",
      "8 * 1 = 8\n",
      "8 * 2 = 16\n",
      "8 * 3 = 24\n",
      "8 * 4 = 32\n",
      "8 * 5 = 40\n",
      "8 * 6 = 48\n",
      "8 * 7 = 56\n",
      "8 * 8 = 64\n",
      "8 * 9 = 72\n",
      "9 * 1 = 9\n",
      "9 * 2 = 18\n",
      "9 * 3 = 27\n",
      "9 * 4 = 36\n",
      "9 * 5 = 45\n",
      "9 * 6 = 54\n",
      "9 * 7 = 63\n",
      "9 * 8 = 72\n",
      "9 * 9 = 81\n"
     ]
    }
   ],
   "source": [
    "for i in range(2, 10):\n",
    "\tfor j in range(1, 10):\n",
    "\t\tprint(f'{i} * {j} = {i * j}')"
   ]
  },
  {
   "cell_type": "code",
   "execution_count": 59,
   "metadata": {},
   "outputs": [
    {
     "name": "stdout",
     "output_type": "stream",
     "text": [
      "1 X 1 = 1\n",
      "1 X 2 = 2\n",
      "1 X 3 = 3\n",
      "1 X 4 = 4\n",
      "1 X 5 = 5\n",
      "1 X 6 = 6\n",
      "1 X 7 = 7\n",
      "1 X 8 = 8\n",
      "1 X 9 = 9\n",
      "3 X 1 = 3\n",
      "3 X 2 = 6\n",
      "3 X 3 = 9\n",
      "3 X 4 = 12\n",
      "3 X 5 = 15\n",
      "3 X 6 = 18\n",
      "3 X 7 = 21\n",
      "3 X 8 = 24\n",
      "3 X 9 = 27\n",
      "5 X 1 = 5\n",
      "5 X 2 = 10\n",
      "5 X 3 = 15\n",
      "5 X 4 = 20\n",
      "5 X 5 = 25\n",
      "5 X 6 = 30\n",
      "5 X 7 = 35\n",
      "5 X 8 = 40\n",
      "5 X 9 = 45\n",
      "6 X 1 = 6\n",
      "6 X 2 = 12\n",
      "6 X 3 = 18\n",
      "6 X 4 = 24\n",
      "6 X 5 = 30\n",
      "6 X 6 = 36\n",
      "6 X 7 = 42\n",
      "6 X 8 = 48\n",
      "6 X 9 = 54\n",
      "7 X 1 = 7\n",
      "7 X 2 = 14\n",
      "7 X 3 = 21\n",
      "7 X 4 = 28\n",
      "7 X 5 = 35\n",
      "7 X 6 = 42\n",
      "7 X 7 = 49\n",
      "7 X 8 = 56\n",
      "7 X 9 = 63\n",
      "8 X 1 = 8\n",
      "8 X 2 = 16\n",
      "8 X 3 = 24\n",
      "8 X 4 = 32\n",
      "8 X 5 = 40\n",
      "8 X 6 = 48\n",
      "8 X 7 = 56\n",
      "8 X 8 = 64\n",
      "8 X 9 = 72\n",
      "2 X 3 = 6\n",
      "2 X 4 = 8\n",
      "2 X 7 = 14\n",
      "3 X 3 = 9\n",
      "3 X 4 = 12\n",
      "3 X 7 = 21\n",
      "6 X 3 = 18\n",
      "6 X 4 = 24\n",
      "6 X 7 = 42\n"
     ]
    }
   ],
   "source": [
    "# 문제 : for 2중첩\n",
    "# 다음과 같은 문자열이 있습니다.\n",
    "s = '135678'\n",
    "# 이때 구구단 1단, 3단, 5단, 6단, 7단, 8단을 출력하는 코드를 만들어주세요.\n",
    "for i in s:\n",
    "\ti_int = int(i)\n",
    "\tfor j in range(1, 10):\n",
    "\t\tresult = i_int * j\n",
    "\t\tprint(f'{i} X {j} = {result}')\n",
    "\n",
    "# 심화문제\n",
    "# 특이한 구구단이 있다.\n",
    "# [2, 3, 6]이 있엇을 때 아래와 같이 출력되어야 한다.\n",
    "'''\n",
    "2 X 3 = 6\n",
    "2 X 4 = 8\n",
    "2 X 7 = 14\n",
    "3 X 3 = 9\n",
    "3 X 4 = 12\n",
    "3 X 7 = 21\n",
    "6 X 3 = 18\n",
    "6 X 4 = 24\n",
    "6 X 7 = 42\n",
    "'''\n",
    "num_list = [2, 3, 6]\n",
    "\n",
    "for i in num_list:\n",
    "\tfor j in num_list:\n",
    "\t\tresult = i * (j + 1)\n",
    "\t\tprint(f'{i} X {j + 1} = {result}')"
   ]
  },
  {
   "cell_type": "code",
   "execution_count": 60,
   "metadata": {},
   "outputs": [
    {
     "name": "stdout",
     "output_type": "stream",
     "text": [
      "고기잡이 100 SS\n",
      "고기팔기 120 SSS\n",
      "낚시 5 C\n",
      "통발 5 C\n",
      "큰그물 5 C\n"
     ]
    }
   ],
   "source": [
    "# 하나만 리스트여도 쌍이면 상관없이 잘 돌아감    \n",
    "skill = [\n",
    "        ('고기잡이', 100, 'SS'),\n",
    "        ('고기팔기', 120, 'SSS'),\n",
    "        ('낚시', 5, 'C'),\n",
    "        ('통발', 5, 'C'),\n",
    "        ('큰그물', 5, 'C')\n",
    "]\n",
    "\n",
    "for skillName, skillLevel, skillGrade in skill:\n",
    "    print(skillName, skillLevel, skillGrade)"
   ]
  },
  {
   "cell_type": "code",
   "execution_count": 61,
   "metadata": {},
   "outputs": [
    {
     "name": "stdout",
     "output_type": "stream",
     "text": [
      "20\n",
      "10\n"
     ]
    }
   ],
   "source": [
    "x = (n := 10) * 2\n",
    "print(x)  # 출력: 20\n",
    "print(n)  # 출력: 10"
   ]
  },
  {
   "cell_type": "code",
   "execution_count": 63,
   "metadata": {},
   "outputs": [
    {
     "name": "stdout",
     "output_type": "stream",
     "text": [
      "Down\n",
      "Up\n",
      "Up\n",
      "Up\n",
      "Up\n",
      "Up\n",
      "Down\n",
      "Up\n",
      "Up\n",
      "Up\n",
      "Up\n",
      "Down\n",
      "Down\n",
      "Down\n",
      "Down\n"
     ]
    },
    {
     "ename": "KeyboardInterrupt",
     "evalue": "Interrupted by user",
     "output_type": "error",
     "traceback": [
      "\u001b[1;31m---------------------------------------------------------------------------\u001b[0m",
      "\u001b[1;31mKeyboardInterrupt\u001b[0m                         Traceback (most recent call last)",
      "\u001b[1;32md:\\ormi3\\Python\\230914\\ormi3_4.ipynb 셀 39\u001b[0m line \u001b[0;36m4\n\u001b[0;32m      <a href='vscode-notebook-cell:/d%3A/ormi3/Python/230914/ormi3_4.ipynb#X61sZmlsZQ%3D%3D?line=1'>2</a>\u001b[0m answer \u001b[39m=\u001b[39m random\u001b[39m.\u001b[39mrandint(\u001b[39m1\u001b[39m, \u001b[39m1000\u001b[39m)\n\u001b[0;32m      <a href='vscode-notebook-cell:/d%3A/ormi3/Python/230914/ormi3_4.ipynb#X61sZmlsZQ%3D%3D?line=2'>3</a>\u001b[0m \u001b[39mwhile\u001b[39;00m \u001b[39mTrue\u001b[39;00m:\n\u001b[1;32m----> <a href='vscode-notebook-cell:/d%3A/ormi3/Python/230914/ormi3_4.ipynb#X61sZmlsZQ%3D%3D?line=3'>4</a>\u001b[0m \tuserinput \u001b[39m=\u001b[39m \u001b[39mint\u001b[39m(\u001b[39minput\u001b[39;49m(\u001b[39m'\u001b[39;49m\u001b[39m숫자를 입력해주세요.\u001b[39;49m\u001b[39m'\u001b[39;49m))\n\u001b[0;32m      <a href='vscode-notebook-cell:/d%3A/ormi3/Python/230914/ormi3_4.ipynb#X61sZmlsZQ%3D%3D?line=4'>5</a>\u001b[0m \t\u001b[39mif\u001b[39;00m userinput \u001b[39m>\u001b[39m answer:\n\u001b[0;32m      <a href='vscode-notebook-cell:/d%3A/ormi3/Python/230914/ormi3_4.ipynb#X61sZmlsZQ%3D%3D?line=5'>6</a>\u001b[0m \t\t\u001b[39mprint\u001b[39m(\u001b[39m'\u001b[39m\u001b[39mDown\u001b[39m\u001b[39m'\u001b[39m)\n",
      "File \u001b[1;32m~\\AppData\\Local\\Packages\\PythonSoftwareFoundation.Python.3.10_qbz5n2kfra8p0\\LocalCache\\local-packages\\Python310\\site-packages\\ipykernel\\kernelbase.py:1202\u001b[0m, in \u001b[0;36mKernel.raw_input\u001b[1;34m(self, prompt)\u001b[0m\n\u001b[0;32m   1200\u001b[0m     msg \u001b[39m=\u001b[39m \u001b[39m\"\u001b[39m\u001b[39mraw_input was called, but this frontend does not support input requests.\u001b[39m\u001b[39m\"\u001b[39m\n\u001b[0;32m   1201\u001b[0m     \u001b[39mraise\u001b[39;00m StdinNotImplementedError(msg)\n\u001b[1;32m-> 1202\u001b[0m \u001b[39mreturn\u001b[39;00m \u001b[39mself\u001b[39;49m\u001b[39m.\u001b[39;49m_input_request(\n\u001b[0;32m   1203\u001b[0m     \u001b[39mstr\u001b[39;49m(prompt),\n\u001b[0;32m   1204\u001b[0m     \u001b[39mself\u001b[39;49m\u001b[39m.\u001b[39;49m_parent_ident[\u001b[39m\"\u001b[39;49m\u001b[39mshell\u001b[39;49m\u001b[39m\"\u001b[39;49m],\n\u001b[0;32m   1205\u001b[0m     \u001b[39mself\u001b[39;49m\u001b[39m.\u001b[39;49mget_parent(\u001b[39m\"\u001b[39;49m\u001b[39mshell\u001b[39;49m\u001b[39m\"\u001b[39;49m),\n\u001b[0;32m   1206\u001b[0m     password\u001b[39m=\u001b[39;49m\u001b[39mFalse\u001b[39;49;00m,\n\u001b[0;32m   1207\u001b[0m )\n",
      "File \u001b[1;32m~\\AppData\\Local\\Packages\\PythonSoftwareFoundation.Python.3.10_qbz5n2kfra8p0\\LocalCache\\local-packages\\Python310\\site-packages\\ipykernel\\kernelbase.py:1245\u001b[0m, in \u001b[0;36mKernel._input_request\u001b[1;34m(self, prompt, ident, parent, password)\u001b[0m\n\u001b[0;32m   1242\u001b[0m \u001b[39mexcept\u001b[39;00m \u001b[39mKeyboardInterrupt\u001b[39;00m:\n\u001b[0;32m   1243\u001b[0m     \u001b[39m# re-raise KeyboardInterrupt, to truncate traceback\u001b[39;00m\n\u001b[0;32m   1244\u001b[0m     msg \u001b[39m=\u001b[39m \u001b[39m\"\u001b[39m\u001b[39mInterrupted by user\u001b[39m\u001b[39m\"\u001b[39m\n\u001b[1;32m-> 1245\u001b[0m     \u001b[39mraise\u001b[39;00m \u001b[39mKeyboardInterrupt\u001b[39;00m(msg) \u001b[39mfrom\u001b[39;00m \u001b[39mNone\u001b[39;00m\n\u001b[0;32m   1246\u001b[0m \u001b[39mexcept\u001b[39;00m \u001b[39mException\u001b[39;00m:\n\u001b[0;32m   1247\u001b[0m     \u001b[39mself\u001b[39m\u001b[39m.\u001b[39mlog\u001b[39m.\u001b[39mwarning(\u001b[39m\"\u001b[39m\u001b[39mInvalid Message:\u001b[39m\u001b[39m\"\u001b[39m, exc_info\u001b[39m=\u001b[39m\u001b[39mTrue\u001b[39;00m)\n",
      "\u001b[1;31mKeyboardInterrupt\u001b[0m: Interrupted by user"
     ]
    }
   ],
   "source": [
    "import random\n",
    "answer = random.randint(1, 1000)\n",
    "while True:\n",
    "\tuserinput = int(input('숫자를 입력해주세요.'))\n",
    "\tif userinput > answer:\n",
    "\t\tprint('Down')\n",
    "\telif userinput < answer:\n",
    "\t\tprint('Up')\n",
    "\telse:\n",
    "\t\tprint('축하합니다! 맞추셨어요!')\n",
    "\t\tbreak"
   ]
  },
  {
   "cell_type": "code",
   "execution_count": 64,
   "metadata": {},
   "outputs": [
    {
     "name": "stdout",
     "output_type": "stream",
     "text": [
      "8\n",
      "5\n",
      "8\n",
      "5\n",
      "0\n",
      "10\n",
      "0\n",
      "2\n",
      "5\n"
     ]
    }
   ],
   "source": [
    "import random\n",
    "\n",
    "while (x := random.randint(0, 10)) != 7:\n",
    "    print(x)"
   ]
  },
  {
   "cell_type": "code",
   "execution_count": 65,
   "metadata": {},
   "outputs": [
    {
     "name": "stdout",
     "output_type": "stream",
     "text": [
      "2 X 1 = 2\n",
      "2 X 2 = 4\n",
      "2 X 3 = 6\n",
      "2 X 4 = 8\n",
      "2 X 5 = 10\n",
      "2 X 6 = 12\n",
      "2 X 7 = 14\n",
      "2 X 8 = 16\n",
      "2 X 9 = 18\n",
      "3 X 1 = 3\n",
      "3 X 2 = 6\n",
      "3 X 3 = 9\n",
      "3 X 4 = 12\n",
      "3 X 5 = 15\n",
      "3 X 6 = 18\n",
      "3 X 7 = 21\n",
      "3 X 8 = 24\n",
      "3 X 9 = 27\n",
      "4 X 1 = 4\n",
      "4 X 2 = 8\n",
      "4 X 3 = 12\n",
      "4 X 4 = 16\n",
      "4 X 5 = 20\n",
      "4 X 6 = 24\n",
      "4 X 7 = 28\n",
      "4 X 8 = 32\n",
      "4 X 9 = 36\n",
      "5 X 1 = 5\n",
      "5 X 2 = 10\n",
      "5 X 3 = 15\n",
      "5 X 4 = 20\n",
      "5 X 5 = 25\n",
      "5 X 6 = 30\n",
      "5 X 7 = 35\n",
      "5 X 8 = 40\n",
      "5 X 9 = 45\n",
      "6 X 1 = 6\n",
      "6 X 2 = 12\n",
      "6 X 3 = 18\n",
      "6 X 4 = 24\n",
      "6 X 5 = 30\n",
      "6 X 6 = 36\n",
      "6 X 7 = 42\n",
      "6 X 8 = 48\n",
      "6 X 9 = 54\n",
      "7 X 1 = 7\n",
      "7 X 2 = 14\n",
      "7 X 3 = 21\n",
      "7 X 4 = 28\n",
      "7 X 5 = 35\n",
      "7 X 6 = 42\n",
      "7 X 7 = 49\n",
      "7 X 8 = 56\n",
      "7 X 9 = 63\n",
      "8 X 1 = 8\n",
      "8 X 2 = 16\n",
      "8 X 3 = 24\n",
      "8 X 4 = 32\n",
      "8 X 5 = 40\n",
      "8 X 6 = 48\n",
      "8 X 7 = 56\n",
      "8 X 8 = 64\n",
      "8 X 9 = 72\n",
      "9 X 1 = 9\n",
      "9 X 2 = 18\n",
      "9 X 3 = 27\n",
      "9 X 4 = 36\n",
      "9 X 5 = 45\n",
      "9 X 6 = 54\n",
      "9 X 7 = 63\n",
      "9 X 8 = 72\n",
      "9 X 9 = 81\n"
     ]
    }
   ],
   "source": [
    "i = 2\n",
    "j = 1\n",
    "while i < 10:\n",
    "\twhile j < 10:\n",
    "\t\tprint(f'{i} X {j} = {i*j}')\n",
    "\t\tj += 1\n",
    "\tj = 1\n",
    "\ti += 1"
   ]
  },
  {
   "cell_type": "code",
   "execution_count": null,
   "metadata": {},
   "outputs": [],
   "source": [
    "i = 2\n",
    "j = 1\n",
    "while i < 10:\n",
    "    while j < 10:\n",
    "        print(f'{i} X {j} = {i*j}')\n",
    "        j += 1\n",
    "    j = 1 # 별표 5개! while문은 중첩해서 사용할 때 초기화가 필요합니다!\n",
    "    i += 1"
   ]
  },
  {
   "cell_type": "code",
   "execution_count": 66,
   "metadata": {},
   "outputs": [
    {
     "name": "stdout",
     "output_type": "stream",
     "text": [
      "2 X 1 = 2\n",
      "2 X 2 = 4\n",
      "2 X 3 = 6\n",
      "Done\n"
     ]
    }
   ],
   "source": [
    "try:\n",
    "    for i in range(2, 10):\n",
    "        for j in range(1, 10):\n",
    "            if i * j > 6:\n",
    "                raise StopIteration\n",
    "            print(f'{i} X {j} = {i*j}')\n",
    "except StopIteration:\n",
    "    print(\"Done\")"
   ]
  },
  {
   "cell_type": "code",
   "execution_count": 76,
   "metadata": {},
   "outputs": [
    {
     "name": "stdout",
     "output_type": "stream",
     "text": [
      "37.2\n",
      "남자: 2, 여자: 3\n"
     ]
    }
   ],
   "source": [
    "data = data = [\n",
    "  {\n",
    "    \"_id\": \"fd7e9a0f-e77b-436a-B781-119b66033d49\",\n",
    "    \"index\": \"1\",\n",
    "    \"name\": \"나주헌\",\n",
    "    \"email\": \"user-tzctc1q@suspendisse.org\",\n",
    "    \"phone\": \"010-5547-5841\",\n",
    "    \"country\": \"과테말라\",\n",
    "    \"address\": \"광나루로 99-2\",\n",
    "    \"job\": \"유치원교사\",\n",
    "    \"gender\": \"여성\",\n",
    "    \"age\": \"43\"\n",
    "  },\n",
    "  {\n",
    "    \"_id\": \"8ec6eabb-160a-41e4-A3de-cd33aff0b281\",\n",
    "    \"index\": \"2\",\n",
    "    \"name\": \"엄루다\",\n",
    "    \"email\": \"user-1rz7xby@mi.org\",\n",
    "    \"phone\": \"010-3963-9373\",\n",
    "    \"country\": \"엘살바도르\",\n",
    "    \"address\": \"석촌호수로 37-1\",\n",
    "    \"job\": \"프로게이머\",\n",
    "    \"gender\": \"남성\",\n",
    "    \"age\": \"22\"\n",
    "  },\n",
    "  {\n",
    "    \"_id\": \"bcf804f7-0452-4c31-B9d1-20cc2d38490b\",\n",
    "    \"index\": \"3\",\n",
    "    \"name\": \"형유환\",\n",
    "    \"email\": \"user-ym96wth@have.net\",\n",
    "    \"phone\": \"010-6389-9499\",\n",
    "    \"country\": \"벨리즈\",\n",
    "    \"address\": \"잠실로 33-3\",\n",
    "    \"job\": \"아나운서\",\n",
    "    \"gender\": \"남성\",\n",
    "    \"age\": \"31\"\n",
    "  },\n",
    "  {\n",
    "    \"_id\": \"11006f0d-e88d-41fc-A288-caa2e67927e7\",\n",
    "    \"index\": \"4\",\n",
    "    \"name\": \"위도현\",\n",
    "    \"email\": \"user-tkxj6f5@diam.org\",\n",
    "    \"phone\": \"010-4246-4752\",\n",
    "    \"country\": \"바레인\",\n",
    "    \"address\": \"종로 99-8\",\n",
    "    \"job\": \"작곡가\",\n",
    "    \"gender\": \"여성\",\n",
    "    \"age\": \"42\"\n",
    "  },\n",
    "  {\n",
    "    \"_id\": \"b7421487-da52-4410-B696-17bab958a5d8\",\n",
    "    \"index\": \"5\",\n",
    "    \"name\": \"유성재\",\n",
    "    \"email\": \"user-bgxih63@Sed.net\",\n",
    "    \"phone\": \"010-6359-7592\",\n",
    "    \"country\": \"피지\",\n",
    "    \"address\": \"방학로 71-3\",\n",
    "    \"job\": \"연기자\",\n",
    "    \"gender\": \"여성\",\n",
    "    \"age\": \"48\"\n",
    "  }\n",
    "]\n",
    "\n",
    "# 문제 1: 평균 나이를 출력해주세요.\n",
    "total_age = sum(list(map(lambda x: int(x['age']), data)))\n",
    "\t\n",
    "avg_age = total_age / len(data)\n",
    "print(avg_age)\n",
    "\n",
    "gender_list = list(map(lambda x: x['gender'], data))\n",
    "\n",
    "# 문제 2: 남여 성비를 출력해주세요\n",
    "print(f'남자: {gender_list.count(\"남성\")}, 여자: {gender_list.count(\"여성\")}')"
   ]
  },
  {
   "cell_type": "markdown",
   "metadata": {},
   "source": [
    "# 클래스"
   ]
  },
  {
   "cell_type": "code",
   "execution_count": 82,
   "metadata": {},
   "outputs": [
    {
     "data": {
      "text/plain": [
       "'Tesla Model X'"
      ]
     },
     "execution_count": 82,
     "metadata": {},
     "output_type": "execute_result"
    }
   ],
   "source": [
    "class Car: # 차의 설계 도면 또는 차 공장입니다.\n",
    "\tmax_speed = 300\n",
    "\tmax_people = 5\n",
    "\tcar_gear = ['P', 'D', 'R', 'N']\n",
    "\n",
    "\tdef __init__(self, name) -> None:\n",
    "\t\tself.name = name\n",
    "\n",
    "\tdef start(self):\n",
    "\t\tprint('차가 출발합니다!')\n",
    "\n",
    "\tdef stop(self):\n",
    "\t\tprint('차가 멈췄습니다!')\n",
    "\n",
    "modelx =  Car('Tesla Model X')\n",
    "\n",
    "modelx.name"
   ]
  },
  {
   "cell_type": "code",
   "execution_count": 81,
   "metadata": {},
   "outputs": [
    {
     "data": {
      "text/plain": [
       "<function int.__getnewargs__()>"
      ]
     },
     "execution_count": 81,
     "metadata": {},
     "output_type": "execute_result"
    }
   ],
   "source": [
    "# 실제 게임 코드\n",
    "class Character:\n",
    "\tdef __init__(self, name, role, hp, mp, power):\n",
    "\t\tself.name = name\n",
    "\t\tself.role = role\n",
    "\t\tself.hp = hp\n",
    "\t\tself.mp = mp\n",
    "\t\tself.power = power\n",
    "\t\t\n",
    "\tdef attack(self):\n",
    "\t\tprint('공격')\n",
    "\n",
    "\tdef defence(self):\n",
    "\t\tprint('방어')\n",
    "\n",
    "hero_ironman = Character('아이언맨', '히어로', 100, 100, 100)\n",
    "villian_thanos = Character('타노스', '빌런', 100, 100, 200)"
   ]
  },
  {
   "cell_type": "code",
   "execution_count": 83,
   "metadata": {},
   "outputs": [
    {
     "data": {
      "text/plain": [
       "'Tesla Model X'"
      ]
     },
     "execution_count": 83,
     "metadata": {},
     "output_type": "execute_result"
    }
   ],
   "source": [
    "class Car:\n",
    "    max_speed = 300\n",
    "\n",
    "    def __init__(self, name):\n",
    "        self.name = name\n",
    "\n",
    "    def start(self):\n",
    "        print('차가 출발합니다!')\n",
    "\n",
    "modelx = Car('Tesla Model X')\n",
    "modelx.name"
   ]
  },
  {
   "cell_type": "code",
   "execution_count": 84,
   "metadata": {},
   "outputs": [],
   "source": [
    "modelx.hello = 'hello world'"
   ]
  },
  {
   "cell_type": "code",
   "execution_count": 85,
   "metadata": {},
   "outputs": [
    {
     "data": {
      "text/plain": [
       "'hello world'"
      ]
     },
     "execution_count": 85,
     "metadata": {},
     "output_type": "execute_result"
    }
   ],
   "source": [
    "modelx.hello"
   ]
  },
  {
   "cell_type": "code",
   "execution_count": 88,
   "metadata": {},
   "outputs": [
    {
     "name": "stdout",
     "output_type": "stream",
     "text": [
      "<class 'function'>\n"
     ]
    }
   ],
   "source": [
    "def hello():\n",
    "\tprint('hello world')\n",
    "\n",
    "print(type(hello))\n",
    "hello.hi = 'hi, world'"
   ]
  },
  {
   "cell_type": "code",
   "execution_count": 89,
   "metadata": {},
   "outputs": [
    {
     "data": {
      "text/plain": [
       "'hi, world'"
      ]
     },
     "execution_count": 89,
     "metadata": {},
     "output_type": "execute_result"
    }
   ],
   "source": [
    "hello.hi"
   ]
  },
  {
   "cell_type": "code",
   "execution_count": 91,
   "metadata": {},
   "outputs": [
    {
     "ename": "AttributeError",
     "evalue": "'int' object has no attribute 'hi'",
     "output_type": "error",
     "traceback": [
      "\u001b[1;31m---------------------------------------------------------------------------\u001b[0m",
      "\u001b[1;31mAttributeError\u001b[0m                            Traceback (most recent call last)",
      "\u001b[1;32md:\\ormi3\\Python\\230914\\ormi3_4.ipynb 셀 53\u001b[0m line \u001b[0;36m2\n\u001b[0;32m      <a href='vscode-notebook-cell:/d%3A/ormi3/Python/230914/ormi3_4.ipynb#Y113sZmlsZQ%3D%3D?line=0'>1</a>\u001b[0m s \u001b[39m=\u001b[39m \u001b[39m10\u001b[39m\n\u001b[1;32m----> <a href='vscode-notebook-cell:/d%3A/ormi3/Python/230914/ormi3_4.ipynb#Y113sZmlsZQ%3D%3D?line=1'>2</a>\u001b[0m s\u001b[39m.\u001b[39;49mhi \u001b[39m=\u001b[39m \u001b[39m'\u001b[39m\u001b[39mhi, world\u001b[39m\u001b[39m'\u001b[39m\n\u001b[0;32m      <a href='vscode-notebook-cell:/d%3A/ormi3/Python/230914/ormi3_4.ipynb#Y113sZmlsZQ%3D%3D?line=2'>3</a>\u001b[0m s\u001b[39m.\u001b[39mhi\n",
      "\u001b[1;31mAttributeError\u001b[0m: 'int' object has no attribute 'hi'"
     ]
    }
   ],
   "source": [
    "s = 10\n",
    "s.hi = 'hi, world'\n",
    "s.hi"
   ]
  },
  {
   "cell_type": "code",
   "execution_count": 92,
   "metadata": {},
   "outputs": [
    {
     "ename": "AttributeError",
     "evalue": "'str' object has no attribute 'hi'",
     "output_type": "error",
     "traceback": [
      "\u001b[1;31m---------------------------------------------------------------------------\u001b[0m",
      "\u001b[1;31mAttributeError\u001b[0m                            Traceback (most recent call last)",
      "\u001b[1;32md:\\ormi3\\Python\\230914\\ormi3_4.ipynb 셀 54\u001b[0m line \u001b[0;36m2\n\u001b[0;32m      <a href='vscode-notebook-cell:/d%3A/ormi3/Python/230914/ormi3_4.ipynb#Y114sZmlsZQ%3D%3D?line=0'>1</a>\u001b[0m s \u001b[39m=\u001b[39m \u001b[39m'\u001b[39m\u001b[39mhello\u001b[39m\u001b[39m'\u001b[39m\n\u001b[1;32m----> <a href='vscode-notebook-cell:/d%3A/ormi3/Python/230914/ormi3_4.ipynb#Y114sZmlsZQ%3D%3D?line=1'>2</a>\u001b[0m s\u001b[39m.\u001b[39;49mhi \u001b[39m=\u001b[39m \u001b[39m'\u001b[39m\u001b[39mhi, world\u001b[39m\u001b[39m'\u001b[39m\n\u001b[0;32m      <a href='vscode-notebook-cell:/d%3A/ormi3/Python/230914/ormi3_4.ipynb#Y114sZmlsZQ%3D%3D?line=2'>3</a>\u001b[0m s\u001b[39m.\u001b[39mhi\n",
      "\u001b[1;31mAttributeError\u001b[0m: 'str' object has no attribute 'hi'"
     ]
    }
   ],
   "source": [
    "s = 'hello'\n",
    "s.hi = 'hi, world'\n",
    "s.hi"
   ]
  },
  {
   "cell_type": "code",
   "execution_count": 93,
   "metadata": {},
   "outputs": [
    {
     "ename": "AttributeError",
     "evalue": "'list' object has no attribute 'hi'",
     "output_type": "error",
     "traceback": [
      "\u001b[1;31m---------------------------------------------------------------------------\u001b[0m",
      "\u001b[1;31mAttributeError\u001b[0m                            Traceback (most recent call last)",
      "\u001b[1;32md:\\ormi3\\Python\\230914\\ormi3_4.ipynb 셀 55\u001b[0m line \u001b[0;36m2\n\u001b[0;32m      <a href='vscode-notebook-cell:/d%3A/ormi3/Python/230914/ormi3_4.ipynb#Y115sZmlsZQ%3D%3D?line=0'>1</a>\u001b[0m s \u001b[39m=\u001b[39m [\u001b[39m10\u001b[39m, \u001b[39m20\u001b[39m, \u001b[39m30\u001b[39m]\n\u001b[1;32m----> <a href='vscode-notebook-cell:/d%3A/ormi3/Python/230914/ormi3_4.ipynb#Y115sZmlsZQ%3D%3D?line=1'>2</a>\u001b[0m s\u001b[39m.\u001b[39;49mhi \u001b[39m=\u001b[39m \u001b[39m'\u001b[39m\u001b[39mhi, world\u001b[39m\u001b[39m'\u001b[39m\n\u001b[0;32m      <a href='vscode-notebook-cell:/d%3A/ormi3/Python/230914/ormi3_4.ipynb#Y115sZmlsZQ%3D%3D?line=2'>3</a>\u001b[0m s\u001b[39m.\u001b[39mhi\n",
      "\u001b[1;31mAttributeError\u001b[0m: 'list' object has no attribute 'hi'"
     ]
    }
   ],
   "source": [
    "s = [10, 20, 30]\n",
    "s.hi = 'hi, world'\n",
    "s.hi"
   ]
  },
  {
   "cell_type": "code",
   "execution_count": 94,
   "metadata": {},
   "outputs": [
    {
     "ename": "AttributeError",
     "evalue": "'dict' object has no attribute 'hi'",
     "output_type": "error",
     "traceback": [
      "\u001b[1;31m---------------------------------------------------------------------------\u001b[0m",
      "\u001b[1;31mAttributeError\u001b[0m                            Traceback (most recent call last)",
      "\u001b[1;32md:\\ormi3\\Python\\230914\\ormi3_4.ipynb 셀 56\u001b[0m line \u001b[0;36m2\n\u001b[0;32m      <a href='vscode-notebook-cell:/d%3A/ormi3/Python/230914/ormi3_4.ipynb#Y116sZmlsZQ%3D%3D?line=0'>1</a>\u001b[0m s \u001b[39m=\u001b[39m {\u001b[39m'\u001b[39m\u001b[39mone\u001b[39m\u001b[39m'\u001b[39m:\u001b[39m1\u001b[39m}\n\u001b[1;32m----> <a href='vscode-notebook-cell:/d%3A/ormi3/Python/230914/ormi3_4.ipynb#Y116sZmlsZQ%3D%3D?line=1'>2</a>\u001b[0m s\u001b[39m.\u001b[39;49mhi \u001b[39m=\u001b[39m \u001b[39m'\u001b[39m\u001b[39mhi, world\u001b[39m\u001b[39m'\u001b[39m\n\u001b[0;32m      <a href='vscode-notebook-cell:/d%3A/ormi3/Python/230914/ormi3_4.ipynb#Y116sZmlsZQ%3D%3D?line=2'>3</a>\u001b[0m s\u001b[39m.\u001b[39mhi\n",
      "\u001b[1;31mAttributeError\u001b[0m: 'dict' object has no attribute 'hi'"
     ]
    }
   ],
   "source": [
    "s = {'one':1}\n",
    "s.hi = 'hi, world'\n",
    "s.hi"
   ]
  },
  {
   "cell_type": "code",
   "execution_count": 95,
   "metadata": {},
   "outputs": [
    {
     "data": {
      "text/plain": [
       "'Tesla Model X'"
      ]
     },
     "execution_count": 95,
     "metadata": {},
     "output_type": "execute_result"
    }
   ],
   "source": [
    "class Car:\n",
    "    max_speed = 300\n",
    "\n",
    "    def __init__(self, name):\n",
    "        self.name = name\n",
    "\n",
    "    def start(self):\n",
    "        print('차가 출발합니다!')\n",
    "\n",
    "modelx = Car('Tesla Model X')\n",
    "modelx.name"
   ]
  },
  {
   "cell_type": "code",
   "execution_count": 101,
   "metadata": {},
   "outputs": [
    {
     "name": "stdout",
     "output_type": "stream",
     "text": [
      "10 20\n"
     ]
    },
    {
     "data": {
      "text/plain": [
       "36.05551275463989"
      ]
     },
     "execution_count": 101,
     "metadata": {},
     "output_type": "execute_result"
    }
   ],
   "source": [
    "class Points:\n",
    "\n",
    "\tdef __init__(self, x, y):\n",
    "\t\tself.x = x\n",
    "\t\tself.y = y\n",
    "\n",
    "\tdef __add__(self, other):\n",
    "\t\tprint(self.x, self.y)\n",
    "\t\treturn Points((self.x + other.x), (self.y + other.y))\n",
    "\t\n",
    "\tdef distance(self, other):\n",
    "\t\tdx = self.x - other.x\n",
    "\t\tdy = self.y - other.y\n",
    "\t\treturn (dx**2 + dy**2) ** 0.5\n",
    "\n",
    "dot1 = Points(10, 20)\n",
    "dot2 = Points(20, 30)\n",
    "\n",
    "dot3 = dot1 + dot2\n",
    "dot3.distance(dot1)"
   ]
  },
  {
   "cell_type": "code",
   "execution_count": 107,
   "metadata": {},
   "outputs": [
    {
     "data": {
      "text/plain": [
       "[20, 40, 60]"
      ]
     },
     "execution_count": 107,
     "metadata": {},
     "output_type": "execute_result"
    }
   ],
   "source": [
    "class Matrix:\n",
    "\n",
    "\tdef __init__(self, value):\n",
    "\t\tself.value = value\n",
    "\n",
    "\tdef __add__(self, other):\n",
    "\t\tresult = []\n",
    "\n",
    "\t\tfor k, v in enumerate(self.value):\n",
    "\t\t\tresult.append(v + other.value[k])\n",
    "\t\t\n",
    "\t\treturn result\n",
    "\t\n",
    "\tdef __mul__(self, other):\n",
    "\t\tif isinstance(other, int):\n",
    "\t\t\treturn [i * other for i in self.value]\n",
    "\t\treturn '정수형 곱만 허용'\n",
    "\n",
    "\n",
    "m1 = Matrix([10, 20, 30])\n",
    "m2 = Matrix([20, 30, 40])\n",
    "\n",
    "m1 * 2"
   ]
  },
  {
   "cell_type": "code",
   "execution_count": null,
   "metadata": {},
   "outputs": [],
   "source": [
    "class 게시물설계도:\n",
    "\tid = int()\n",
    "\ttitle = str()\n",
    "\tcontents = str()\n",
    "\tauthor = str()\n",
    "\tcreate_time = str()\n",
    "\tupdate_time = str()\n",
    "\tview_count = int()\n",
    "\tlast_connect_location = str()\n",
    "\tlast_connect_time =str()\n",
    "\n",
    "게시물1 = 게시물설계도()\n",
    "게시물2 = 게시물설계도()"
   ]
  },
  {
   "cell_type": "markdown",
   "metadata": {},
   "source": [
    "# 연습 문제"
   ]
  },
  {
   "cell_type": "code",
   "execution_count": 123,
   "metadata": {},
   "outputs": [
    {
     "name": "stdout",
     "output_type": "stream",
     "text": [
      "[<__main__.User object at 0x000002371D9A2E60>, <__main__.User object at 0x000002371D9A1270>, <__main__.User object at 0x000002371D9A07F0>]\n"
     ]
    }
   ],
   "source": [
    "# 아래 기본 data를 기반으로 문제를 풀어주세요.\n",
    "data = [\n",
    "  {\n",
    "    \"_id\": \"fd7e9a0f-e77b-436a-B781-119b66033d49\",\n",
    "    \"index\": \"1\",\n",
    "    \"name\": \"나주헌\",\n",
    "    \"gender\": \"여성\",\n",
    "    \"age\": \"43\"\n",
    "  },\n",
    "  {\n",
    "    \"_id\": \"8ec6eabb-160a-41e4-A3de-cd33aff0b281\",\n",
    "    \"index\": \"2\",\n",
    "    \"name\": \"엄루다\",\n",
    "    \"gender\": \"남성\",\n",
    "    \"age\": \"22\"\n",
    "  },\n",
    "  {\n",
    "    \"_id\": \"bcf804f7-0452-4c31-B9d1-20cc2d38490b\",\n",
    "    \"index\": \"3\",\n",
    "    \"name\": \"형유환\",\n",
    "    \"gender\": \"남성\",\n",
    "    \"age\": \"31\"\n",
    "  }\n",
    "]\n",
    "# 문제 1 gender, age값을 추출해보세요. 아래 양식처럼 추출하시면 됩니다. 가능하면 map을 사용해주세요.\n",
    "'''\n",
    " [\n",
    "  {\n",
    "    \"gender\": \"여성\",\n",
    "    \"age\": \"43\"\n",
    "  },\n",
    "  {\n",
    "    \"gender\": \"남성\",\n",
    "    \"age\": \"22\"\n",
    "  },\n",
    "  {\n",
    "    \"gender\": \"남성\",\n",
    "    \"age\": \"31\"\n",
    "  }\n",
    "]\n",
    "'''\n",
    "output_data = list(map(lambda x: {\"gender\": x[\"gender\"], \"age\": x[\"age\"]}, data))\n",
    "\n",
    "# 문제 2 User라는 class를 만들어 해당 데이터를 관리해주세요. 아래처럼 저장되어야 합니다. \n",
    "# 다만 꼭 변수 이름이 user_1...user_n 일 필요는 없습니다.\n",
    "# 저장양식: '[user_1, user_2, user_3]'\n",
    "class User:\n",
    "\tdef __init__(self, data):\n",
    "\t\tself._id = data['_id']\n",
    "\t\tself.index = data['index']\n",
    "\t\tself.name = data['name']\n",
    "\t\tself.gender = data['gender']\n",
    "\t\tself.age = data['age']\n",
    "user_1 = User(data[0])\n",
    "user_2 = User(data[1])\n",
    "user_3 = User(data[2])\n",
    "user_list = [user_1, user_2, user_3]\n",
    "\n",
    "# 문제 3 BankAccount 클래스를 생성하세요. 이 클래스는 owner(계좌주 이름), balance(잔액) 속성을 가져야 합니다.\n",
    "# 이 클래스는 deposit(amount) (입금) 및 withdraw(amount) (출금) 메서드를 가져야 합니다. \n",
    "# 단, 출금 시 잔액보다 큰 금액을 출금하려고 하면 \"잔액 부족\" 메시지를 출력해야 합니다.\n",
    "\n",
    "class BankAccount:\n",
    "\tdef __init__(self, owner, balance):\n",
    "\t\tself.owner = owner\n",
    "\t\tself.balance = balance\n",
    "\n",
    "\tdef deposit(self, amount):\n",
    "\t\tif amount > 0:\n",
    "\t\t\tself.balance += amount\n",
    "\t\t\treturn '입금이 정상 처리 됐습니다.'\n",
    "\t\treturn '0원 이하의 금액은 입금할 수 없습니다.'\n",
    "\t\n",
    "\tdef withdraw(self, amount):\n",
    "\t\tif amount <= 0:\n",
    "\t\t\treturn '0원 이하의 금액은 출금할 수 없습니다.'\n",
    "\t\tif amount <= self.balance:\n",
    "\t\t\tself.balance -= amount\n",
    "\t\t\treturn '출금이 완료됐습니다.'\n",
    "\t\treturn '잔액 부족'"
   ]
  },
  {
   "cell_type": "code",
   "execution_count": null,
   "metadata": {},
   "outputs": [],
   "source": []
  }
 ],
 "metadata": {
  "kernelspec": {
   "display_name": "Python 3",
   "language": "python",
   "name": "python3"
  },
  "language_info": {
   "codemirror_mode": {
    "name": "ipython",
    "version": 3
   },
   "file_extension": ".py",
   "mimetype": "text/x-python",
   "name": "python",
   "nbconvert_exporter": "python",
   "pygments_lexer": "ipython3",
   "version": "3.10.11"
  },
  "orig_nbformat": 4
 },
 "nbformat": 4,
 "nbformat_minor": 2
}

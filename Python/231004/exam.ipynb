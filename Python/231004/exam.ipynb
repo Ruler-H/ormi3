{
 "cells": [
  {
   "cell_type": "code",
   "execution_count": 35,
   "metadata": {},
   "outputs": [
    {
     "name": "stdout",
     "output_type": "stream",
     "text": [
      "물고기 평균 무게: 2.50 kg\n"
     ]
    }
   ],
   "source": [
    "class Fish:\n",
    "    total_weight = 0\n",
    "    fish_cnt = 0\n",
    "    def __init__(self, weight):\n",
    "        self.weight = weight\n",
    "        Fish.total_weight += weight\n",
    "        Fish.fish_cnt += 1\n",
    "\n",
    "    @classmethod\n",
    "    def weightAverage(cls):\n",
    "        average = cls.total_weight / cls.fish_cnt\n",
    "        print(f'물고기 평균 무게: {average:.2f} kg')\n",
    "\n",
    "fish1 = Fish(2.5)\n",
    "fish2 = Fish(3.1)\n",
    "fish3 = Fish(1.7)\n",
    "fish4 = Fish(2.8)\n",
    "fish5 = Fish(2.4)\n",
    "Fish.weightAverage()"
   ]
  },
  {
   "cell_type": "code",
   "execution_count": 36,
   "metadata": {},
   "outputs": [
    {
     "name": "stdout",
     "output_type": "stream",
     "text": [
      "HWILP\n",
      "이오1여반\n",
      "복세편살\n"
     ]
    }
   ],
   "source": [
    "def get_first_letters(s):\n",
    "    return ''.join(map(lambda x:x[0], s.split()))\n",
    "\n",
    "print(get_first_letters(\"Hello World! I Love Python\"))\n",
    "print(get_first_letters(\"이스트소프트 오르미 1기 여러분 반가워요!\"))   \n",
    "print(get_first_letters(\"복잡한 세상 편하게 살자\")) "
   ]
  },
  {
   "cell_type": "code",
   "execution_count": 39,
   "metadata": {},
   "outputs": [
    {
     "name": "stdout",
     "output_type": "stream",
     "text": [
      "[4, 5]\n",
      "['ormi']\n",
      "[]\n"
     ]
    }
   ],
   "source": [
    "def common_elements(list1, list2):\n",
    "    return list(set(list1).intersection(set(list2)))\n",
    "\n",
    "print(common_elements([1, 2, 3, 4, 5], [4, 5, 6, 7, 8]))\n",
    "print(common_elements(['est', 'weniv', 'ormi'], ['licat', 'ormi']))\n",
    "print(common_elements([1, 2, 3], [4, 5, 6]))"
   ]
  },
  {
   "cell_type": "code",
   "execution_count": 40,
   "metadata": {},
   "outputs": [
    {
     "name": "stdout",
     "output_type": "stream",
     "text": [
      "이스트\n",
      "\n",
      "오\n"
     ]
    }
   ],
   "source": [
    "def find_longest_word(list1):\n",
    "    result = list1[0]\n",
    "    \n",
    "    for list_str in list1[1:]:\n",
    "        str_len = len(result)\n",
    "        if str_len == 0:\n",
    "            break\n",
    "        min_len = min(str_len, len(list_str))\n",
    "        if result[:min_len] == list_str[:min_len]:\n",
    "            result = result[:min_len]\n",
    "        else:\n",
    "            for j in range(min_len):\n",
    "                if result[j] != list_str[j]:\n",
    "                    result = result[:j]\n",
    "                    break\n",
    "    return result\n",
    "\n",
    "print(find_longest_word(['이스트소프트', '이스트', '이스트소']))\n",
    "print(find_longest_word(['behind', 'hind']))\n",
    "print(find_longest_word(['오르미', '오르다', '오름']))"
   ]
  },
  {
   "cell_type": "code",
   "execution_count": 41,
   "metadata": {},
   "outputs": [
    {
     "name": "stdout",
     "output_type": "stream",
     "text": [
      "5\n",
      "1\n",
      "4\n",
      "2\n"
     ]
    }
   ],
   "source": [
    "from collections import deque\n",
    "\n",
    "def length_of_lis(nums):\n",
    "    lis_list = deque([[nums.pop(), 1]])\n",
    "    while nums:\n",
    "        num = nums.pop()\n",
    "        append_list = [num, 1]\n",
    "        lis_len = 1\n",
    "        for lis in lis_list:\n",
    "            if num < lis[0]:\n",
    "                append_list = [num, lis[1] + 1]\n",
    "                break\n",
    "        lis_list.appendleft(append_list)\n",
    "\n",
    "    return max(lis_list, key=lambda x:x[1])[1]\n",
    "\n",
    "\n",
    "nums1 = [1, 2, 3, 4, 5]\n",
    "print(length_of_lis(nums1))\n",
    "\n",
    "nums2 = [5, 4, 3, 2, 1]\n",
    "print(length_of_lis(nums2))\n",
    "\n",
    "nums3 = [10, 9, 2, 5, 3, 7, 101, 18]\n",
    "print(length_of_lis(nums3))\n",
    "\n",
    "nums4 = [4, 5, 2, 3, 1, 2]\n",
    "print(length_of_lis(nums4))"
   ]
  },
  {
   "cell_type": "code",
   "execution_count": 43,
   "metadata": {},
   "outputs": [
    {
     "name": "stdout",
     "output_type": "stream",
     "text": [
      "1기\n"
     ]
    }
   ],
   "source": [
    "s = '오르미1기최고!'\n",
    "print(s[3:-3])"
   ]
  },
  {
   "cell_type": "code",
   "execution_count": 34,
   "metadata": {},
   "outputs": [
    {
     "ename": "TypeError",
     "evalue": "unhashable type: 'list'",
     "output_type": "error",
     "traceback": [
      "\u001b[1;31m---------------------------------------------------------------------------\u001b[0m",
      "\u001b[1;31mTypeError\u001b[0m                                 Traceback (most recent call last)",
      "\u001b[1;32md:\\ormi3\\Python\\231004\\exam.ipynb 셀 7\u001b[0m line \u001b[0;36m1\n\u001b[1;32m----> <a href='vscode-notebook-cell:/d%3A/ormi3/Python/231004/exam.ipynb#X10sZmlsZQ%3D%3D?line=0'>1</a>\u001b[0m dic[[\u001b[39m1\u001b[39;49m]]\n",
      "\u001b[1;31mTypeError\u001b[0m: unhashable type: 'list'"
     ]
    }
   ],
   "source": [
    "dic[[1]]"
   ]
  },
  {
   "cell_type": "code",
   "execution_count": null,
   "metadata": {},
   "outputs": [],
   "source": []
  }
 ],
 "metadata": {
  "kernelspec": {
   "display_name": "Python 3",
   "language": "python",
   "name": "python3"
  },
  "language_info": {
   "codemirror_mode": {
    "name": "ipython",
    "version": 3
   },
   "file_extension": ".py",
   "mimetype": "text/x-python",
   "name": "python",
   "nbconvert_exporter": "python",
   "pygments_lexer": "ipython3",
   "version": "3.10.11"
  },
  "orig_nbformat": 4
 },
 "nbformat": 4,
 "nbformat_minor": 2
}

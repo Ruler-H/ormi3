{
 "cells": [
  {
   "cell_type": "markdown",
   "metadata": {},
   "source": [
    "# 조건문"
   ]
  },
  {
   "cell_type": "code",
   "execution_count": 1,
   "metadata": {},
   "outputs": [],
   "source": [
    "if True:\n",
    "\tpass"
   ]
  },
  {
   "cell_type": "code",
   "execution_count": 19,
   "metadata": {},
   "outputs": [
    {
     "name": "stdout",
     "output_type": "stream",
     "text": [
      "철수\n",
      "{'Tom': 92, 'Jerry': 100, 'Mickey': 75}\n",
      "apple\n"
     ]
    }
   ],
   "source": [
    "# 문제 1 : 주어진 리스트 data = [{\"name\": \"길동\", \"수학\": 3, , \"과학\": 93}, {\"name\": \"춘향\", \"수학\": 33, \"수학\": 11}, {\"name\": \"철수\", \"수학\": 94, \"과학\": 67}]에서 평균점수가 가장 높은 학생에 이름을 출력하세요.\n",
    "data = [{\"name\": \"길동\", \"수학\": 3, \"과학\": 93}, {\"name\": \"춘향\", \"수학\": 33, \"과학\": 11}, {\"name\": \"철수\", \"수학\": 94, \"과학\": 67}]\n",
    "print(max(data, key=lambda x: x['수학'] + x['과학'])['name'])\n",
    "\n",
    "# 문제 2 : 주어진 사전 grades = {\"Tom\": 87, \"Jerry\": 95, \"Mickey\": 70}의 모든 값을 5점씩 증가시키고 결과를 출력하세요.\n",
    "grades = {\"Tom\": 87, \"Jerry\": 95, \"Mickey\": 70}\n",
    "for key in grades:\n",
    "\tgrades[key] += 5\n",
    "print(grades)\n",
    "\n",
    "# 문제 3 : 주어진 문자열 s = \"apple banana apple cherry banana cherry apple\"에서 가장 자주 등장하는 단어를 출력하세요\n",
    "s = \"apple banana apple cherry banana cherry apple\"\n",
    "sList = s.split(' ')\n",
    "wordDic = {}\n",
    "while sList:\n",
    "\tword = sList[0]\n",
    "\twordDic[word] = sList.count(word)\n",
    "\tsList = list(filter(lambda x:x!=word, sList))\n",
    "print(max(wordDic, key=lambda x:wordDic[x]))"
   ]
  },
  {
   "cell_type": "code",
   "execution_count": null,
   "metadata": {},
   "outputs": [],
   "source": []
  }
 ],
 "metadata": {
  "kernelspec": {
   "display_name": "Python 3",
   "language": "python",
   "name": "python3"
  },
  "language_info": {
   "codemirror_mode": {
    "name": "ipython",
    "version": 3
   },
   "file_extension": ".py",
   "mimetype": "text/x-python",
   "name": "python",
   "nbconvert_exporter": "python",
   "pygments_lexer": "ipython3",
   "version": "3.10.11"
  },
  "orig_nbformat": 4
 },
 "nbformat": 4,
 "nbformat_minor": 2
}

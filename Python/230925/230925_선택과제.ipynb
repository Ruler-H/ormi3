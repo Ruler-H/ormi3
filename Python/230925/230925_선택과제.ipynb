{
 "cells": [
  {
   "cell_type": "code",
   "execution_count": 75,
   "metadata": {},
   "outputs": [],
   "source": [
    "def solution(data):\n",
    "    sand_list = []\n",
    "    while data:\n",
    "        ingredient = data.pop()\n",
    "        try:\n",
    "            match(ingredient):\n",
    "                case 1:\n",
    "                    sand_list.append(ingredient)\n",
    "                case 2:\n",
    "                    if sand_list[-1] == 3:\n",
    "                        sand_list.pop()\n",
    "                        sand_list.pop()\n",
    "                        sand_list.pop()\n",
    "                        sand_list.append(5)\n",
    "                case 3:\n",
    "                    if sand_list[-1] == 4: \n",
    "                        sand_list.append(ingredient)\n",
    "                    else:\n",
    "                        sand_list.clear()\n",
    "                case 4:\n",
    "                    if sand_list[-1] == 1:\n",
    "                        sand_list.append(ingredient)\n",
    "                    else:\n",
    "                        sand_list.clear()\n",
    "        except IndexError:\n",
    "            continue\n",
    "\n",
    "    cnt = 0\n",
    "    bread_num = 0\n",
    "    while sand_list:\n",
    "        tmp = sand_list.po  p()\n",
    "        if tmp == 1:\n",
    "            bread_num += 1\n",
    "        elif tmp == 5:\n",
    "            if bread_num > 0:\n",
    "                cnt += 1\n",
    "                bread_num -= 1\n",
    "    return cnt"
   ]
  },
  {
   "cell_type": "code",
   "execution_count": 78,
   "metadata": {},
   "outputs": [
    {
     "name": "stdout",
     "output_type": "stream",
     "text": [
      "[]\n",
      "[1]\n",
      "[1, 4]\n",
      "[1, 4, 3]\n",
      "[5]\n",
      "[5, 1]\n",
      "[5, 1, 4]\n",
      "[5, 1, 4, 3]\n",
      "[5, 5]\n",
      "[5, 5, 1]\n",
      "[5, 5, 1, 1]\n",
      "[5, 5, 1, 1, 1]\n"
     ]
    },
    {
     "data": {
      "text/plain": [
       "2"
      ]
     },
     "execution_count": 78,
     "metadata": {},
     "output_type": "execute_result"
    }
   ],
   "source": [
    "solution([1, 1, 1, 2, 3, 4, 1, 2, 3, 4, 1])"
   ]
  },
  {
   "cell_type": "code",
   "execution_count": null,
   "metadata": {},
   "outputs": [],
   "source": []
  }
 ],
 "metadata": {
  "kernelspec": {
   "display_name": "Python 3",
   "language": "python",
   "name": "python3"
  },
  "language_info": {
   "codemirror_mode": {
    "name": "ipython",
    "version": 3
   },
   "file_extension": ".py",
   "mimetype": "text/x-python",
   "name": "python",
   "nbconvert_exporter": "python",
   "pygments_lexer": "ipython3",
   "version": "3.10.11"
  },
  "orig_nbformat": 4
 },
 "nbformat": 4,
 "nbformat_minor": 2
}

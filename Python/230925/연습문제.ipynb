{
 "cells": [
  {
   "cell_type": "code",
   "execution_count": null,
   "metadata": {},
   "outputs": [],
   "source": [
    "# 문제1 https://www.paullab.co.kr/stock.html 서비스를 크롤링하여 제주코딩베이스캠프 연구원의 2019년 10월 총 거래량을 구해주세요.\n",
    "import requests\n",
    "from bs4 import BeautifulSoup\n",
    "\n",
    "response = requests.get('http://www.paullab.co.kr/stock.html')\n",
    "response.encoding = 'utf-8'\n",
    "html = response.text\n",
    "\n",
    "soup = BeautifulSoup(html, 'html.parser')\n",
    "data_researcher = soup.select('body > div:nth-child(3) > table > tbody > tr:not(:nth-child(1))')\n",
    "data_2019_10 = list(filter(lambda x:'2019.10' in x.select('tr > td > .date')[0].text, data_researcher))\n",
    "\n",
    "total_trading_volume = sum(map(lambda x:int(x.select('td:last-child > span')[0].text.replace(',', '')), data_2019_10))\n",
    "print(total_trading_volume) "
   ]
  },
  {
   "cell_type": "code",
   "execution_count": 55,
   "metadata": {},
   "outputs": [],
   "source": [
    "class DailyTradingVolume:\n",
    "    def __init__(self, 날짜, 종가, 전일비, 시가, 고가, 저가, 거래량):\n",
    "        self.날짜 = 날짜,\n",
    "        self.종가 = 종가,\n",
    "        self.전일비 = 전일비,\n",
    "        self.시가 = 시가,\n",
    "        self.고가 = 고가,\n",
    "        self.저가 = 저가,\n",
    "        self.거래량 = 거래량\n",
    "    \n",
    "    def __str__(self):\n",
    "        return f'{self.날짜} {self.종가}'\n",
    "    \n",
    "    def __repr__(self):\n",
    "        return f'{self.날짜} {self.종가}'\n",
    "\n",
    "class PublicCompany:\n",
    "    def __init__(self, 시가총액, 상장주식수, 매출, 비용, 순익):\n",
    "        self.시가총액 = 시가총액\n",
    "        self.상장주식수 = 상장주식수\n",
    "        self.매출 = 매출\n",
    "        self.비용 = 비용\n",
    "        self.순익 = 순익\n",
    "        self.거래 = [] # 여기를 좀 더 고도화해서 연도별로 관리되게 하는 편이 좋아보임.\n",
    "\n",
    "제코배연구원 = PublicCompany(시가총액=100,\n",
    "                       상장주식수 = 100,\n",
    "                       매출 = 100,\n",
    "                       비용 = 100,\n",
    "                       순익 = 100)"
   ]
  },
  {
   "cell_type": "code",
   "execution_count": 56,
   "metadata": {},
   "outputs": [],
   "source": [
    "# 문제1 https://www.paullab.co.kr/stock.html 서비스를 크롤링하여 제주코딩베이스캠프 연구원의 2019년 10월 총 거래량을 구해주세요.\n",
    "import requests\n",
    "from bs4 import BeautifulSoup\n",
    "\n",
    "response = requests.get('http://www.paullab.co.kr/stock.html')\n",
    "response.encoding = 'utf-8'\n",
    "html = response.text\n",
    "\n",
    "soup = BeautifulSoup(html, 'html.parser')"
   ]
  },
  {
   "cell_type": "code",
   "execution_count": 57,
   "metadata": {},
   "outputs": [],
   "source": [
    "for i in soup.select('.main > table')[0].select('tr')[1:]:\n",
    "    날짜 = i.select('td')[0].text\n",
    "    종가 = i.select('td')[1].text\n",
    "    전일비 = i.select('td')[2].text\n",
    "    시가 = i.select('td')[3].text\n",
    "    고가 = i.select('td')[4].text\n",
    "    저가 = i.select('td')[5].text\n",
    "    거래량 = i.select('td')[6].text\n",
    "    \n",
    "    제코배연구원.거래.append(DailyTradingVolume(날짜, 종가, 전일비, 시가, 고가, 저가, 거래량))"
   ]
  },
  {
   "cell_type": "code",
   "execution_count": 58,
   "metadata": {},
   "outputs": [
    {
     "data": {
      "text/plain": [
       "[('2019.10.23',) ('6,650',),\n",
       " ('2019.10.22',) ('6,630',),\n",
       " ('2019.10.21',) ('6,820',),\n",
       " ('2019.10.18',) ('6,430',),\n",
       " ('2019.10.17',) ('5,950',),\n",
       " ('2019.10.16',) ('5,930',),\n",
       " ('2019.10.15',) ('5,640',),\n",
       " ('2019.10.14',) ('5,380',),\n",
       " ('2019.10.11',) ('5,040',),\n",
       " ('2019.10.10',) ('5,100',),\n",
       " ('2019.10.08',) ('5,050',),\n",
       " ('2019.10.07',) ('4,940',),\n",
       " ('2019.10.04',) ('5,010',),\n",
       " ('2019.10.02',) ('4,920',),\n",
       " ('2019.10.01',) ('5,010',),\n",
       " ('2019.09.30',) ('5,000',),\n",
       " ('2019.09.27',) ('5,010',),\n",
       " ('2019.09.26',) ('5,060',),\n",
       " ('2019.09.25',) ('5,060',),\n",
       " ('2019.09.24',) ('5,330',)]"
      ]
     },
     "execution_count": 58,
     "metadata": {},
     "output_type": "execute_result"
    }
   ],
   "source": [
    "제코배연구원.거래"
   ]
  },
  {
   "cell_type": "code",
   "execution_count": null,
   "metadata": {},
   "outputs": [],
   "source": []
  }
 ],
 "metadata": {
  "kernelspec": {
   "display_name": "Python 3",
   "language": "python",
   "name": "python3"
  },
  "language_info": {
   "codemirror_mode": {
    "name": "ipython",
    "version": 3
   },
   "file_extension": ".py",
   "mimetype": "text/x-python",
   "name": "python",
   "nbconvert_exporter": "python",
   "pygments_lexer": "ipython3",
   "version": "3.10.11"
  },
  "orig_nbformat": 4
 },
 "nbformat": 4,
 "nbformat_minor": 2
}

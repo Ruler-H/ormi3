{
 "cells": [
  {
   "cell_type": "code",
   "execution_count": 1,
   "metadata": {},
   "outputs": [],
   "source": [
    "# open(파일이름, 파일모드)\n",
    "f = open('python.txt', 'w') # 파일모드 : r, w, a, r+, \n",
    "f.close()"
   ]
  },
  {
   "cell_type": "code",
   "execution_count": 6,
   "metadata": {},
   "outputs": [],
   "source": [
    "f = open('student.txt', 'w')\n",
    "l = ['licat', 'mura', 'binky']\n",
    "s = ''\n",
    "for i, j in enumerate(l, 1):\n",
    "    s += f'{i}번 {j}입니다.\\n'\n",
    "f.write(s)\n",
    "f.close()"
   ]
  },
  {
   "cell_type": "code",
   "execution_count": 3,
   "metadata": {},
   "outputs": [],
   "source": [
    "f = open('index.html', 'w')\n",
    "s = '''<html>\n",
    "<head>\n",
    "</head>\n",
    "<body>\n",
    "<h1>hello world</h1>\n",
    "</body>\n",
    "</html>\n",
    "'''\n",
    "f.write(s)\n",
    "f.close()"
   ]
  },
  {
   "cell_type": "code",
   "execution_count": 4,
   "metadata": {},
   "outputs": [],
   "source": [
    "# 쉬운예제\n",
    "f = open('student.csv', 'w')\n",
    "s = '''학년,반,번,이름\n",
    "1,3,1,licat\n",
    "1,3,2,mura\n",
    "1,3,3,binky\n",
    "'''\n",
    "f.write(s)\n",
    "f.close()"
   ]
  },
  {
   "cell_type": "code",
   "execution_count": 7,
   "metadata": {},
   "outputs": [
    {
     "name": "stdout",
     "output_type": "stream",
     "text": [
      "1번 licat입니다.\n",
      "2번 mura입니다.\n",
      "3번 binky입니다.\n"
     ]
    }
   ],
   "source": [
    "f = open('student.txt', 'r')\n",
    "while True:\n",
    "    line = f.readline()\n",
    "    if not line:\n",
    "        break\n",
    "    print(line, end='')\n",
    "f.close()"
   ]
  },
  {
   "cell_type": "code",
   "execution_count": 9,
   "metadata": {},
   "outputs": [
    {
     "name": "stdout",
     "output_type": "stream",
     "text": [
      "1번 licat입니다.\n",
      "2번 mura입니다.\n",
      "3번 binky입니다.\n"
     ]
    }
   ],
   "source": [
    "f = open('student.txt', 'r')\n",
    "lines = f.readlines()\n",
    "for line in lines:\n",
    "    print(line, end='')\n",
    "f.close()"
   ]
  },
  {
   "cell_type": "code",
   "execution_count": 10,
   "metadata": {},
   "outputs": [
    {
     "name": "stdout",
     "output_type": "stream",
     "text": [
      "1번 licat입니다.\n",
      "2번 mura입니다.\n",
      "3번 binky입니다.\n",
      "\n"
     ]
    }
   ],
   "source": [
    "f = open('student.txt', 'r')\n",
    "data = f.read()\n",
    "print(data)\n",
    "f.close()"
   ]
  },
  {
   "cell_type": "code",
   "execution_count": 11,
   "metadata": {},
   "outputs": [],
   "source": [
    "f = open('student.txt', 'a')\n",
    "s = 'hello world!'\n",
    "f.write(s)\n",
    "f.close()"
   ]
  },
  {
   "cell_type": "code",
   "execution_count": 12,
   "metadata": {},
   "outputs": [],
   "source": [
    "with open('test.txt', 'w') as f:\n",
    "    f.write('hello world!')"
   ]
  },
  {
   "cell_type": "code",
   "execution_count": null,
   "metadata": {},
   "outputs": [],
   "source": []
  }
 ],
 "metadata": {
  "kernelspec": {
   "display_name": "Python 3",
   "language": "python",
   "name": "python3"
  },
  "language_info": {
   "codemirror_mode": {
    "name": "ipython",
    "version": 3
   },
   "file_extension": ".py",
   "mimetype": "text/x-python",
   "name": "python",
   "nbconvert_exporter": "python",
   "pygments_lexer": "ipython3",
   "version": "3.10.11"
  },
  "orig_nbformat": 4
 },
 "nbformat": 4,
 "nbformat_minor": 2
}

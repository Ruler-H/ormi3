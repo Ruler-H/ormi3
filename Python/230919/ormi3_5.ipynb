{
 "cells": [
  {
   "cell_type": "markdown",
   "metadata": {},
   "source": [
    "# 클래스 변수와 인스턴스 변수"
   ]
  },
  {
   "cell_type": "code",
   "execution_count": null,
   "metadata": {},
   "outputs": [],
   "source": [
    "class Car:\n",
    "    # 클래스 변수의 위치\n",
    "    max_speed = 300\n",
    "    max_people = 5\n",
    "    car_gear = ['P', 'D', 'R', 'N']\n",
    "\n",
    "modelx = Car()\n",
    "modely = Car()\n",
    "\n",
    "modely.max_speed = 500\n",
    "\n",
    "print(Car.max_speed)\n",
    "print(modelx.max_speed)\n",
    "print(modely.max_speed)"
   ]
  },
  {
   "cell_type": "code",
   "execution_count": null,
   "metadata": {},
   "outputs": [],
   "source": [
    "class Car:\n",
    "    kinds = []\n",
    "    speed = 300\n",
    "\n",
    "    def add_kinds(self, name):\n",
    "        self.kinds.append(name)\n",
    "\n",
    "    def change_speed(self, speed):\n",
    "        self.speed = speed\n",
    "\n",
    "modelx = Car()\n",
    "modely = Car()\n",
    "\n",
    "modelx.add_kinds('x')\n",
    "modely.add_kinds('y')\n",
    "\n",
    "Car.speed = 100\n",
    "\n",
    "# modelx.change_speed(500)\n",
    "# modely.change_speed(250)\n",
    "\n",
    "print(f'modelx.kinds: {modelx.kinds}')\n",
    "print(f'modely.kinds: {modely.kinds}')\n",
    "print(f'modelx.speed: {modelx.speed}')\n",
    "print(f'modely.speed: {modely.speed}')"
   ]
  },
  {
   "cell_type": "code",
   "execution_count": null,
   "metadata": {},
   "outputs": [],
   "source": [
    "class Car:\n",
    "    kinds = []\n",
    "    speed = 300\n",
    "\n",
    "    def add_kinds(self, name):\n",
    "        self.kinds.append(name)\n",
    "\n",
    "    def change_speed(self, speed):\n",
    "        self.speed = speed\n",
    "\n",
    "modelx = Car()\n",
    "modely = Car()\n",
    "\n",
    "# Car.speed = 100\n",
    "\n",
    "modelx.change_speed(500)\n",
    "modely.change_speed(250)\n",
    "\n",
    "print(f'modelx.speed: {modelx.speed}')\n",
    "print(f'modely.speed: {modely.speed}')"
   ]
  },
  {
   "cell_type": "code",
   "execution_count": null,
   "metadata": {},
   "outputs": [],
   "source": [
    "kinds = []\n",
    "\n",
    "def add_kinds(value):\n",
    "\tkinds.append(value)\n",
    "\n",
    "add_kinds(100)\n",
    "print(kinds)"
   ]
  },
  {
   "cell_type": "code",
   "execution_count": null,
   "metadata": {},
   "outputs": [],
   "source": [
    "kinds = []\n",
    "\n",
    "def add_kinds(value):\n",
    "\tkinds = []\n",
    "\tkinds.append(value)\n",
    "\n",
    "add_kinds(100)\n",
    "print(kinds)"
   ]
  },
  {
   "cell_type": "code",
   "execution_count": null,
   "metadata": {},
   "outputs": [],
   "source": [
    "l = 100\n",
    "def test(ll):\n",
    "\tll += 100\n",
    "test(l)\n",
    "l"
   ]
  },
  {
   "cell_type": "code",
   "execution_count": null,
   "metadata": {},
   "outputs": [],
   "source": [
    "class Point:\n",
    "\n",
    "    def __init__(self, x, y):\n",
    "        self.x = x\n",
    "        self.y = y\n",
    "\n",
    "    def __add__(self, other):\n",
    "        if isinstance(other, Point):\n",
    "            return Point((self.x + other.x), (self.y + other.y))\n",
    "        elif isinstance(other, int) or isinstance(other, float):\n",
    "            return Point((self.x + other), (self.y + other))\n",
    "\n",
    "    def distance(self, other):\n",
    "        dx = self.x - other.x\n",
    "        dy = self.y - other.y\n",
    "        return (dx**2 + dy**2)**0.5\n",
    "\n",
    "dot1 = Point(10, 20)\n",
    "dot2 = Point(20, 30)\n",
    "\n",
    "dot3 = dot1 + 10\n",
    "print(dot1.x, dot1.y) # 출력: 10 20\n",
    "print(dot3.x, dot3.y) # 출력: 20 30\n",
    "\n",
    "dot4 = dot1 + dot2\n",
    "print(dot4.x, dot4.y) # 출력: 30 50\n",
    "print(dot4.distance(dot1)) # 출력: 36.05551275463989"
   ]
  },
  {
   "cell_type": "code",
   "execution_count": null,
   "metadata": {},
   "outputs": [],
   "source": [
    "class Counter:\n",
    "\n",
    "\tdef __init__(self):\n",
    "\t\tself.num = 0\n",
    "\n",
    "\tdef __len__(self):\n",
    "\t\treturn 10000\n",
    "\t\n",
    "\tdef __call__(self):\n",
    "\t\treturn 'hello'\n",
    "\t\n",
    "\tdef __getitem__(self, key):\n",
    "\t\treturn key*10\n",
    "\t\n",
    "\tdef __str__(self):\n",
    "\t\treturn 'hello'\n",
    "\t\n",
    "\tdef __repr__(self):\n",
    "\t\treturn 'world'\n",
    "\t\n",
    "c = Counter()\n",
    "c()\n",
    "c[10]"
   ]
  },
  {
   "cell_type": "markdown",
   "metadata": {},
   "source": [
    "# 상속"
   ]
  },
  {
   "cell_type": "code",
   "execution_count": null,
   "metadata": {},
   "outputs": [],
   "source": [
    "class A(object):\n",
    "\tdef hello(self):\n",
    "\t\treturn 'hello'\n",
    "\t\n",
    "class B(A):\n",
    "\n",
    "\tdef __init__(self, a):\n",
    "\t\tprint(a, b)\n",
    "\n",
    "\tdef hello(self):\n",
    "\t\treturn 'hello world'\n",
    "\t\n",
    "b = B(10)\n",
    "b.hello()"
   ]
  },
  {
   "cell_type": "code",
   "execution_count": null,
   "metadata": {},
   "outputs": [],
   "source": [
    "class A(object):\n",
    "\t\n",
    "\tdef one(self):\n",
    "\t\treturn 'one'\n",
    "\t\n",
    "class B(A):\n",
    "\n",
    "\tdef two(self):\n",
    "\t\treturn 'two'\n",
    "\t\n",
    "class C(B):\n",
    "\n",
    "\tdef three(self):\n",
    "\t\treturn 'three'\n",
    "\t\n",
    "c = C()\n",
    "c.one()\n",
    "c.two()\n",
    "c.three()"
   ]
  },
  {
   "cell_type": "code",
   "execution_count": null,
   "metadata": {},
   "outputs": [],
   "source": [
    "class A(object):\n",
    "\n",
    "\ttest = 0\n",
    "\t\n",
    "\tdef one(self):\n",
    "\t\treturn 'one'\n",
    "\t\n",
    "class B(A):\n",
    "\n",
    "\tdef two(self):\n",
    "\t\treturn 'two'\n",
    "\t\n",
    "class C(B):\n",
    "\n",
    "\tdef three(self):\n",
    "\t\treturn 'three'\n",
    "\t\n",
    "\t\n",
    "c = C()\n",
    "\n",
    "A.test=300\n",
    "\n",
    "c.test # 상속을 받을 때 내 메모리 영역에서 보유하고 있는 값은 아니다! 참조 값이다!\n",
    "\n"
   ]
  },
  {
   "cell_type": "markdown",
   "metadata": {},
   "source": [
    "# 다중상속"
   ]
  },
  {
   "cell_type": "code",
   "execution_count": null,
   "metadata": {},
   "outputs": [],
   "source": [
    "class A:\n",
    "\tdef hello(self):\n",
    "\t\tprint('hello A')\n",
    "\n",
    "class B:\n",
    "\tdef hello(self):\n",
    "\t\tprint('hello B')\n",
    "\n",
    "class C(A, B):\n",
    "\tpass\n",
    "\n",
    "c = C()\n",
    "c.hello() # 주의! python의 코드 특성상 hello B라고 오해할만 함."
   ]
  },
  {
   "cell_type": "code",
   "execution_count": null,
   "metadata": {},
   "outputs": [],
   "source": [
    "# 주의! python의 2.x와 3.x가 아래 다이아몬드 상속에 순서가 다름\n",
    "class A:\n",
    "\tdef hello(self):\n",
    "\t\tprint('hello A')\n",
    "\n",
    "class B(A):\n",
    "\tdef hello(self):\n",
    "\t\tprint('hello B')\n",
    "\n",
    "class C(A):\n",
    "\tdef hello(self):\n",
    "\t\tprint('hello C')\n",
    "\n",
    "class D(B,C):\n",
    "\tpass\n",
    "\n",
    "d = D()\n",
    "d.hello()"
   ]
  },
  {
   "cell_type": "code",
   "execution_count": null,
   "metadata": {},
   "outputs": [],
   "source": [
    "# 다중 상속 했을 때 에러가 나는 경우\n",
    "class A:\n",
    "\tdef hello(self):\n",
    "\t\tprint('hello A')\n",
    "\n",
    "class B(A):\n",
    "\tdef hello(self):\n",
    "\t\tprint('hello B')\n",
    "\n",
    "class C(B):\n",
    "\tdef hello(self):\n",
    "\t\tprint('hello C')\n",
    "\n",
    "class D(B,C):\n",
    "\tpass\n",
    "\n",
    "d = D()\n",
    "d.hello()"
   ]
  },
  {
   "cell_type": "markdown",
   "metadata": {},
   "source": [
    "# 연습문제\n",
    "\n",
    "게임에서 캐릭터를 구현할 예정입니다. 아래 클래스를 적절하게 조합하여 hero 인스턴스와 villian 인스턴스를 만들어주세요.\n",
    "1. class Body(능력치)\n",
    "2. class Weapon(무기)\n",
    "3. class Weapon Enhancement(무기강화)\n",
    "4. class Skill(기술)\n",
    "5. class Equipment(장비)\n",
    "6. class Role(히어로인지, 빌런인지, 몹인지)"
   ]
  },
  {
   "cell_type": "code",
   "execution_count": null,
   "metadata": {},
   "outputs": [],
   "source": [
    "# 능력치\n",
    "class Body:\n",
    "\t\n",
    "\tdef __init__(self, hp, mp, strength, agility, intellect):\n",
    "\t\tself.hp = hp\n",
    "\t\tself.mp = mp\n",
    "\t\tself.strength = strength\n",
    "\t\tself.agility = agility\n",
    "\t\tself.intellect = intellect\n",
    "\n",
    "# 스킬\n",
    "class Skill:\n",
    "\t\n",
    "\tdef __init__(self, skillName):\n",
    "\t\tself.skillName = skillName\n",
    "\n",
    "# 장비\n",
    "class Equipment:\n",
    "\t\n",
    "\tdef __init__(self, equipmentName):\n",
    "\t\tself.equipmentName = equipmentName\n",
    "\n",
    "# 무기\n",
    "class Weapon(Equipment):\n",
    "\tpass\n",
    "\n",
    "class WeaponEnhancement:\n",
    "\t\n",
    "\tdef enhancement(weapon):\n",
    "\t\tweapon.equipmentName += '+'\n",
    "\n",
    "# 방어구\n",
    "class Armor(Equipment):\n",
    "\tpass\n",
    "\n",
    "class Role:\n",
    "\t\n",
    "\tdef __init__(self, role, body, skill, weapon, armor):\n",
    "\t\tself.role = role\n",
    "\t\tself.body = body\n",
    "\t\tself.skill = Skill(skill)\n",
    "\t\tself.weapon = Weapon(weapon)\n",
    "\t\tself.armor = Armor(armor)\n",
    "\n",
    "hero = Role('hero', Body(100, 100, 10, 10, 10), 'fireBall', 'sword', 'iron armor')\n",
    "villian = Role('villian', Body(100, 100, 8, 12, 9), 'sting', 'claw', 'leather armor')"
   ]
  },
  {
   "cell_type": "code",
   "execution_count": null,
   "metadata": {},
   "outputs": [],
   "source": [
    "class Weapon:\n",
    "    pass\n",
    "\n",
    "class WeaponEnhancement(Weapon):\n",
    "    pass\n",
    "\n",
    "class Equipment(WeaponEnhancement):\n",
    "    pass\n",
    "\n",
    "class Role:\n",
    "    def setRole(self, role):\n",
    "        self.role = role\n",
    "\n",
    "class Skill:\n",
    "    pass\n",
    "\n",
    "class Body(Role, Equipment, Skill):\n",
    "    \n",
    "    def __init__(self, role):\n",
    "        self.setRole(role)\n",
    "\n",
    "ironman = Body('hero')\n",
    "thanos = Body('villian')"
   ]
  },
  {
   "cell_type": "markdown",
   "metadata": {},
   "source": [
    "# 9.18 선택과제"
   ]
  },
  {
   "cell_type": "code",
   "execution_count": null,
   "metadata": {},
   "outputs": [],
   "source": [
    "# 문제 1:\n",
    "# 동물 클래스 Animal을 만들어주세요. Dog와 Cat 클래스를 각각 정의하십시오. \n",
    "# Animal 클래스는 name 속성을 가집니다. 이 클래스는 make_sound 메서드를 갖고 있습니다.\n",
    "# Dog와 Cat 클래스는 Animal 클래스를 상속받는 클래스입니다.Dog 클래스의 make_sound 메서드는 \"멍멍!\"을, Cat 클래스의 make_sound 메서드는 \"야옹!\"을 출력하도록 재정의하세요.\n",
    "# * 더 완성도 높은 클래스를 만들어보세요. 추가 속성이나 메서드 작성 가능합니다.\n",
    "class Animal:\n",
    "\n",
    "\tdef __init__(self, name):\n",
    "\t\tself.name = name\n",
    "\n",
    "\tdef make_sound(self):\n",
    "\t\tpass\n",
    "\n",
    "class Dog(Animal):\n",
    "\n",
    "\tdef make_sound(self):\n",
    "\t\tprint('멍멍!')\n",
    "\n",
    "class Cat(Animal):\n",
    "\n",
    "\tdef make_sound(self):\n",
    "\t\tprint('야옹!')\n",
    "\n",
    "dog = Dog('멍멍이')\n",
    "cat = Cat('떼껄룩')\n",
    "dog.make_sound()\n",
    "cat.make_sound()\n",
    "\n",
    "# 문제 2:\n",
    "# Person이라는 기본 클래스를 만들어주세요. Person 클래스는 `이름`과 `나이`라는 두 개의 속성과 `소개하기`라는 메서드를 가지며, 이 메서드는 \"Hello World!, 제 이름은 [이름]이고 제 나이는 [나이]살 입니다.\"라는 메시지를 출력합니다.\n",
    "# Person 클래스를 상속받는 Student 클래스를 정의하십시오. Student 클래스는 추가적으로 `학년` 속성을 가집니다. Student 클래스에서 `소개하기` 메서드를 오버라이드하여 \"Hello World!, 제 이름은 [이름]이고 제 나이는 [나이]살 입니다. 그리고 저는 [학년]학년입니다. \"라는 메시지를 출력하도록 만드세요.\n",
    "\n",
    "class Person:\n",
    "\tdef __init__(self, name, age):\n",
    "\t\tself.name = name\n",
    "\t\tself.age = age\n",
    "\n",
    "\tdef introduce(self):\n",
    "\t\tprint(f'Hello World!, 제 이름은 {self.name}이고 제 나이는 {self.age}살 입니다.')\n",
    "\n",
    "class Student(Person):\n",
    "\n",
    "\tdef __init__(self, name, age, grade):\n",
    "\t\tsuper().__init__(name, age)\n",
    "\t\tself.grade = grade\n",
    "\t\n",
    "\tdef introduce(self):\n",
    "\t\tprint(f'Hello World!, 제 이름은 {self.name}이고 제 나이는 {self.age}살 입니다. 그리고 저는 {self.grade}학년입니다.')\n",
    "\n",
    "student = Student('황병헌', 30, 4)\n",
    "student.introduce()"
   ]
  },
  {
   "cell_type": "code",
   "execution_count": null,
   "metadata": {},
   "outputs": [],
   "source": [
    "def hello():\n",
    "\tglobal s\n",
    "\ts = 10\n",
    "\n",
    "print(s)"
   ]
  },
  {
   "cell_type": "code",
   "execution_count": null,
   "metadata": {},
   "outputs": [],
   "source": [
    "def hello():\n",
    "    global s\n",
    "    s = 10\n",
    "\n",
    "hello()\n",
    "\n",
    "print(s)"
   ]
  },
  {
   "cell_type": "code",
   "execution_count": null,
   "metadata": {},
   "outputs": [],
   "source": [
    "class Person:\n",
    "    name = \"파이썬\"\n",
    "    age = 123\n",
    "    \n",
    "    def __init__(self, name, age):\n",
    "        self.name = name\n",
    "        self.age = age\n",
    "    \n",
    "    def 소개하기(self):\n",
    "        return f\"Hello World!, 제 이름은 {self.name}이고, 제 나이는 {self.age}살 입니다.\"\n",
    "    \n",
    "class Student(Person):\n",
    "\n",
    "    def __init__(self, name, age, grade):\n",
    "        super().__init__(name, age)\n",
    "        self.grade = grade\n",
    "\n",
    "    def 소개하기(self):\n",
    "        return f\"Hello World!, 제 이름은 {self.name}이고, 제 나이는 {self.age}살 입니다. 그리고 저는 {self.grade}학년입니다.\"\n",
    "    \n",
    "person1 = Person('황병헌', 31)\n",
    "person1.name = '병헌'\n",
    "print(person1.name)\n",
    "print(Person.name)"
   ]
  },
  {
   "cell_type": "markdown",
   "metadata": {},
   "source": [
    "# 클래스 메서드와 정적 메서드"
   ]
  },
  {
   "cell_type": "code",
   "execution_count": null,
   "metadata": {},
   "outputs": [],
   "source": [
    "# 클래스 메서드\n",
    "class MyClass:\n",
    "\tcount = 0\n",
    "\n",
    "\t@classmethod\n",
    "\tdef increment(cls):\n",
    "\t\tcls.count += 1\n",
    "\n",
    "a = MyClass()\n",
    "b = MyClass()\n",
    "MyClass.increment()\n",
    "print(MyClass.count)\n",
    "\n",
    "MyClass.increment()\n",
    "\n",
    "a.count, b.count"
   ]
  },
  {
   "cell_type": "code",
   "execution_count": null,
   "metadata": {},
   "outputs": [],
   "source": [
    "# 클래스 메서드\n",
    "class MyClass:\n",
    "\tcount = 0\n",
    "\n",
    "\tdef increment(self):\n",
    "\t\tself.count += 1\n",
    "\n",
    "\n",
    "a = MyClass()\n",
    "b = MyClass()\n",
    "a.increment()\n",
    "print(MyClass.count)\n",
    "\n",
    "\n",
    "a.count, b.count"
   ]
  },
  {
   "cell_type": "code",
   "execution_count": null,
   "metadata": {},
   "outputs": [],
   "source": [
    "class MyClass:\n",
    "\tcount = 10\n",
    "\n",
    "\t@staticmethod\n",
    "\tdef my_method(x, y):\n",
    "\t\t# print(count) -> 읽는 것 조차 접근이 안됨 - ERROR\n",
    "\t\treturn x + y\n",
    "\n",
    "MyClass.my_method(5, 3)"
   ]
  },
  {
   "cell_type": "code",
   "execution_count": null,
   "metadata": {},
   "outputs": [],
   "source": [
    "class 학사정보시스템:\n",
    "\t학점총점 = 120\n",
    "\n",
    "\tdef __init__(self):\n",
    "\t\tself.학기점수 = []\n",
    "\n",
    "\tdef 학점추가(self, 이번학기점수):\n",
    "\t\tself.학기점수.append(이번학기점수)\n",
    "\n",
    "\tdef 학점평균(self):\n",
    "\t\treturn sum(self.학기점수) / len(self.학기점수)\n",
    "\t\n",
    "\tdef 졸업장출력(self):\n",
    "\t\treturn f'총학점 {self.학점총점}학점, {self.학점평균()}으로 졸업하셧습니다.'\n",
    "\t\n",
    "피카츄 = 학사정보시스템()\n",
    "꼬부기 = 학사정보시스템()\n",
    "\n",
    "피카츄.학점추가(3.2)\n",
    "피카츄.학점추가(3.5)\n",
    "피카츄.학점추가(3.0)\n",
    "피카츄.학점추가(3.2)\n",
    "피카츄.학점추가(3.3)\n",
    "피카츄.학점추가(3.0)\n",
    "피카츄.학점추가(3.1)\n",
    "피카츄.학점추가(2.8)\n",
    "\n",
    "피카츄.학점평균()\n",
    "피카츄.졸업장출력()"
   ]
  },
  {
   "cell_type": "code",
   "execution_count": null,
   "metadata": {},
   "outputs": [],
   "source": [
    "# 스토리: 중간에 총학점이 120학점에서 60학점으로 바뀌어서 조기졸업을 할 수 있게 됐습니다.\n",
    "class 학사정보시스템:\n",
    "\t학점총점 = 120\n",
    "\n",
    "\tdef __init__(self):\n",
    "\t\tself.학기점수 = []\n",
    "\n",
    "\tdef 학점추가(self, 이번학기점수):\n",
    "\t\tself.학기점수.append(이번학기점수)\n",
    "\n",
    "\tdef 학점평균(self):\n",
    "\t\treturn sum(self.학기점수) / len(self.학기점수)\n",
    "\t\n",
    "\tdef 졸업장출력(self):\n",
    "\t\treturn f'총학점 {self.학점총점}학점, {self.학점평균()}으로 졸업하셧습니다.'\n",
    "\t\n",
    "피카츄 = 학사정보시스템()\n",
    "꼬부기 = 학사정보시스템()\n",
    "\n",
    "피카츄.학점추가(3.2)\n",
    "피카츄.학점추가(3.5)\n",
    "# 총학점 변경\n",
    "피카츄.학점총점 = 60\n",
    "피카츄.학점추가(3.0)\n",
    "피카츄.학점추가(2.8)\n",
    "\n",
    "피카츄.학점평균()\n",
    "피카츄.졸업장출력()"
   ]
  },
  {
   "cell_type": "code",
   "execution_count": null,
   "metadata": {},
   "outputs": [],
   "source": [
    "# 스토리: 중간에 총학점이 120학점에서 60학점으로 바뀌어서 조기졸업을 할 수 있게 됐습니다.\n",
    "class 학사정보시스템:\n",
    "\t학점총점 = 120\n",
    "\n",
    "\tdef __init__(self):\n",
    "\t\tself.학기점수 = []\n",
    "\n",
    "\tdef 학점추가(self, 이번학기점수):\n",
    "\t\tself.학기점수.append(이번학기점수)\n",
    "\n",
    "\tdef 학점평균(self):\n",
    "\t\treturn sum(self.학기점수) / len(self.학기점수)\n",
    "\t\n",
    "\tdef 졸업장출력(self):\n",
    "\t\treturn f'총학점 {self.학점총점}학점, {self.학점평균()}으로 졸업하셧습니다.'\n",
    "\t\n",
    "피카츄 = 학사정보시스템()\n",
    "꼬부기 = 학사정보시스템()\n",
    "\n",
    "피카츄.학점추가(3.2)\n",
    "피카츄.학점추가(3.5)\n",
    "# 총학점 변경\n",
    "학사정보시스템.학점총점 = 60\n",
    "피카츄.학점추가(3.0)\n",
    "피카츄.학점추가(2.8)\n",
    "\n",
    "피카츄.학점평균()\n",
    "피카츄.졸업장출력()"
   ]
  },
  {
   "cell_type": "code",
   "execution_count": null,
   "metadata": {},
   "outputs": [],
   "source": [
    "# 스토리: 중간에 총학점이 120학점에서 60학점으로 바뀌어서 조기졸업을 할 수 있게 됐습니다.\n",
    "class 학사정보시스템:\n",
    "\t학점총점 = 120\n",
    "\n",
    "\tdef __init__(self):\n",
    "\t\tself.학기점수 = []\n",
    "\n",
    "\tdef 학점추가(self, 이번학기점수):\n",
    "\t\tself.학기점수.append(이번학기점수)\n",
    "\n",
    "\tdef 학점평균(self):\n",
    "\t\treturn sum(self.학기점수) / len(self.학기점수)\n",
    "\t\n",
    "\tdef 졸업장출력(self):\n",
    "\t\treturn f'총학점 {self.학점총점}학점, {self.학점평균()}으로 졸업하셧습니다.'\n",
    "\t\n",
    "\t@classmethod\n",
    "\tdef 학점총점변경(cls, 총점):\n",
    "\t\tif isinstance(총점, int):\n",
    "\t\t\tcls.학점총점 = 총점\n",
    "\t\t\treturn '변경됨'\n",
    "\t\treturn '변경안됨'\n",
    "\t\n",
    "피카츄 = 학사정보시스템()\n",
    "꼬부기 = 학사정보시스템()\n",
    "\n",
    "피카츄.학점추가(3.2)\n",
    "피카츄.학점추가(3.5)\n",
    "# 총학점 변경\n",
    "학사정보시스템.학점총점변경(60)\n",
    "피카츄.학점추가(3.0)\n",
    "피카츄.학점추가(2.8)\n",
    "\n",
    "피카츄.학점평균()\n",
    "피카츄.졸업장출력()\n",
    "\n",
    "꼬부기.학점추가(3.2)\n",
    "꼬부기.학점추가(3.5)\n",
    "꼬부기.학점추가(3.0)\n",
    "꼬부기.학점추가(2.8)\n",
    "\n",
    "꼬부기.학점평균()\n",
    "꼬부기.졸업장출력()"
   ]
  },
  {
   "cell_type": "code",
   "execution_count": null,
   "metadata": {},
   "outputs": [],
   "source": [
    "# 스토리: 중간에 총학점이 120학점에서 60학점으로 바뀌어서 조기졸업을 할 수 있게 됐습니다.\n",
    "class 학사정보시스템:\n",
    "\t학점총점 = 120\n",
    "\n",
    "\tdef __init__(self):\n",
    "\t\tself.학기점수 = []\n",
    "\n",
    "\tdef 학점추가(self, 이번학기점수):\n",
    "\t\tself.학기점수.append(이번학기점수)\n",
    "\n",
    "\tdef 학점평균(self):\n",
    "\t\treturn sum(self.학기점수) / len(self.학기점수)\n",
    "\t\n",
    "\tdef 졸업장출력(self):\n",
    "\t\treturn f'총학점 {self.학점총점}학점, {self.학점평균()}으로 졸업하셧습니다.'\n",
    "\t\n",
    "\t@staticmethod\n",
    "\tdef 학사경고(이번학기점수):\n",
    "\t\tif 이번학기점수 - 1.5 > 0:\n",
    "\t\t\treturn '학사경고 아님!'\n",
    "\t\treturn '학사경고임!'\n",
    "\t\n",
    "\t@classmethod\n",
    "\tdef 학점총점변경(cls, 총점):\n",
    "\t\tif isinstance(총점, int):\n",
    "\t\t\tcls.학점총점 = 총점\n",
    "\t\t\treturn '변경됨'\n",
    "\t\treturn '변경안됨'\n",
    "\t\n",
    "피카츄 = 학사정보시스템()\n",
    "꼬부기 = 학사정보시스템()\n",
    "\n",
    "피카츄.학사경고(1.5)"
   ]
  },
  {
   "cell_type": "markdown",
   "metadata": {},
   "source": [
    "# 속성 접근자와 덕타이핑"
   ]
  },
  {
   "cell_type": "code",
   "execution_count": null,
   "metadata": {},
   "outputs": [],
   "source": [
    "class Person:\n",
    "\tdef __init__(self, first_name, last_name):\n",
    "\t\tself._first_name = first_name\n",
    "\t\tself._last_name = last_name\n",
    "\n",
    "\t@property\n",
    "\tdef full_name(self):\n",
    "\t\treturn f'{self._first_name}{self._last_name}'\n",
    "\t\n",
    "\tdef namemul(self):\n",
    "\t\treturn self.full_name * 2 # 클래스 내부에서는 인스턴스 변수처럼 취급됨.\n",
    "\t\n",
    "ruler = Person('hwang', 'byeongheon')\n",
    "print(ruler._first_name)\n",
    "print(ruler._last_name)\n",
    "print(ruler.full_name)\n",
    "print(ruler.namemul())"
   ]
  },
  {
   "cell_type": "code",
   "execution_count": null,
   "metadata": {},
   "outputs": [],
   "source": [
    "class Duck:\n",
    "\tdef introduce(self):\n",
    "\t\tprint('꽥꽥!')\n",
    "\n",
    "class Person:\n",
    "\tdef introduce(self):\n",
    "\t\tprint('안녕하세요!')\n",
    "\n",
    "def introduce(obj):\n",
    "\tobj.introduce()\n",
    "\n",
    "duck = Duck()\n",
    "person = Person()\n",
    "\n",
    "introduce(duck)\n",
    "introduce(person)\n",
    "\n",
    "# 장점 1. 코드의 가독성이 좋아짐.\n",
    "# duck의 object 안을 들여다보지 않고, 어느정도 기능 유추 가능\n",
    "# 장점 2. 여러 obj를 하나의 함수에서 실행하며 커스터마이징할 수 있음.\n",
    "\n"
   ]
  },
  {
   "cell_type": "code",
   "execution_count": null,
   "metadata": {},
   "outputs": [],
   "source": [
    "class Hero:\n",
    "\tdef move(self):\n",
    "\t\tprint('h 움직임')\n",
    "\n",
    "class Villian:\n",
    "\tdef move(self):\n",
    "\t\tprint('v 움직임')\n",
    "\n",
    "class Mob:\n",
    "\tdef move(self):\n",
    "\t\tprint('m 움직임')\n",
    "\n",
    "def move(obj):\n",
    "\tobj.move()\n",
    "\n",
    "a = Hero()\n",
    "b = Villian()\n",
    "c = Mob()\n",
    "\n",
    "등장인물 = [a, b, c]\n",
    "\n",
    "for person in 등장인물:\n",
    "\tmove(person)"
   ]
  },
  {
   "cell_type": "markdown",
   "metadata": {},
   "source": [
    "# 추상 클래스"
   ]
  },
  {
   "cell_type": "code",
   "execution_count": null,
   "metadata": {},
   "outputs": [],
   "source": [
    "from abc import ABC, abstractmethod\n",
    "\n",
    "class Person(ABC): # ABC를 상속받고 @abstractmethod라고 선언하면 반드시 상속받은 클래스에서 메서드 오버라이딩을 해야함\n",
    "\n",
    "\t@abstractmethod\n",
    "\tdef move(self):\n",
    "\t\tpass\n",
    "\n",
    "class Hero(Person):\n",
    "\n",
    "\tdef move(self):\n",
    "\t\tpass\n",
    "\n",
    "ironman = Hero()\n",
    "ironman.move()"
   ]
  },
  {
   "cell_type": "markdown",
   "metadata": {},
   "source": [
    "# 비공개 속성"
   ]
  },
  {
   "cell_type": "code",
   "execution_count": null,
   "metadata": {},
   "outputs": [],
   "source": [
    "class MyClass:\n",
    "    __a = 10\n",
    "    _a = 100\n",
    "    b = 20\n",
    "\n",
    "    def __init__(self, c, d):\n",
    "        self.__c = c\n",
    "        self.d = d\n",
    "\n",
    "# MyClass.__a\n",
    "test = MyClass(30, 40)\n",
    "test._MyClass__a = 9000\n",
    "test._MyClass__c = 90000\n",
    "\n",
    "test._MyClass__a\n",
    "test._MyClass__c"
   ]
  },
  {
   "cell_type": "markdown",
   "metadata": {},
   "source": [
    "# 모듈"
   ]
  },
  {
   "cell_type": "code",
   "execution_count": null,
   "metadata": {},
   "outputs": [],
   "source": [
    "from heon import name, age\n",
    "age"
   ]
  },
  {
   "cell_type": "code",
   "execution_count": null,
   "metadata": {},
   "outputs": [],
   "source": [
    "from heon import name as n\n",
    "\n",
    "print(n)"
   ]
  },
  {
   "cell_type": "code",
   "execution_count": null,
   "metadata": {},
   "outputs": [],
   "source": [
    "import heon as h\n",
    "\n",
    "print(h.name)"
   ]
  },
  {
   "cell_type": "code",
   "execution_count": null,
   "metadata": {},
   "outputs": [],
   "source": [
    "import a.b.c.ruler\n",
    "\n",
    "print(a.b.c.ruler.name)\n",
    "print(a.b.c.ruler.age)"
   ]
  },
  {
   "cell_type": "code",
   "execution_count": null,
   "metadata": {},
   "outputs": [],
   "source": [
    "import a.b.c.ruler as ruler\n",
    "\n",
    "print(ruler.name)\n",
    "print(ruler.age)"
   ]
  },
  {
   "cell_type": "code",
   "execution_count": null,
   "metadata": {},
   "outputs": [],
   "source": [
    "from a.b.c import ruler\n",
    "\n",
    "print(ruler)\n",
    "print(ruler.name)\n",
    "print(ruler.age)"
   ]
  },
  {
   "cell_type": "code",
   "execution_count": null,
   "metadata": {},
   "outputs": [],
   "source": [
    "!pip list"
   ]
  },
  {
   "cell_type": "code",
   "execution_count": null,
   "metadata": {},
   "outputs": [],
   "source": [
    "import sys\n",
    "sys.path.append('a/b/c')"
   ]
  },
  {
   "cell_type": "code",
   "execution_count": null,
   "metadata": {},
   "outputs": [],
   "source": [
    "import ruler\n",
    "ruler.name"
   ]
  },
  {
   "cell_type": "code",
   "execution_count": null,
   "metadata": {},
   "outputs": [],
   "source": [
    "import datetime"
   ]
  },
  {
   "cell_type": "code",
   "execution_count": null,
   "metadata": {},
   "outputs": [],
   "source": [
    "datetime.datetime.now()"
   ]
  },
  {
   "cell_type": "markdown",
   "metadata": {},
   "source": [
    "# 많이 사용하는 모듈"
   ]
  },
  {
   "cell_type": "code",
   "execution_count": null,
   "metadata": {},
   "outputs": [],
   "source": [
    "import glob\n",
    "\n",
    "glob.glob('*/*.py')"
   ]
  },
  {
   "cell_type": "code",
   "execution_count": null,
   "metadata": {},
   "outputs": [],
   "source": [
    "import datetime\n",
    "\n",
    "s = datetime.datetime(2023, 9, 19, 14, 10)\n",
    "print(s)\n",
    "s.weekday()\n",
    "s.year\n",
    "s.month"
   ]
  },
  {
   "cell_type": "code",
   "execution_count": null,
   "metadata": {},
   "outputs": [],
   "source": [
    "graduation_date = datetime.datetime(2023, 12, 29)\n",
    "today = datetime.datetime.today()\n",
    "graduation_date - today"
   ]
  },
  {
   "cell_type": "code",
   "execution_count": null,
   "metadata": {},
   "outputs": [],
   "source": [
    "import json\n",
    "\n",
    "d = {\n",
    "\t'one':1,\n",
    "\t'two':2,\n",
    "\t'three': 3,\n",
    "}\n",
    "s = json.dumps(d)\n",
    "type(json.loads(s))"
   ]
  },
  {
   "cell_type": "code",
   "execution_count": null,
   "metadata": {},
   "outputs": [],
   "source": [
    "import collections\n",
    "\n",
    "d = collections.deque([1, 2, 3, 4])\n",
    "d.reverse()\n",
    "print(d)\n",
    "collections.Counter('hello world')"
   ]
  },
  {
   "cell_type": "code",
   "execution_count": null,
   "metadata": {},
   "outputs": [],
   "source": [
    "!pip install bs4"
   ]
  },
  {
   "cell_type": "code",
   "execution_count": null,
   "metadata": {},
   "outputs": [],
   "source": [
    "import requests\n",
    "from bs4 import BeautifulSoup\n",
    "\n",
    "paullab_url = 'http://paullab.co.kr/bookservice/'\n",
    "response = requests.get(paullab_url)\n",
    "response.encoding = 'utf-8'\n",
    "html = response.text\n",
    "\n",
    "soup = BeautifulSoup(html, 'html.parser')\n",
    "\n",
    "bookservices = soup.select('.col-lg-6 > h2')     # col-lg-6 클래스 안의 h2 태그 탐색\n",
    "for no, book in enumerate(bookservices, 1):\n",
    "    print(no, book.text)"
   ]
  },
  {
   "cell_type": "code",
   "execution_count": null,
   "metadata": {},
   "outputs": [],
   "source": [
    "import os\n",
    "\n",
    "os.getcwd()\n",
    "os.walk('content')"
   ]
  },
  {
   "cell_type": "code",
   "execution_count": null,
   "metadata": {},
   "outputs": [],
   "source": [
    "import sys\n",
    "a = [1, 2, 3, 4]\n",
    "b = a\n",
    "del a\n",
    "del b\n",
    "sys.getrefcount([1, 2, 3, 4])"
   ]
  },
  {
   "cell_type": "markdown",
   "metadata": {},
   "source": [
    "# 연습문제"
   ]
  },
  {
   "cell_type": "code",
   "execution_count": null,
   "metadata": {},
   "outputs": [],
   "source": [
    "# 아래와 같은 기능을 하는 모듈 또는 패키지를 만들어주세요.\n",
    "# add(a, b), sub(a, b), mul(a, b), div(a, b)\n",
    "from operation import arithmetic as ar, logical as lo\n",
    "\n",
    "print(ar.add(2, 1))\n",
    "print(ar.sub(2, 1))\n",
    "print(ar.mul(2, 1))\n",
    "print(ar.div(2, 1))\n",
    "print(lo._and(True, False))"
   ]
  },
  {
   "cell_type": "markdown",
   "metadata": {},
   "source": [
    "# 예외 처리"
   ]
  },
  {
   "cell_type": "code",
   "execution_count": null,
   "metadata": {},
   "outputs": [],
   "source": [
    "# SyntaxError\n",
    "# for i in range(10)\n",
    "#     print(i)\n",
    "if False:\n",
    "    raise SyntaxError\n",
    "if True:\n",
    "    raise SyntaxError('hello world') #여러분의 의도에 맞게 적절한 애러를 주실 필요가 있습니다."
   ]
  },
  {
   "cell_type": "code",
   "execution_count": null,
   "metadata": {},
   "outputs": [],
   "source": [
    "# Name Error\n",
    "print(x)"
   ]
  },
  {
   "cell_type": "code",
   "execution_count": null,
   "metadata": {},
   "outputs": [],
   "source": [
    "# Type Error\n",
    "x = 10\n",
    "y = '20'\n",
    "print(x + y)"
   ]
  },
  {
   "cell_type": "code",
   "execution_count": null,
   "metadata": {},
   "outputs": [],
   "source": [
    "# Index Error\n",
    "my_list = [1, 2, 3]\n",
    "print(my_list[3]) # 슬라이싱은 에러를 내지 않음."
   ]
  },
  {
   "cell_type": "code",
   "execution_count": null,
   "metadata": {},
   "outputs": [],
   "source": [
    "# Key Error\n",
    "my_dict = {'a':1, 'b':2}\n",
    "my_dict['c']"
   ]
  },
  {
   "cell_type": "code",
   "execution_count": null,
   "metadata": {},
   "outputs": [],
   "source": [
    "# Value Error\n",
    "int('a')"
   ]
  },
  {
   "cell_type": "code",
   "execution_count": null,
   "metadata": {},
   "outputs": [],
   "source": [
    "# ZeroDivisionError\n",
    "1 / 0"
   ]
  },
  {
   "cell_type": "code",
   "execution_count": null,
   "metadata": {},
   "outputs": [],
   "source": [
    "# Attribute Error\n",
    "my_list = [1, 2, 3]\n",
    "print(my_list.appeend(4))"
   ]
  },
  {
   "cell_type": "code",
   "execution_count": null,
   "metadata": {},
   "outputs": [],
   "source": [
    "# Type Error\n",
    "def add(x, y):\n",
    "    return x + y\n",
    "\n",
    "add(1, 2, 3) # *args, **kargs"
   ]
  },
  {
   "cell_type": "code",
   "execution_count": null,
   "metadata": {},
   "outputs": [],
   "source": [
    "# File I/O Error\n",
    "f = open('non-existent.txt', 'r')\n",
    "f.read()"
   ]
  },
  {
   "cell_type": "code",
   "execution_count": null,
   "metadata": {},
   "outputs": [],
   "source": [
    "try:\n",
    "\tdiscount = 0\n",
    "\tprice = 30000 / discount\n",
    "\tprint('치킨이 주문되었습니다.')\n",
    "except:\n",
    "\tprint('결제가 x')"
   ]
  },
  {
   "cell_type": "code",
   "execution_count": null,
   "metadata": {},
   "outputs": [],
   "source": [
    "try:\n",
    "\tdiscount = 0\n",
    "\tprice = 30000 * discount\n",
    "\tprint('치킨이 주문되었습니다.')\n",
    "except:\n",
    "\tprint('결제가 x')\n",
    "else:\n",
    "\tprint('else')"
   ]
  },
  {
   "cell_type": "code",
   "execution_count": null,
   "metadata": {},
   "outputs": [],
   "source": [
    "try:\n",
    "\tdiscount = 0\n",
    "\tprice = 30000 * discount\n",
    "\tprint('치킨이 주문되었습니다.')\n",
    "except:\n",
    "\tprint('결제가 x')\n",
    "finally:\n",
    "\tprint('메인 화면으로 이동')"
   ]
  },
  {
   "cell_type": "code",
   "execution_count": null,
   "metadata": {},
   "outputs": [],
   "source": [
    "test = 'hello'\n",
    "\n",
    "assert test == 'hello', '애러 메시지 1' #1\n",
    "assert test == 'world', '애러 메시지 2' #2\n",
    "# assert test + 3 == 5, '애러 메시지 3' #3"
   ]
  },
  {
   "cell_type": "code",
   "execution_count": null,
   "metadata": {},
   "outputs": [],
   "source": [
    "x = 10\n",
    "# raise\n",
    "# raise ValueError\n",
    "raise ValueError('코드를 잘~ 만들어주세요!')\n",
    "y = 20"
   ]
  },
  {
   "cell_type": "code",
   "execution_count": null,
   "metadata": {},
   "outputs": [],
   "source": [
    "class Leehojun(Exception): #Exception을 상속받으면 됩니다.\n",
    "    def __init__(self):\n",
    "        super().__init__('입력된 값이 leehojun이 아닙니다.')\n",
    "\n",
    "raise Leehojun"
   ]
  },
  {
   "cell_type": "code",
   "execution_count": null,
   "metadata": {},
   "outputs": [],
   "source": [
    "import logging\n",
    "\n",
    "logging.basicConfig(level=logging.ERROR) # 어느 레벨부터 로깅할지, 기본으로 warning 부터 합니다.\n",
    "\n",
    "logging.debug(\"This is a debug message\") # 고쳐야 할 코드, 기록 필요\n",
    "logging.info(\"This is an info message\") # 정보성 메시지\n",
    "logging.warning(\"This is a warning message\") # 경고 메시지\n",
    "logging.error(\"This is an error message\") # 애러 메시지(프로그램은 동작)\n",
    "logging.critical(\"This is a critical message\") # 프로그램 중지(애러처리 안된경우)"
   ]
  },
  {
   "cell_type": "code",
   "execution_count": null,
   "metadata": {},
   "outputs": [],
   "source": [
    "import logging.handlers\n",
    "\n",
    "def logger():\n",
    "    log_obj = logging.getLogger(\"log_name\") # log name으로 log 객체 생성\n",
    "    log_obj.setLevel(logging.DEBUG) # 어디부터 기록할지 설정\n",
    "\n",
    "    fileHandeler = logging.FileHandler(filename=\"./test.txt\") # 파일로 기록\n",
    "    # streamHandler = logging.StreamHandler() # 콘솔에 출력\n",
    "\n",
    "    fileHandeler.setLevel(logging.INFO) # 파일 기록 레벨 설정\n",
    "    # streamHandler.setLevel(logging.DEBUG) # 콘솔 기록 레벨 설정\n",
    "\n",
    "    formatter = logging.Formatter(\"%(name)s, %(asctime)s, %(levelname)s, %(message)s\") #포멧 생성\n",
    "\n",
    "    fileHandeler.setFormatter(formatter) # 파일 메시지 포멧 설정\n",
    "    # streamHandler.setFormatter(formatter) # 콘솔 메시지 포멧 설정\n",
    "\n",
    "    log_obj.addHandler(fileHandeler) # log_obj handler에 파일 출력 방식 추가\n",
    "    # log_obj.addHandler(streamHandler) # log_obj handler에 파일 콘솔 방식 추가\n",
    "\n",
    "    return log_obj\n",
    "\n",
    "log = logger()\n",
    "\n",
    "# 아래 코드를 기록하고 싶은 곳에 함께 설정\n",
    "log.debug('debug')\n",
    "log.info('info')\n",
    "log.warning('warning')\n",
    "log.error('error')\n",
    "log.critical('critical')\n",
    "\n",
    "print('---')\n",
    "\n",
    "# 아래와 같이 사용합니다.\n",
    "def f():\n",
    "    try:\n",
    "        x = 1 / 0\n",
    "    except Exception as e:\n",
    "        print(e)\n",
    "        log.error(f'{e} error')\n",
    "\n",
    "f()"
   ]
  },
  {
   "cell_type": "markdown",
   "metadata": {},
   "source": [
    "# 연습문제"
   ]
  },
  {
   "cell_type": "code",
   "execution_count": null,
   "metadata": {},
   "outputs": [],
   "source": [
    "# 문제1: 두 수를 나누는 함수 div(a, b)가 있었을 때\n",
    "# b에 0이 입력되면 예외처리를 하여 정상작동이 되는 함수로 작성을 해주세요\n",
    "def div(a, b):\n",
    "\treturn a / b\n",
    "\n",
    "try:\n",
    "\tprint(div(3, 0))\n",
    "except:\n",
    "\tprint('0으로 나누는 것은 불가합니다.')"
   ]
  },
  {
   "cell_type": "code",
   "execution_count": null,
   "metadata": {},
   "outputs": [],
   "source": [
    "# 문제1(라운지 쓰레드)\n",
    "# 두 수를 나누는 함수 div(a, b)가 있었을 때 \n",
    "# b에 0이 입력되면 예외처리를 하여 정상작동이 되는 함수로 작성을 해주세요.\n",
    "def div(a, b):\n",
    "    try:\n",
    "        return a / b\n",
    "    except:\n",
    "        return '0으로 나누는 것은 불가합니다.'\n",
    "\n",
    "print(div(3, 0))\n",
    "\n",
    "# 문제2(class 쓰레드)\n",
    "# 하나의 숫자에 제곱근을 구하는 함수 sqrt_number(num)이 있었을 때\n",
    "# 자체 예외 NegativeNumberError를 정의하세요. 이 예외는 음수가 입력될 때 발생하도록 합니다.\n",
    "# 사용자로부터 숫자를 입력 받아 그 숫자의 제곱근을 반환하는 함수를 작성하세요.\n",
    "# 입력된 숫자가 음수이면 NegativeNumberError를 발생시키고 \n",
    "# \"음수의 제곱근은 계산할 수 없습니다.\"라는 메시지를 출력하세요.\n",
    "class NegativeNumberError(Exception):\n",
    "    def __init__(self):\n",
    "        super().__init__('음수의 제곱근을 구할 수 없습니다.')\n",
    "\n",
    "def sqrt_number(num):\n",
    "    if num < 0:\n",
    "        raise NegativeNumberError\n",
    "    else:\n",
    "    \treturn num ** 0.5\n",
    "\n",
    "# print(sqrt_number(-1))\n",
    "\n",
    "\n",
    "# 문제3(class 쓰레드)\n",
    "# 사용자로부터 인덱스 값을 입력 받아서 리스트 [\"apple\", \"banana\", \"cherry\"]에서 \n",
    "# 해당 인덱스의 값을 출력하는 함수를 작성하세요.\n",
    "# 사용자가 범위를 벗어난 인덱스를 입력하면 \"리스트의 범위를 벗어났습니다.\"라는 메시지를 출력하세요.\n",
    "myList = [\"apple\", \"banana\", \"cherry\"]\n",
    "listIdx = int(input())\n",
    "try:\n",
    "    print(myList[listIdx])\n",
    "except:\n",
    "    print('리스트의 범위를 벗어났습니다.')"
   ]
  },
  {
   "cell_type": "code",
   "execution_count": null,
   "metadata": {},
   "outputs": [],
   "source": [
    "!pip list"
   ]
  },
  {
   "cell_type": "code",
   "execution_count": 10,
   "metadata": {},
   "outputs": [
    {
     "ename": "AssertionError",
     "evalue": "애러 메시지 2",
     "output_type": "error",
     "traceback": [
      "\u001b[1;31m---------------------------------------------------------------------------\u001b[0m",
      "\u001b[1;31mAssertionError\u001b[0m                            Traceback (most recent call last)",
      "\u001b[1;32md:\\ormi3\\Python\\230919\\ormi3_5.ipynb 셀 90\u001b[0m line \u001b[0;36m4\n\u001b[0;32m      <a href='vscode-notebook-cell:/d%3A/ormi3/Python/230919/ormi3_5.ipynb#Y211sZmlsZQ%3D%3D?line=0'>1</a>\u001b[0m test \u001b[39m=\u001b[39m \u001b[39m'\u001b[39m\u001b[39mhello\u001b[39m\u001b[39m'\u001b[39m\n\u001b[0;32m      <a href='vscode-notebook-cell:/d%3A/ormi3/Python/230919/ormi3_5.ipynb#Y211sZmlsZQ%3D%3D?line=2'>3</a>\u001b[0m \u001b[39massert\u001b[39;00m test \u001b[39m==\u001b[39m \u001b[39m'\u001b[39m\u001b[39mhello\u001b[39m\u001b[39m'\u001b[39m, \u001b[39m'\u001b[39m\u001b[39m애러 메시지 1\u001b[39m\u001b[39m'\u001b[39m \u001b[39m#1\u001b[39;00m\n\u001b[1;32m----> <a href='vscode-notebook-cell:/d%3A/ormi3/Python/230919/ormi3_5.ipynb#Y211sZmlsZQ%3D%3D?line=3'>4</a>\u001b[0m \u001b[39massert\u001b[39;00m test \u001b[39m==\u001b[39m \u001b[39m'\u001b[39m\u001b[39mworld\u001b[39m\u001b[39m'\u001b[39m, \u001b[39m'\u001b[39m\u001b[39m애러 메시지 2\u001b[39m\u001b[39m'\u001b[39m \u001b[39m#2\u001b[39;00m\n",
      "\u001b[1;31mAssertionError\u001b[0m: 애러 메시지 2"
     ]
    }
   ],
   "source": [
    "test = 'hello'\n",
    "\n",
    "assert test == 'hello', '애러 메시지 1' #1\n",
    "assert test == 'world', '애러 메시지 2' #2"
   ]
  },
  {
   "cell_type": "code",
   "execution_count": null,
   "metadata": {},
   "outputs": [],
   "source": []
  }
 ],
 "metadata": {
  "kernelspec": {
   "display_name": "Python 3",
   "language": "python",
   "name": "python3"
  },
  "language_info": {
   "codemirror_mode": {
    "name": "ipython",
    "version": 3
   },
   "file_extension": ".py",
   "mimetype": "text/x-python",
   "name": "python",
   "nbconvert_exporter": "python",
   "pygments_lexer": "ipython3",
   "version": "3.10.11"
  },
  "orig_nbformat": 4
 },
 "nbformat": 4,
 "nbformat_minor": 2
}

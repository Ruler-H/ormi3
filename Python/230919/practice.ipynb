{
 "cells": [
  {
   "cell_type": "code",
   "execution_count": 6,
   "metadata": {},
   "outputs": [
    {
     "name": "stdout",
     "output_type": "stream",
     "text": [
      "전\n",
      "a + b: 3\n",
      "Hello, World!\n",
      "후\n"
     ]
    }
   ],
   "source": [
    "def simple_decorator(function):\n",
    "    def wrapper(a, b, c):\n",
    "        print(\"전\")\n",
    "        function(a, b) # => hello(1, 2)\n",
    "        print(\"후\")\n",
    "    return wrapper\n",
    "\n",
    "@simple_decorator\n",
    "def hello(a, b):\n",
    "    print('a + b:', a + b)\n",
    "    print(\"Hello, World!\")\n",
    "\n",
    "hello(1, 2, 3) # 데코레이터가 없는 상태에서는 simple_decorator(hello)() 와 같습니다."
   ]
  },
  {
   "cell_type": "code",
   "execution_count": 10,
   "metadata": {},
   "outputs": [
    {
     "name": "stdout",
     "output_type": "stream",
     "text": [
      "앞\n",
      "후\n",
      "None\n"
     ]
    }
   ],
   "source": [
    "def simple_deco(func):      # def simple_deco(hello(a, b))\n",
    "    def wrapper(a, b):\n",
    "        print(\"앞\")\n",
    "        result = func(a, b)\n",
    "        print(\"후\")\n",
    "        return result\n",
    "    return wrapper\n",
    "\n",
    "@simple_deco\n",
    "def hello(a, b):\n",
    "    return a + b\n",
    "\n",
    "result = hello(1, 2)\n",
    "print(result)"
   ]
  },
  {
   "cell_type": "code",
   "execution_count": null,
   "metadata": {},
   "outputs": [],
   "source": [
    "def add(n): # 1차 인자는 데코레이터 옆에 있는 1000\n",
    "    def decorator(function): # 2차 인자는 데코레이터를 붙인 plus 함수 객체\n",
    "        def new_function(a, b): # 3차 인자는 plus를 호출할 때 인자로 넣은 10, 20\n",
    "            print(f'plus 함수가 {n}만큼 증가시키는 데코레이터가 시작됩니다.')\n",
    "            result = function(a, b)\n",
    "            print(f'plus 함수가 {n}만큼 증가시키는 데코레이터가 종료됩니다.')\n",
    "            return result + n\n",
    "        return new_function\n",
    "    return decorator\n",
    "\n",
    "@add(1000)\n",
    "def plus(a, b):\n",
    "    print('plus 함수가 호출되었습니다.')\n",
    "    return a + b\n",
    "\n",
    "result = plus(10, 20)\n",
    "print(f'result : {result}')"
   ]
  },
  {
   "cell_type": "code",
   "execution_count": 11,
   "metadata": {},
   "outputs": [
    {
     "name": "stdout",
     "output_type": "stream",
     "text": [
      "1\n",
      "2\n",
      "3\n",
      "4\n",
      "5\n"
     ]
    }
   ],
   "source": [
    "def my_generator(data):\n",
    "    for i in data:\n",
    "        yield i\n",
    "\n",
    "my_list = [1, 2, 3, 4, 5]\n",
    "my_iterator = my_generator(my_list) # -> my_generator([1, 2, 3, 4, 5])\n",
    "\n",
    "for i in my_iterator:\n",
    "    print(i)"
   ]
  },
  {
   "cell_type": "code",
   "execution_count": null,
   "metadata": {},
   "outputs": [],
   "source": [
    "class MyIterator:\n",
    "    def __init__(self, stop):\n",
    "        self.stop = stop\n",
    "\n",
    "    def __iter__(self):\n",
    "        self.current_value = 0  # __iter__에서 초기화\n",
    "        return self\n",
    "\n",
    "    def __next__(self):\n",
    "        if self.current_value >= self.stop:\n",
    "            raise StopIteration\n",
    "        result = self.current_value\n",
    "        self.current_value += 1\n",
    "        return result\n",
    "\n",
    "my_iterator = MyIterator(5)\n",
    "\n",
    "for i in my_iterator:\n",
    "    print(i)"
   ]
  },
  {
   "cell_type": "code",
   "execution_count": 16,
   "metadata": {},
   "outputs": [
    {
     "name": "stdout",
     "output_type": "stream",
     "text": [
      "0\n",
      "1\n",
      "2\n",
      "3\n",
      "4\n"
     ]
    }
   ],
   "source": [
    "def my_generator(data):\n",
    "    for i in range(data):\n",
    "        yield i # 대기 다음 __next__ 호출 전까지\n",
    "\n",
    "my_iterator = my_generator(5) # my_iterator -> 메모리 공간(my_generator(5))\n",
    "\n",
    "for i in my_iterator:\n",
    "    print(i)\n"
   ]
  },
  {
   "cell_type": "code",
   "execution_count": 19,
   "metadata": {},
   "outputs": [
    {
     "data": {
      "text/plain": [
       "'홀'"
      ]
     },
     "execution_count": 19,
     "metadata": {},
     "output_type": "execute_result"
    }
   ],
   "source": [
    "def my_generator():\n",
    "\twhile True:\n",
    "\t\tyield '홀' # 대기\n",
    "\t\tyield '짝'\n",
    "\n",
    "my_iterator = my_generator()\n",
    "my_iterator.__next__()\n",
    "my_iterator.__next__()\n",
    "my_iterator.__next__()"
   ]
  },
  {
   "cell_type": "code",
   "execution_count": 29,
   "metadata": {},
   "outputs": [
    {
     "data": {
      "text/plain": [
       "generator"
      ]
     },
     "execution_count": 29,
     "metadata": {},
     "output_type": "execute_result"
    }
   ],
   "source": [
    "def my_generator(data):\n",
    "    l = ['짝', '홀']\n",
    "    for i in range(data):\n",
    "        yield i\n",
    "my = my_generator(5)\n",
    "type(my)\n",
    "\n",
    "# list(zip([0, 1, 2, 3, 4, 5, 6], my_generator()))\n",
    "# list(range(500))\n",
    "# my_generator(500)"
   ]
  },
  {
   "cell_type": "code",
   "execution_count": null,
   "metadata": {},
   "outputs": [],
   "source": [
    "next\n",
    "대기\n"
   ]
  }
 ],
 "metadata": {
  "kernelspec": {
   "display_name": "Python 3",
   "language": "python",
   "name": "python3"
  },
  "language_info": {
   "codemirror_mode": {
    "name": "ipython",
    "version": 3
   },
   "file_extension": ".py",
   "mimetype": "text/x-python",
   "name": "python",
   "nbconvert_exporter": "python",
   "pygments_lexer": "ipython3",
   "version": "3.10.11"
  },
  "orig_nbformat": 4
 },
 "nbformat": 4,
 "nbformat_minor": 2
}

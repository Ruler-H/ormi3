{
 "cells": [
  {
   "cell_type": "markdown",
   "metadata": {},
   "source": [
    "# 데코레이터"
   ]
  },
  {
   "cell_type": "code",
   "execution_count": 9,
   "metadata": {},
   "outputs": [],
   "source": [
    "# 이런 식으로 우린 사용합니다.\n",
    "# login한 사용자만 게시판 읽도록\n",
    "# Django와 같은 프레임웤은 필요한 데코레이터는 미리 구현되어 있습니다.\n",
    "# 걱정하지 않으셔도 됩니다.\n",
    "def login(arg):\n",
    "    pass\n",
    "\n",
    "@login\n",
    "def 게시판읽기():\n",
    "    pass"
   ]
  },
  {
   "cell_type": "code",
   "execution_count": 1,
   "metadata": {},
   "outputs": [
    {
     "name": "stdout",
     "output_type": "stream",
     "text": [
      "Before the function call\n",
      "Hello, World!\n",
      "After the function call\n"
     ]
    }
   ],
   "source": [
    "def simple_decorator(function):\n",
    "    def wrapper():\n",
    "        print(\"Before the function call\")\n",
    "        function()\n",
    "        print(\"After the function call\")\n",
    "    return wrapper\n",
    "\n",
    "@simple_decorator\n",
    "def hello():\n",
    "    print(\"Hello, World!\")\n",
    "\n",
    "hello() # 데코레이터가 없는 상태에서는 simple_decorator(hello)() 와 같습니다."
   ]
  },
  {
   "cell_type": "code",
   "execution_count": 2,
   "metadata": {},
   "outputs": [
    {
     "ename": "TypeError",
     "evalue": "data_Preprocessing.<locals>.wrapper() takes 0 positional arguments but 1 was given",
     "output_type": "error",
     "traceback": [
      "\u001b[1;31m---------------------------------------------------------------------------\u001b[0m",
      "\u001b[1;31mTypeError\u001b[0m                                 Traceback (most recent call last)",
      "\u001b[1;32md:\\ormi3\\Python\\230920\\데코레이터.ipynb 셀 3\u001b[0m line \u001b[0;36m1\n\u001b[0;32m      <a href='vscode-notebook-cell:/d%3A/ormi3/Python/230920/%EB%8D%B0%EC%BD%94%EB%A0%88%EC%9D%B4%ED%84%B0.ipynb#W4sZmlsZQ%3D%3D?line=6'>7</a>\u001b[0m \u001b[39m@data_Preprocessing\u001b[39m\n\u001b[0;32m      <a href='vscode-notebook-cell:/d%3A/ormi3/Python/230920/%EB%8D%B0%EC%BD%94%EB%A0%88%EC%9D%B4%ED%84%B0.ipynb#W4sZmlsZQ%3D%3D?line=7'>8</a>\u001b[0m \u001b[39mdef\u001b[39;00m \u001b[39mmean\u001b[39m(data):\n\u001b[0;32m      <a href='vscode-notebook-cell:/d%3A/ormi3/Python/230920/%EB%8D%B0%EC%BD%94%EB%A0%88%EC%9D%B4%ED%84%B0.ipynb#W4sZmlsZQ%3D%3D?line=8'>9</a>\u001b[0m     \u001b[39mreturn\u001b[39;00m \u001b[39msum\u001b[39m(data)\u001b[39m/\u001b[39m\u001b[39mlen\u001b[39m(data)\n\u001b[1;32m---> <a href='vscode-notebook-cell:/d%3A/ormi3/Python/230920/%EB%8D%B0%EC%BD%94%EB%A0%88%EC%9D%B4%ED%84%B0.ipynb#W4sZmlsZQ%3D%3D?line=10'>11</a>\u001b[0m mean([\u001b[39m1\u001b[39;49m, \u001b[39m2\u001b[39;49m, \u001b[39m'\u001b[39;49m\u001b[39m3\u001b[39;49m\u001b[39m'\u001b[39;49m, \u001b[39m4\u001b[39;49m, \u001b[39m'\u001b[39;49m\u001b[39m5\u001b[39;49m\u001b[39m'\u001b[39;49m]) \u001b[39m# TypeError 발생\u001b[39;00m\n",
      "\u001b[1;31mTypeError\u001b[0m: data_Preprocessing.<locals>.wrapper() takes 0 positional arguments but 1 was given"
     ]
    }
   ],
   "source": [
    "# step 1\n",
    "def data_Preprocessing(function):\n",
    "    def wrapper():\n",
    "        pass\n",
    "    return wrapper\n",
    "\n",
    "@data_Preprocessing\n",
    "def mean(data):\n",
    "    return sum(data)/len(data)\n",
    "\n",
    "mean([1, 2, '3', 4, '5']) # TypeError 발생"
   ]
  },
  {
   "cell_type": "code",
   "execution_count": 3,
   "metadata": {},
   "outputs": [
    {
     "name": "stdout",
     "output_type": "stream",
     "text": [
      "[1, 2, '3', 4, '5']\n"
     ]
    }
   ],
   "source": [
    "# step 2\n",
    "def data_Preprocessing(function):\n",
    "    def wrapper(data):\n",
    "        print(data)\n",
    "    return wrapper\n",
    "\n",
    "@data_Preprocessing\n",
    "def mean(data):\n",
    "    return sum(data)/len(data)\n",
    "\n",
    "mean([1, 2, '3', 4, '5']) # 데이터만 출력하고 함수는 None을 반환"
   ]
  },
  {
   "cell_type": "code",
   "execution_count": 4,
   "metadata": {},
   "outputs": [
    {
     "data": {
      "text/plain": [
       "3.0"
      ]
     },
     "execution_count": 4,
     "metadata": {},
     "output_type": "execute_result"
    }
   ],
   "source": [
    "def data_Preprocessing(function):\n",
    "    def wrapper(data):\n",
    "        return function(list(map(int, data)))\n",
    "    return wrapper\n",
    "\n",
    "@data_Preprocessing\n",
    "def mean(data):\n",
    "    return sum(data)/len(data)\n",
    "\n",
    "mean([1, 2, '3', 4, '5']) # 데이터만 출력하고 함수는 None을 반환"
   ]
  },
  {
   "cell_type": "code",
   "execution_count": 8,
   "metadata": {},
   "outputs": [
    {
     "name": "stdout",
     "output_type": "stream",
     "text": [
      "[1, 2, '3', 4, '5']\n"
     ]
    }
   ],
   "source": [
    "def data_Preprocessing(function):\n",
    "    def wrapper1(data):\n",
    "        print(data)\n",
    "        # return function(list(map(int, data)))\n",
    "    def wrapper2(data):\n",
    "        print(data)\n",
    "        # return function(list(map(int, data)))\n",
    "    return wrapper2\n",
    "\n",
    "@data_Preprocessing\n",
    "def mean(data):\n",
    "    return sum(data)/len(data)\n",
    "\n",
    "mean([1, 2, '3', 4, '5']) # 데이터만 출력하고 함수는 None을 반환"
   ]
  },
  {
   "cell_type": "code",
   "execution_count": 11,
   "metadata": {},
   "outputs": [
    {
     "name": "stdout",
     "output_type": "stream",
     "text": [
      "add_exclamation 데코레이터 시작\n",
      "add_question_mark 데코레이터 시작\n",
      "add_dot 데코레이터 시작\n",
      "add_dot 데코레이터 종료\n",
      "add_question_mark 데코레이터 종료\n",
      "add_exclamation 데코레이터 종료\n"
     ]
    },
    {
     "data": {
      "text/plain": [
       "'Hello.?!'"
      ]
     },
     "execution_count": 11,
     "metadata": {},
     "output_type": "execute_result"
    }
   ],
   "source": [
    "def add_exclamation(function):\n",
    "    def wrapper(text):\n",
    "        print(f'add_exclamation 데코레이터 시작')\n",
    "        result = function(text) + \"!\"\n",
    "        print(f'add_exclamation 데코레이터 종료')\n",
    "        return result\n",
    "    return wrapper\n",
    "\n",
    "def add_question_mark(function):\n",
    "    def wrapper(text):\n",
    "        print(f'add_question_mark 데코레이터 시작')\n",
    "        result = function(text) + \"?\"\n",
    "        print(f'add_question_mark 데코레이터 종료')\n",
    "        return result\n",
    "    return wrapper\n",
    "\n",
    "def add_dot(function):\n",
    "    def wrapper(text):\n",
    "        print(f'add_dot 데코레이터 시작')\n",
    "        result = function(text) + \".\"\n",
    "        print(f'add_dot 데코레이터 종료')\n",
    "        return result\n",
    "    return wrapper\n",
    "\n",
    "@add_exclamation\n",
    "@add_question_mark\n",
    "@add_dot\n",
    "def greet(message):\n",
    "    return message\n",
    "\n",
    "greet(\"Hello\")"
   ]
  },
  {
   "cell_type": "code",
   "execution_count": 12,
   "metadata": {},
   "outputs": [
    {
     "name": "stdout",
     "output_type": "stream",
     "text": [
      "plus 함수가 1000만큼 증가시키는 데코레이터가 시작됩니다.\n",
      "plus 함수가 호출되었습니다.\n",
      "plus 함수가 1000만큼 증가시키는 데코레이터가 종료됩니다.\n",
      "result : 1030\n"
     ]
    }
   ],
   "source": [
    "def add(n):\n",
    "    def decorator(function):\n",
    "        def new_function(a, b):\n",
    "            print(f'plus 함수가 {n}만큼 증가시키는 데코레이터가 시작됩니다.')\n",
    "            result = function(a, b)\n",
    "            print(f'plus 함수가 {n}만큼 증가시키는 데코레이터가 종료됩니다.')\n",
    "            return result + n\n",
    "        return new_function\n",
    "    return decorator\n",
    "\n",
    "@add(1000)\n",
    "def plus(a, b):\n",
    "    print('plus 함수가 호출되었습니다.')\n",
    "    return a + b\n",
    "\n",
    "result = plus(10, 20)\n",
    "print(f'result : {result}')"
   ]
  },
  {
   "cell_type": "code",
   "execution_count": null,
   "metadata": {},
   "outputs": [],
   "source": []
  }
 ],
 "metadata": {
  "kernelspec": {
   "display_name": "Python 3",
   "language": "python",
   "name": "python3"
  },
  "language_info": {
   "codemirror_mode": {
    "name": "ipython",
    "version": 3
   },
   "file_extension": ".py",
   "mimetype": "text/x-python",
   "name": "python",
   "nbconvert_exporter": "python",
   "pygments_lexer": "ipython3",
   "version": "3.10.11"
  },
  "orig_nbformat": 4
 },
 "nbformat": 4,
 "nbformat_minor": 2
}

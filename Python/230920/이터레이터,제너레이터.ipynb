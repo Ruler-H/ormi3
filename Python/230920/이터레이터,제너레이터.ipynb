{
 "cells": [
  {
   "cell_type": "markdown",
   "metadata": {},
   "source": [
    "# 이터레이터"
   ]
  },
  {
   "cell_type": "code",
   "execution_count": 1,
   "metadata": {},
   "outputs": [
    {
     "name": "stdout",
     "output_type": "stream",
     "text": [
      "0\n",
      "1\n",
      "2\n",
      "3\n",
      "4\n"
     ]
    }
   ],
   "source": [
    "class MyIterator:\n",
    "    def __init__(self, stop):\n",
    "        self.current_value = 0  # 현재 값\n",
    "        self.stop = stop  # 순회를 멈출 값\n",
    "\n",
    "    def __iter__(self):\n",
    "        return self\n",
    "\n",
    "    def __next__(self):\n",
    "        if self.current_value >= self.stop:\n",
    "            raise StopIteration\n",
    "        result = self.current_value\n",
    "        self.current_value += 1\n",
    "        return result\n",
    "\n",
    "my_iterator = MyIterator(5)\n",
    "\n",
    "for i in my_iterator:\n",
    "    print(i)"
   ]
  },
  {
   "cell_type": "code",
   "execution_count": null,
   "metadata": {},
   "outputs": [],
   "source": [
    "class MyIterator:\n",
    "    def __init__(self, stop):\n",
    "        self.stop = stop  # 순회를 멈출 값\n",
    "\n",
    "    def __iter__(self):\n",
    "        self.current_value = 0  # 현재 값\n",
    "        return self\n",
    "\n",
    "    def __next__(self):\n",
    "        if self.current_value >= self.stop:\n",
    "            raise StopIteration\n",
    "        result = self.current_value\n",
    "        self.current_value += 1\n",
    "        return result\n",
    "\n",
    "my_iterator = MyIterator(5)\n",
    "\n",
    "for i in my_iterator:\n",
    "    print(i)\n",
    "\n",
    "for i in my_iterator:\n",
    "    print(i)"
   ]
  },
  {
   "cell_type": "markdown",
   "metadata": {},
   "source": [
    "# 제너레이터"
   ]
  },
  {
   "cell_type": "code",
   "execution_count": 5,
   "metadata": {},
   "outputs": [
    {
     "data": {
      "text/plain": [
       "88"
      ]
     },
     "execution_count": 5,
     "metadata": {},
     "output_type": "execute_result"
    }
   ],
   "source": [
    "def my_generator(data):\n",
    "    for i in data:\n",
    "        yield i * 10\n",
    "\n",
    "my_generator([1, 2, 3]).__sizeof__()"
   ]
  },
  {
   "cell_type": "code",
   "execution_count": 6,
   "metadata": {},
   "outputs": [
    {
     "name": "stdout",
     "output_type": "stream",
     "text": [
      "10\n",
      "1\n",
      "20\n",
      "2\n",
      "30\n",
      "3\n"
     ]
    }
   ],
   "source": [
    "def my_generator():\n",
    "\tx = 10\n",
    "\tyield x\n",
    "\tprint('1')\n",
    "\tx = 20\n",
    "\tyield x\n",
    "\tprint('2')\n",
    "\tx = 30\n",
    "\tyield x\n",
    "\tprint('3')\n",
    "\n",
    "for i in my_generator():\n",
    "\tprint(i)"
   ]
  },
  {
   "cell_type": "code",
   "execution_count": 8,
   "metadata": {},
   "outputs": [
    {
     "name": "stdout",
     "output_type": "stream",
     "text": [
      "The first value greater than 10000 is found: 10200\n"
     ]
    }
   ],
   "source": [
    "# 대규모 데이터셋에 대한 복잡한 연산을 수행하는 제너레이터 컴프리헨션\n",
    "gen = (x**2 + x*2 for x in range(1000000))\n",
    "\n",
    "# 제너레이터를 순회하며 필요한 연산만 수행\n",
    "for val in gen:\n",
    "    # ... (여러 가지 연산 수행)\n",
    "    if val > 10000:  # 값이 10000을 초과하는 경우 반복 중단\n",
    "        print(f\"The first value greater than 10000 is found: {val}\")\n",
    "        break\n",
    "# 출력 : The first value greater than 10000 is found: 10200"
   ]
  },
  {
   "cell_type": "markdown",
   "metadata": {},
   "source": [
    "# 연습문제"
   ]
  },
  {
   "cell_type": "code",
   "execution_count": null,
   "metadata": {},
   "outputs": [],
   "source": [
    "# 회전초밥집에 들어갔습니다. 초밥은 아래와 같은 양식으로 나옵니다.\n",
    "# [['광어초밥', 1000], ['연어초밥', 2000], ['계란초밥', 3000]]\n",
    "# * 각 초밥은 몇 개 나올지 알 수 없습니다.\n",
    "# * 각 초밥은 1000원씩 비싸집니다.\n",
    "# * 초밥에 '어'가 나오는 초밥만 먹습니다.\n",
    "# 내가 먹은 초밥의 비용을 계산하는 코드를 작성해 주세요.\n",
    "\n",
    "def solution(data):\n",
    "\tfor i in data:\n",
    "\t\tif '어' in i[0]:\n",
    "\t\t\tyield i[1]\n",
    "\t\telse:\n",
    "\t\t\treturn\n",
    "\n",
    "solution([['광어초밥', 1000], ['연어초밥', 2000], ['계란초밥', 3000], ['문어초밥', 4000], ['장어초밥', 5000]])"
   ]
  }
 ],
 "metadata": {
  "kernelspec": {
   "display_name": "Python 3",
   "language": "python",
   "name": "python3"
  },
  "language_info": {
   "codemirror_mode": {
    "name": "ipython",
    "version": 3
   },
   "file_extension": ".py",
   "mimetype": "text/x-python",
   "name": "python",
   "nbconvert_exporter": "python",
   "pygments_lexer": "ipython3",
   "version": "3.10.11"
  },
  "orig_nbformat": 4
 },
 "nbformat": 4,
 "nbformat_minor": 2
}

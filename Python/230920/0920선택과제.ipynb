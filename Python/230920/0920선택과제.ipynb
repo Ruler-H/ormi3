{
 "cells": [
  {
   "cell_type": "code",
   "execution_count": 5,
   "metadata": {},
   "outputs": [
    {
     "name": "stdout",
     "output_type": "stream",
     "text": [
      "1\n",
      "1\n",
      "2\n",
      "3\n",
      "5\n"
     ]
    },
    {
     "data": {
      "text/plain": [
       "'\\n출력\\n1\\n1\\n2\\n3\\n5\\n'"
      ]
     },
     "execution_count": 5,
     "metadata": {},
     "output_type": "execute_result"
    }
   ],
   "source": [
    "# 문제1\n",
    "# 다음과 같이 동작하는 제너레이터 함수 fibonacci(n)를 완성하세요. \n",
    "# 주어진 숫자 n까지의 피보나치 수열을 반환합니다.\n",
    "# 인터넷에서 피보나치 순열 Python 코드를 검색해보셔도 좋습니다.\n",
    "\n",
    "def fib(n):\n",
    "    fiboList = [1, 1]\n",
    "    yield 1\n",
    "    yield 1\n",
    "    for i in range(2, n):\n",
    "        fiboList.append(fiboList[i - 2] + fiboList[i - 1])\n",
    "        yield fiboList[i]\n",
    "\n",
    "for i in fib(5):\n",
    "    print(i)\n",
    "\n",
    "'''\n",
    "출력\n",
    "1\n",
    "1\n",
    "2\n",
    "3\n",
    "5\n",
    "'''\n",
    "\n",
    "# 문제2\n",
    "# 주어진 함수의 실행 시간을 측정하여 출력하는 데코레이터 time_it를 작성하세요. \n",
    "# (힌트: time 모듈의 time() 함수를 사용하세요.)\n",
    "import time\n",
    "\n",
    "def time_it(func):\n",
    "    def wrapper():\n",
    "        pre = time.time()\n",
    "        func()\n",
    "        post = time.time()\n",
    "        print(pre - post)\n",
    "    return wrapper"
   ]
  },
  {
   "cell_type": "code",
   "execution_count": null,
   "metadata": {},
   "outputs": [],
   "source": []
  }
 ],
 "metadata": {
  "kernelspec": {
   "display_name": "Python 3",
   "language": "python",
   "name": "python3"
  },
  "language_info": {
   "codemirror_mode": {
    "name": "ipython",
    "version": 3
   },
   "file_extension": ".py",
   "mimetype": "text/x-python",
   "name": "python",
   "nbconvert_exporter": "python",
   "pygments_lexer": "ipython3",
   "version": "3.10.11"
  },
  "orig_nbformat": 4
 },
 "nbformat": 4,
 "nbformat_minor": 2
}

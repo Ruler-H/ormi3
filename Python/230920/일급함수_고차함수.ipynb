{
 "cells": [
  {
   "cell_type": "markdown",
   "metadata": {},
   "source": [
    "# 일급함수와 고차함수"
   ]
  },
  {
   "cell_type": "code",
   "execution_count": 1,
   "metadata": {},
   "outputs": [
    {
     "name": "stdout",
     "output_type": "stream",
     "text": [
      "hello world\n"
     ]
    }
   ],
   "source": [
    "ruler = print\n",
    "ruler('hello world')"
   ]
  },
  {
   "cell_type": "code",
   "execution_count": 3,
   "metadata": {},
   "outputs": [],
   "source": [
    "class Cat:\n",
    "\tdef sound(self):\n",
    "\t\tprint('야옹')\n",
    "\n",
    "ruler = Cat()\n",
    "ruler_sound = ruler.sound"
   ]
  },
  {
   "cell_type": "code",
   "execution_count": 4,
   "metadata": {},
   "outputs": [
    {
     "name": "stdout",
     "output_type": "stream",
     "text": [
      "야옹\n"
     ]
    }
   ],
   "source": [
    "ruler_sound()"
   ]
  },
  {
   "cell_type": "code",
   "execution_count": 5,
   "metadata": {},
   "outputs": [
    {
     "data": {
      "text/plain": [
       "[10, 20, 30, 40]"
      ]
     },
     "execution_count": 5,
     "metadata": {},
     "output_type": "execute_result"
    }
   ],
   "source": [
    "l = [10, 20, 30]\n",
    "la = l.append\n",
    "la(40)\n",
    "l"
   ]
  },
  {
   "cell_type": "code",
   "execution_count": 6,
   "metadata": {},
   "outputs": [
    {
     "name": "stdout",
     "output_type": "stream",
     "text": [
      "5\n",
      "5\n",
      "5\n",
      "-1\n",
      "6\n",
      "0.6666666666666666\n"
     ]
    }
   ],
   "source": [
    "class Operator:\n",
    "    def add(self, x, y):\n",
    "        return x + y\n",
    "\n",
    "    def sub(self, x, y):\n",
    "        return x - y\n",
    "\n",
    "    def mul(self, x, y):\n",
    "        return x * y\n",
    "\n",
    "    def div(self, x, y):\n",
    "        return x / y\n",
    "\n",
    "    def _and(self, x, y):\n",
    "        pass\n",
    "\n",
    "    def _or(self, x, y):\n",
    "        pass\n",
    "\n",
    "op = Operator()\n",
    "logical_op = {\n",
    "    'add': op.add,\n",
    "    'sub': op.sub,\n",
    "    'mul': op.mul,\n",
    "    'div': op.div,\n",
    "}\n",
    "arithmetic_op = {\n",
    "    '_and': op._and,\n",
    "    '_or': op._or,\n",
    "}\n",
    "\n",
    "print(logical_op['add'](2, 3)) # 출력: 5\n",
    "print(op.add(2, 3)) # 출력: 5\n",
    "\n",
    "for _, f in logical_op.items():\n",
    "    print(f(2, 3)) # 4칙연산 모두 계산"
   ]
  },
  {
   "cell_type": "code",
   "execution_count": 7,
   "metadata": {},
   "outputs": [
    {
     "name": "stdout",
     "output_type": "stream",
     "text": [
      "야옹\n"
     ]
    }
   ],
   "source": [
    "def ruler_sound(p):\n",
    "\t# 함수 기능 10줄\n",
    "\tx = 10\n",
    "\ty = 10\n",
    "\tp('야옹')\n",
    "\n",
    "ruler_sound(print) # ruler_sound 안에 built-in function인 print를 인자로 넘김"
   ]
  },
  {
   "cell_type": "code",
   "execution_count": 11,
   "metadata": {},
   "outputs": [
    {
     "data": {
      "text/plain": [
       "314.0"
      ]
     },
     "execution_count": 11,
     "metadata": {},
     "output_type": "execute_result"
    }
   ],
   "source": [
    "def square(x):\n",
    "\treturn x ** 2\n",
    "\n",
    "def width_circle(r, s):\n",
    "\treturn s(r) * 3.14\n",
    "\n",
    "width_circle(10, square)\n"
   ]
  },
  {
   "cell_type": "code",
   "execution_count": 15,
   "metadata": {},
   "outputs": [
    {
     "name": "stdout",
     "output_type": "stream",
     "text": [
      "100\n",
      "1000\n"
     ]
    }
   ],
   "source": [
    "# 함수를 리턴값으로 반환\n",
    "def create_exponent(x):\n",
    "\tdef exponent(y):\n",
    "\t\treturn y ** x\n",
    "\treturn exponent\n",
    "\n",
    "exponent_2 = f(2)\n",
    "exponent_3 = f(3)\n",
    "print(exponent_2(10))\n",
    "print(exponent_3(10))"
   ]
  },
  {
   "cell_type": "code",
   "execution_count": 17,
   "metadata": {},
   "outputs": [
    {
     "name": "stdout",
     "output_type": "stream",
     "text": [
      "1667030796864\n",
      "1667030796864\n"
     ]
    }
   ],
   "source": [
    "def f():\n",
    "\tl = [10, 20, 30]\n",
    "\tprint(id(l))\n",
    "\treturn l\n",
    "\n",
    "sample = f()\n",
    "print(id(sample))"
   ]
  },
  {
   "cell_type": "code",
   "execution_count": null,
   "metadata": {},
   "outputs": [],
   "source": [
    "# 일급 함수: 함수를 일급객체(값, 주소)로 취급\n",
    "# 고차 함수: 함수를 아규먼트로 받거나 return 값으로 반환할 수 있는 함수"
   ]
  },
  {
   "cell_type": "markdown",
   "metadata": {},
   "source": [
    "# 연습문제"
   ]
  },
  {
   "cell_type": "code",
   "execution_count": 10,
   "metadata": {},
   "outputs": [
    {
     "data": {
      "text/plain": [
       "10.0"
      ]
     },
     "execution_count": 10,
     "metadata": {},
     "output_type": "execute_result"
    }
   ],
   "source": [
    "def find_hypotenuse(a, b, s, r):\n",
    "\treturn r(s(a) + s(b))\n",
    "\n",
    "def square(value):\n",
    "\treturn value ** 2\n",
    "\n",
    "def root(value):\n",
    "\treturn value ** 0.5\n",
    "\n",
    "find_hypotenuse(6, 8, square, root)"
   ]
  },
  {
   "cell_type": "code",
   "execution_count": null,
   "metadata": {},
   "outputs": [],
   "source": []
  }
 ],
 "metadata": {
  "kernelspec": {
   "display_name": "Python 3",
   "language": "python",
   "name": "python3"
  },
  "language_info": {
   "codemirror_mode": {
    "name": "ipython",
    "version": 3
   },
   "file_extension": ".py",
   "mimetype": "text/x-python",
   "name": "python",
   "nbconvert_exporter": "python",
   "pygments_lexer": "ipython3",
   "version": "3.10.11"
  },
  "orig_nbformat": 4
 },
 "nbformat": 4,
 "nbformat_minor": 2
}
